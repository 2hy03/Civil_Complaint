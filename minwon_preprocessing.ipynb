{
 "cells": [
  {
   "cell_type": "code",
   "execution_count": 1,
   "id": "37059528",
   "metadata": {},
   "outputs": [],
   "source": [
    "import re\n",
    "import pandas as pd\n",
    "from collections import Counter\n",
    "from konlpy.tag import Okt\n",
    "from nltk.corpus import stopwords\n",
    "from nltk.tokenize import word_tokenize"
   ]
  },
  {
   "cell_type": "code",
   "execution_count": null,
   "id": "f98c8efe",
   "metadata": {},
   "outputs": [],
   "source": [
    "#민원 목록\n",
    "minwonlist= pd.read_csv(\"minwonlist.csv\", index_col=0)\n",
    "minwonlist=minwonlist.drop_duplicates(subset=None, keep='first', inplace=False, ignore_index=False)\n",
    "##삭제 민원 제거\n",
    "a_rows = minwonlist[minwonlist['title'] == '[관리자에 의해 삭제되었습니다.]']\n",
    "minwonlist = minwonlist.drop(a_rows.index)"
   ]
  },
  {
   "cell_type": "code",
   "execution_count": null,
   "id": "f6cbdafc",
   "metadata": {},
   "outputs": [],
   "source": [
    "#민원 내용\n",
    "minwon1= pd.read_csv(\"minwon31.csv\", index_col=0)\n",
    "minwon2=pd.read_csv(\"minwon32.csv\", index_col=0)\n",
    "minwon3= pd.read_csv(\"minwon3251.csv\", index_col=0)\n",
    "minwon4= pd.read_csv(\"minwon5275.csv\", index_col=0)\n",
    "minwon5= pd.read_csv(\"minwon77.csv\", index_col=0)\n",
    "minwoncontents = pd.concat([minwon1,minwon2,minwon3,minwon4,minwon5])\n",
    "minwoncontents = minwoncontents.drop('page', axis=1)\n",
    "minwoncontents=minwoncontents.drop_duplicates(subset=None, keep='first', inplace=False, ignore_index=False)\n",
    "minwoncontents"
   ]
  },
  {
   "cell_type": "code",
   "execution_count": null,
   "id": "35fb2bd4",
   "metadata": {},
   "outputs": [],
   "source": [
    "merged_df = pd.merge(minwonlist, minwoncontents, on='title')"
   ]
  },
  {
   "cell_type": "code",
   "execution_count": null,
   "id": "1be09ffe",
   "metadata": {},
   "outputs": [],
   "source": [
    "#답변완료된 df\n",
    "##다부처병렬,이송이첩 상태 민원 제거\n",
    "merged_df=merged_df[merged_df['answer_x']=='답변완료']\n",
    "merged_df"
   ]
  },
  {
   "cell_type": "code",
   "execution_count": 2,
   "id": "33d7e8cc",
   "metadata": {},
   "outputs": [
    {
     "data": {
      "text/html": [
       "<div>\n",
       "<style scoped>\n",
       "    .dataframe tbody tr th:only-of-type {\n",
       "        vertical-align: middle;\n",
       "    }\n",
       "\n",
       "    .dataframe tbody tr th {\n",
       "        vertical-align: top;\n",
       "    }\n",
       "\n",
       "    .dataframe thead th {\n",
       "        text-align: right;\n",
       "    }\n",
       "</style>\n",
       "<table border=\"1\" class=\"dataframe\">\n",
       "  <thead>\n",
       "    <tr style=\"text-align: right;\">\n",
       "      <th></th>\n",
       "      <th>title</th>\n",
       "      <th>date</th>\n",
       "      <th>answer_x</th>\n",
       "      <th>content</th>\n",
       "      <th>answer_y</th>\n",
       "      <th>depart</th>\n",
       "    </tr>\n",
       "  </thead>\n",
       "  <tbody>\n",
       "    <tr>\n",
       "      <th>0</th>\n",
       "      <td>주차장이 너무 어두워요</td>\n",
       "      <td>2020.11.30</td>\n",
       "      <td>답변완료</td>\n",
       "      <td>중구 전동 25-328 번지옆  전동쉼터 옆  공영주차장이 야간에 너무 어두워요\\n...</td>\n",
       "      <td>1. 구정 발전에 관심을 가져주시는 귀하께 감사의 말씀을 드립니다.2. 민원 제기하...</td>\n",
       "      <td>도시재생국 교통운수과</td>\n",
       "    </tr>\n",
       "    <tr>\n",
       "      <th>1</th>\n",
       "      <td>뭐에요? 거잠포선착장 쓰레기 그대로잖아요? 하나도 안 되어있네요?</td>\n",
       "      <td>2020.11.29</td>\n",
       "      <td>답변완료</td>\n",
       "      <td>아니 거기 오는 사람들을 위해서 버스정류장을 만들고 해안 데크길을 설치 했으면 그런...</td>\n",
       "      <td>1. 안녕하십니까? 귀하께서 상담민원을 통해 신청하신 민원에 대한 검토 결과를 다음...</td>\n",
       "      <td>국제도시건설국 농수산과</td>\n",
       "    </tr>\n",
       "    <tr>\n",
       "      <th>2</th>\n",
       "      <td>9100번 광역버스 배차간격 준수 요청 건</td>\n",
       "      <td>2020.11.23</td>\n",
       "      <td>답변완료</td>\n",
       "      <td>집안 사정으로 서구에서 남동구를 들려서 9100번 버스를 통해 인천에서 서울로 출퇴...</td>\n",
       "      <td>불편사항이 해결됨</td>\n",
       "      <td>도시재생국 교통운수과</td>\n",
       "    </tr>\n",
       "    <tr>\n",
       "      <th>3</th>\n",
       "      <td>46번버스 신흥교통 정상이아닌 버스업체</td>\n",
       "      <td>2020.11.23</td>\n",
       "      <td>답변완료</td>\n",
       "      <td>46번버스 신흥교통 손님에게 막말하고 잘못하고도 사과전혀없고 그냥 배째라는식으로 직...</td>\n",
       "      <td>1. 교통 업무에 많은 관심과 애정을 가져주셔서 깊이 감사드립니다. 2. 귀하께서 ...</td>\n",
       "      <td>도시재생국 교통운수과</td>\n",
       "    </tr>\n",
       "    <tr>\n",
       "      <th>4</th>\n",
       "      <td>살려주세요 제발 요즘 가게 망하게 만드는 일들만 일어나네요..제발요(영종도 호텔)</td>\n",
       "      <td>2020.11.19</td>\n",
       "      <td>답변완료</td>\n",
       "      <td>요즘 전부 어렵죠?\\n영종도는 공항 상대로 영업을 하는 가게들이 많아서 특히나 더 ...</td>\n",
       "      <td>1. 구정 발전을 위해 관심을 가져주시는 귀하께 깊은 감사를 드립니다.2. 모두가 ...</td>\n",
       "      <td>국제도시건설국 도시공원과</td>\n",
       "    </tr>\n",
       "  </tbody>\n",
       "</table>\n",
       "</div>"
      ],
      "text/plain": [
       "                                           title        date answer_x  \\\n",
       "0                                   주차장이 너무 어두워요  2020.11.30     답변완료   \n",
       "1           뭐에요? 거잠포선착장 쓰레기 그대로잖아요? 하나도 안 되어있네요?  2020.11.29     답변완료   \n",
       "2                        9100번 광역버스 배차간격 준수 요청 건  2020.11.23     답변완료   \n",
       "3                          46번버스 신흥교통 정상이아닌 버스업체  2020.11.23     답변완료   \n",
       "4  살려주세요 제발 요즘 가게 망하게 만드는 일들만 일어나네요..제발요(영종도 호텔)  2020.11.19     답변완료   \n",
       "\n",
       "                                             content  \\\n",
       "0  중구 전동 25-328 번지옆  전동쉼터 옆  공영주차장이 야간에 너무 어두워요\\n...   \n",
       "1  아니 거기 오는 사람들을 위해서 버스정류장을 만들고 해안 데크길을 설치 했으면 그런...   \n",
       "2  집안 사정으로 서구에서 남동구를 들려서 9100번 버스를 통해 인천에서 서울로 출퇴...   \n",
       "3  46번버스 신흥교통 손님에게 막말하고 잘못하고도 사과전혀없고 그냥 배째라는식으로 직...   \n",
       "4  요즘 전부 어렵죠?\\n영종도는 공항 상대로 영업을 하는 가게들이 많아서 특히나 더 ...   \n",
       "\n",
       "                                            answer_y         depart  \n",
       "0  1. 구정 발전에 관심을 가져주시는 귀하께 감사의 말씀을 드립니다.2. 민원 제기하...    도시재생국 교통운수과  \n",
       "1  1. 안녕하십니까? 귀하께서 상담민원을 통해 신청하신 민원에 대한 검토 결과를 다음...   국제도시건설국 농수산과  \n",
       "2                                          불편사항이 해결됨    도시재생국 교통운수과  \n",
       "3  1. 교통 업무에 많은 관심과 애정을 가져주셔서 깊이 감사드립니다. 2. 귀하께서 ...    도시재생국 교통운수과  \n",
       "4  1. 구정 발전을 위해 관심을 가져주시는 귀하께 깊은 감사를 드립니다.2. 모두가 ...  국제도시건설국 도시공원과  "
      ]
     },
     "execution_count": 2,
     "metadata": {},
     "output_type": "execute_result"
    }
   ],
   "source": [
    "minwondata= pd.read_csv(\"minwon_df.csv\")\n",
    "minwondata.head()"
   ]
  },
  {
   "cell_type": "code",
   "execution_count": 3,
   "id": "d2ab1bda",
   "metadata": {},
   "outputs": [
    {
     "name": "stdout",
     "output_type": "stream",
     "text": [
      "<class 'pandas.core.frame.DataFrame'>\n",
      "RangeIndex: 1227 entries, 0 to 1226\n",
      "Data columns (total 6 columns):\n",
      " #   Column    Non-Null Count  Dtype \n",
      "---  ------    --------------  ----- \n",
      " 0   title     1227 non-null   object\n",
      " 1   date      1227 non-null   object\n",
      " 2   answer_x  1227 non-null   object\n",
      " 3   content   1227 non-null   object\n",
      " 4   answer_y  1226 non-null   object\n",
      " 5   depart    1227 non-null   object\n",
      "dtypes: object(6)\n",
      "memory usage: 57.6+ KB\n"
     ]
    }
   ],
   "source": [
    "minwondata.info()"
   ]
  },
  {
   "cell_type": "markdown",
   "id": "7c373c6a",
   "metadata": {},
   "source": [
    "## 담당 부서별 민원 확인"
   ]
  },
  {
   "cell_type": "code",
   "execution_count": 4,
   "id": "31e2233f",
   "metadata": {},
   "outputs": [],
   "source": [
    "#문장부호 제거\n",
    "##온점은 남기기, 뛰어쓰기 두개 이상은 하나로\n",
    "def remove_punctuation(text):\n",
    "    \"\"\"Remove punctuation from text\"\"\"\n",
    "    #clean_text = re.sub('[^ㄱ-ㅣ가-힣0-9a-zA-Z]+', ' ', text)\n",
    "    text=re.sub(r'[^\\w\\s.]', '', text)\n",
    "    text=text.replace('\\n', '')\n",
    "    text=re.sub('\\s+', ' ', text)\n",
    "    return text\n",
    "\n",
    "minwondata['content'] = minwondata['content'].apply(remove_punctuation)"
   ]
  },
  {
   "cell_type": "code",
   "execution_count": 5,
   "id": "965c4651",
   "metadata": {
    "scrolled": false
   },
   "outputs": [
    {
     "data": {
      "text/plain": [
       "영종용유지원단 친환경조성과    163\n",
       "도시재생국 건축과          48\n",
       "도시관리국 건설과          43\n",
       "지역개발국 교통운영과        41\n",
       "도시관리국 교통운수과        38\n",
       "                 ... \n",
       "행정복지국 복지과           1\n",
       "국제도시행정국 여성보육과       1\n",
       "국제도시행정국 도시행정과       1\n",
       "행정복지국 세무1과          1\n",
       "관광지원국 건설재난관리과       1\n",
       "Name: depart, Length: 111, dtype: int64"
      ]
     },
     "execution_count": 5,
     "metadata": {},
     "output_type": "execute_result"
    }
   ],
   "source": [
    "minwondata['depart'].value_counts()"
   ]
  },
  {
   "cell_type": "code",
   "execution_count": 6,
   "id": "17b61c9c",
   "metadata": {},
   "outputs": [
    {
     "data": {
      "text/html": [
       "<div>\n",
       "<style scoped>\n",
       "    .dataframe tbody tr th:only-of-type {\n",
       "        vertical-align: middle;\n",
       "    }\n",
       "\n",
       "    .dataframe tbody tr th {\n",
       "        vertical-align: top;\n",
       "    }\n",
       "\n",
       "    .dataframe thead th {\n",
       "        text-align: right;\n",
       "    }\n",
       "</style>\n",
       "<table border=\"1\" class=\"dataframe\">\n",
       "  <thead>\n",
       "    <tr style=\"text-align: right;\">\n",
       "      <th></th>\n",
       "      <th>title</th>\n",
       "      <th>date</th>\n",
       "      <th>answer_x</th>\n",
       "      <th>content</th>\n",
       "      <th>answer_y</th>\n",
       "      <th>depart</th>\n",
       "    </tr>\n",
       "  </thead>\n",
       "  <tbody>\n",
       "    <tr>\n",
       "      <th>0</th>\n",
       "      <td>주차장이 너무 어두워요</td>\n",
       "      <td>2020.11.30</td>\n",
       "      <td>답변완료</td>\n",
       "      <td>중구 전동 25328 번지옆 전동쉼터 옆 공영주차장이 야간에 너무 어두워요야간에는 ...</td>\n",
       "      <td>1. 구정 발전에 관심을 가져주시는 귀하께 감사의 말씀을 드립니다.2. 민원 제기하...</td>\n",
       "      <td>도시개발국 교통운수과</td>\n",
       "    </tr>\n",
       "    <tr>\n",
       "      <th>1</th>\n",
       "      <td>뭐에요? 거잠포선착장 쓰레기 그대로잖아요? 하나도 안 되어있네요?</td>\n",
       "      <td>2020.11.29</td>\n",
       "      <td>답변완료</td>\n",
       "      <td>아니 거기 오는 사람들을 위해서 버스정류장을 만들고 해안 데크길을 설치 했으면 그런...</td>\n",
       "      <td>1. 안녕하십니까? 귀하께서 상담민원을 통해 신청하신 민원에 대한 검토 결과를 다음...</td>\n",
       "      <td>국제도시건설국 농수산과</td>\n",
       "    </tr>\n",
       "    <tr>\n",
       "      <th>2</th>\n",
       "      <td>9100번 광역버스 배차간격 준수 요청 건</td>\n",
       "      <td>2020.11.23</td>\n",
       "      <td>답변완료</td>\n",
       "      <td>집안 사정으로 서구에서 남동구를 들려서 9100번 버스를 통해 인천에서 서울로 출퇴...</td>\n",
       "      <td>불편사항이 해결됨</td>\n",
       "      <td>도시개발국 교통운수과</td>\n",
       "    </tr>\n",
       "    <tr>\n",
       "      <th>3</th>\n",
       "      <td>46번버스 신흥교통 정상이아닌 버스업체</td>\n",
       "      <td>2020.11.23</td>\n",
       "      <td>답변완료</td>\n",
       "      <td>46번버스 신흥교통 손님에게 막말하고 잘못하고도 사과전혀없고 그냥 배째라는식으로 직...</td>\n",
       "      <td>1. 교통 업무에 많은 관심과 애정을 가져주셔서 깊이 감사드립니다. 2. 귀하께서 ...</td>\n",
       "      <td>도시개발국 교통운수과</td>\n",
       "    </tr>\n",
       "    <tr>\n",
       "      <th>4</th>\n",
       "      <td>살려주세요 제발 요즘 가게 망하게 만드는 일들만 일어나네요..제발요(영종도 호텔)</td>\n",
       "      <td>2020.11.19</td>\n",
       "      <td>답변완료</td>\n",
       "      <td>요즘 전부 어렵죠영종도는 공항 상대로 영업을 하는 가게들이 많아서 특히나 더 어렵습...</td>\n",
       "      <td>1. 구정 발전을 위해 관심을 가져주시는 귀하께 깊은 감사를 드립니다.2. 모두가 ...</td>\n",
       "      <td>국제도시건설국 도시공원과</td>\n",
       "    </tr>\n",
       "  </tbody>\n",
       "</table>\n",
       "</div>"
      ],
      "text/plain": [
       "                                           title        date answer_x  \\\n",
       "0                                   주차장이 너무 어두워요  2020.11.30     답변완료   \n",
       "1           뭐에요? 거잠포선착장 쓰레기 그대로잖아요? 하나도 안 되어있네요?  2020.11.29     답변완료   \n",
       "2                        9100번 광역버스 배차간격 준수 요청 건  2020.11.23     답변완료   \n",
       "3                          46번버스 신흥교통 정상이아닌 버스업체  2020.11.23     답변완료   \n",
       "4  살려주세요 제발 요즘 가게 망하게 만드는 일들만 일어나네요..제발요(영종도 호텔)  2020.11.19     답변완료   \n",
       "\n",
       "                                             content  \\\n",
       "0  중구 전동 25328 번지옆 전동쉼터 옆 공영주차장이 야간에 너무 어두워요야간에는 ...   \n",
       "1  아니 거기 오는 사람들을 위해서 버스정류장을 만들고 해안 데크길을 설치 했으면 그런...   \n",
       "2  집안 사정으로 서구에서 남동구를 들려서 9100번 버스를 통해 인천에서 서울로 출퇴...   \n",
       "3  46번버스 신흥교통 손님에게 막말하고 잘못하고도 사과전혀없고 그냥 배째라는식으로 직...   \n",
       "4  요즘 전부 어렵죠영종도는 공항 상대로 영업을 하는 가게들이 많아서 특히나 더 어렵습...   \n",
       "\n",
       "                                            answer_y         depart  \n",
       "0  1. 구정 발전에 관심을 가져주시는 귀하께 감사의 말씀을 드립니다.2. 민원 제기하...    도시개발국 교통운수과  \n",
       "1  1. 안녕하십니까? 귀하께서 상담민원을 통해 신청하신 민원에 대한 검토 결과를 다음...   국제도시건설국 농수산과  \n",
       "2                                          불편사항이 해결됨    도시개발국 교통운수과  \n",
       "3  1. 교통 업무에 많은 관심과 애정을 가져주셔서 깊이 감사드립니다. 2. 귀하께서 ...    도시개발국 교통운수과  \n",
       "4  1. 구정 발전을 위해 관심을 가져주시는 귀하께 깊은 감사를 드립니다.2. 모두가 ...  국제도시건설국 도시공원과  "
      ]
     },
     "execution_count": 6,
     "metadata": {},
     "output_type": "execute_result"
    }
   ],
   "source": [
    "#영종용유지원단 친환경조성과 관련 민원 삭제\n",
    "minwondata = minwondata[~minwondata['depart'].str.contains('영종')]\n",
    "\"\"\"minwondata = minwondata[minwondata['depart'] != '영종용유지원단 친환경조성과']\n",
    "minwondata = minwondata[minwondata['depart'] != '영종출장소']\n",
    "minwondata = minwondata[minwondata['depart'] != '영종용유지원단 기반시설과']\"\"\"\n",
    "# 2014년 전 민원존재\n",
    "minwondata = minwondata[~minwondata['depart'].str.contains('지역개발국')]\n",
    "\n",
    "#주민생활지원국 가정교육과 삭제 -> 토큰수 큼\n",
    "minwondata = minwondata[minwondata['depart'] != '주민생활지원국 가정교육과']\n",
    "\n",
    "#변경된 부서이름 변경(아마두?)\n",
    "minwondata['depart'] = minwondata['depart'].replace(\n",
    "    {'도시관리국 건설과': '도시개발국 건설과',\n",
    "     '도시재생국 건설과': '도시개발국 건설과',\n",
    "     '도시관리국 건축과': '도시개발국 건축과',\n",
    "     '도시재생국 건축과': '도시개발국 건축과',\n",
    "     '도시재생국 환경보호과':'도시개발국 환경보호과',\n",
    "     '도시관리국 교통운수과':'도시개발국 교통운수과',\n",
    "     '도시재생국 교통운수과':'도시개발국 교통운수과'})\n",
    "\n",
    "# 부서별 행의 수 계산\n",
    "counts = minwondata['depart'].value_counts()\n",
    "\n",
    "# 해당 부서별 행의 수가 10개 이상인 행만 선택하여 새로운 데이터프레임 생성\n",
    "minwondata = minwondata[minwondata['depart'].isin(counts[counts >= 10].index)]\n",
    "minwondata.head()\n"
   ]
  },
  {
   "cell_type": "code",
   "execution_count": 7,
   "id": "47c364c4",
   "metadata": {},
   "outputs": [
    {
     "data": {
      "text/plain": [
       "도시개발국 교통운수과       73\n",
       "도시개발국 건축과         68\n",
       "도시개발국 건설과         64\n",
       "국제도시건설국 기반시설과     29\n",
       "국제도시건설국 도시공원과     23\n",
       "기획감사실             18\n",
       "국제도시건설국 교통과       18\n",
       "도시개발국 환경보호과       18\n",
       "국제도시행정국 친환경조성과    17\n",
       "관광진흥실             17\n",
       "보건소 보건행정과         16\n",
       "주민생활지원국 청소과       15\n",
       "홍보체육진흥실           14\n",
       "주민생활지원국 환경관리과     13\n",
       "주민생활지원국 자원순환과     13\n",
       "도시관리국 교통행정과       13\n",
       "용유출장소             13\n",
       "보건소 건강증진과         13\n",
       "국제도시국 교통지적과       13\n",
       "국제도시건설국 농수산과      13\n",
       "국제도시국 기반시설과       12\n",
       "도시재생국 도시개발과       12\n",
       "운서동               11\n",
       "주민생활지원국 위생과       11\n",
       "Name: depart, dtype: int64"
      ]
     },
     "execution_count": 7,
     "metadata": {},
     "output_type": "execute_result"
    }
   ],
   "source": [
    "minwondata['depart'].value_counts()"
   ]
  },
  {
   "cell_type": "markdown",
   "id": "dee4e38e",
   "metadata": {},
   "source": [
    "## 임베딩 형태만들기"
   ]
  },
  {
   "attachments": {},
   "cell_type": "markdown",
   "id": "6ab3dd07",
   "metadata": {},
   "source": [
    "#### minwonDF <= title, content(+title), depart"
   ]
  },
  {
   "cell_type": "code",
   "execution_count": 9,
   "id": "0346fb47",
   "metadata": {},
   "outputs": [],
   "source": [
    "minwon=pd.DataFrame()\n",
    "minwon['title']=minwondata['title']"
   ]
  },
  {
   "cell_type": "code",
   "execution_count": 10,
   "id": "ad2e6a78",
   "metadata": {},
   "outputs": [],
   "source": [
    "# content에 title넣어줌.\n",
    "def combine_columns(row):\n",
    "    return '민원 내용:'+str(row['title'])+str(row['content'])\n",
    "\n",
    "# apply 함수를 사용하여 함수 적용\n",
    "minwon['content'] = minwondata.apply(combine_columns, axis=1)\n",
    "\n",
    "#민원 답변 추가\n",
    "minwon['answer']=minwondata['answer_y']\n",
    "\n",
    "#부서 추가\n",
    "minwon['depart']=minwondata['depart']"
   ]
  },
  {
   "cell_type": "code",
   "execution_count": 12,
   "id": "cb81009c",
   "metadata": {},
   "outputs": [],
   "source": [
    "stop_words = [\n",
    "    '제발','제발요', 'ㅠ', '아니','너무','또한','게다가','너무','완전','그리고','굉장히','또','다시','도대체','자주','많이','몇일전','어제',\n",
    "    '를','합니다','혹시','특히','더','안녕하세요','바로','습니','살려주세요'\n",
    "            ] # 삭제하고 싶은 단어 리스트\n",
    "\n",
    "for i, row in minwon.iterrows():\n",
    "    content = row['content']\n",
    "    for word in stop_words:\n",
    "        content = content.replace(word, \"\")\n",
    "    minwon.at[i, 'content'] = content\n"
   ]
  },
  {
   "cell_type": "code",
   "execution_count": 13,
   "id": "baa584c6",
   "metadata": {},
   "outputs": [],
   "source": [
    "#중복제거\n",
    "minwon.drop_duplicates(subset=['content'], inplace=True)"
   ]
  },
  {
   "cell_type": "code",
   "execution_count": 219,
   "id": "84a20256",
   "metadata": {},
   "outputs": [],
   "source": [
    "for i, row in minwon.iterrows():\n",
    "    if '첨부파일' in row['content']:\n",
    "        minwon.at[i, 'content'] = re.sub(r'첨부파일.*', '', row['content'])\n"
   ]
  },
  {
   "cell_type": "code",
   "execution_count": 220,
   "id": "d44e5568",
   "metadata": {},
   "outputs": [
    {
     "data": {
      "text/html": [
       "<div>\n",
       "<style scoped>\n",
       "    .dataframe tbody tr th:only-of-type {\n",
       "        vertical-align: middle;\n",
       "    }\n",
       "\n",
       "    .dataframe tbody tr th {\n",
       "        vertical-align: top;\n",
       "    }\n",
       "\n",
       "    .dataframe thead th {\n",
       "        text-align: right;\n",
       "    }\n",
       "</style>\n",
       "<table border=\"1\" class=\"dataframe\">\n",
       "  <thead>\n",
       "    <tr style=\"text-align: right;\">\n",
       "      <th></th>\n",
       "      <th>title</th>\n",
       "      <th>content</th>\n",
       "      <th>answer</th>\n",
       "      <th>depart</th>\n",
       "    </tr>\n",
       "  </thead>\n",
       "  <tbody>\n",
       "    <tr>\n",
       "      <th>0</th>\n",
       "      <td>주차장이 너무 어두워요</td>\n",
       "      <td>민원 내용:주차장이  어두워요중구 전동 25328 번지옆 전동쉼터 옆 공영주차장이 ...</td>\n",
       "      <td>1. 구정 발전에 관심을 가져주시는 귀하께 감사의 말씀을 드립니다.2. 민원 제기하...</td>\n",
       "      <td>도시개발국 교통운수과</td>\n",
       "    </tr>\n",
       "    <tr>\n",
       "      <th>1</th>\n",
       "      <td>뭐에요? 거잠포선착장 쓰레기 그대로잖아요? 하나도 안 되어있네요?</td>\n",
       "      <td>민원 내용:뭐에요? 거잠포선착장 쓰레기 그대로잖아요? 하나도 안 되어있네요? 거기 ...</td>\n",
       "      <td>1. 안녕하십니까? 귀하께서 상담민원을 통해 신청하신 민원에 대한 검토 결과를 다음...</td>\n",
       "      <td>국제도시건설국 농수산과</td>\n",
       "    </tr>\n",
       "    <tr>\n",
       "      <th>2</th>\n",
       "      <td>9100번 광역버스 배차간격 준수 요청 건</td>\n",
       "      <td>민원 내용:9100번 광역버스 배차간격 준수 요청 건집안 사정으로 서구에서 남동구 ...</td>\n",
       "      <td>불편사항이 해결됨</td>\n",
       "      <td>도시개발국 교통운수과</td>\n",
       "    </tr>\n",
       "    <tr>\n",
       "      <th>3</th>\n",
       "      <td>46번버스 신흥교통 정상이아닌 버스업체</td>\n",
       "      <td>민원 내용:46번버스 신흥교통 정상이아닌 버스업체46번버스 신흥교통 손님에게 막말하...</td>\n",
       "      <td>1. 교통 업무에 많은 관심과 애정을 가져주셔서 깊이 감사드립니다. 2. 귀하께서 ...</td>\n",
       "      <td>도시개발국 교통운수과</td>\n",
       "    </tr>\n",
       "    <tr>\n",
       "      <th>4</th>\n",
       "      <td>살려주세요 제발 요즘 가게 망하게 만드는 일들만 일어나네요..제발요(영종도 호텔)</td>\n",
       "      <td>민원 내용:  요즘 가게 망하게 만드는 일들만 일어나네요..요(영종도 호텔)요즘 전...</td>\n",
       "      <td>1. 구정 발전을 위해 관심을 가져주시는 귀하께 깊은 감사를 드립니다.2. 모두가 ...</td>\n",
       "      <td>국제도시건설국 도시공원과</td>\n",
       "    </tr>\n",
       "    <tr>\n",
       "      <th>...</th>\n",
       "      <td>...</td>\n",
       "      <td>...</td>\n",
       "      <td>...</td>\n",
       "      <td>...</td>\n",
       "    </tr>\n",
       "    <tr>\n",
       "      <th>1171</th>\n",
       "      <td>을왕리해수욕장 식당호객행위 및 주차장 장악</td>\n",
       "      <td>민원 내용:을왕리해수욕장 식당호객행위 및 주차장 장악결혼기념일을 맞아 주말 3월2일...</td>\n",
       "      <td>1. 먼저, 모처럼의 나들이에 을왕리해수욕장 내 호객행위로 인해 심려를 끼쳐 드린 ...</td>\n",
       "      <td>용유출장소</td>\n",
       "    </tr>\n",
       "    <tr>\n",
       "      <th>1184</th>\n",
       "      <td>영마루공원 풋살경기장 이용료 받아 소음방지시설 갖춰 주세요.</td>\n",
       "      <td>민원 내용:영마루공원 풋살경기장 이용료 받아 소음방지시설 갖춰 주세요.항상 구민 복...</td>\n",
       "      <td>새올 전자민원창구 민원상담 접수에 따라 붙임과 같이 답변하고자 합니다.붙 임 1. ...</td>\n",
       "      <td>홍보체육진흥실</td>\n",
       "    </tr>\n",
       "    <tr>\n",
       "      <th>1197</th>\n",
       "      <td>관내 보건소 명단 요청합니다.</td>\n",
       "      <td>민원 내용:관내 보건소 명단 요청.치과기공소 현황 문의 드립니다.의료관련 기관을 검...</td>\n",
       "      <td>○ 저희 보건행정 업무에 관심 가져 주신 점 감사드리며, 귀하께서 제기한 민원에 대...</td>\n",
       "      <td>보건소 건강증진과</td>\n",
       "    </tr>\n",
       "    <tr>\n",
       "      <th>1199</th>\n",
       "      <td>교통사고 위험지역</td>\n",
       "      <td>민원 내용:교통사고 위험지역덕교동에서 공항전망대 방향으로 가는길에 커브길이 많아 사...</td>\n",
       "      <td>귀하의 가정에 평화와 행복이 가득하시길 기원드리며, 건의하신 민원에 대해 답변드리겠...</td>\n",
       "      <td>용유출장소</td>\n",
       "    </tr>\n",
       "    <tr>\n",
       "      <th>1211</th>\n",
       "      <td>환경미화원 채용에 관한 질문</td>\n",
       "      <td>민원 내용:환경미화원 채용에 관한 질문환경미화원 채용에 관하여 물어 보고 싶다.다른...</td>\n",
       "      <td>안녕하십니까?먼저, 저희 구정 청소행정에 깊은 애정과 많은 관심을 가져주셔서 감사합...</td>\n",
       "      <td>주민생활지원국 청소과</td>\n",
       "    </tr>\n",
       "  </tbody>\n",
       "</table>\n",
       "<p>521 rows × 4 columns</p>\n",
       "</div>"
      ],
      "text/plain": [
       "                                              title  \\\n",
       "0                                      주차장이 너무 어두워요   \n",
       "1              뭐에요? 거잠포선착장 쓰레기 그대로잖아요? 하나도 안 되어있네요?   \n",
       "2                           9100번 광역버스 배차간격 준수 요청 건   \n",
       "3                             46번버스 신흥교통 정상이아닌 버스업체   \n",
       "4     살려주세요 제발 요즘 가게 망하게 만드는 일들만 일어나네요..제발요(영종도 호텔)   \n",
       "...                                             ...   \n",
       "1171                        을왕리해수욕장 식당호객행위 및 주차장 장악   \n",
       "1184              영마루공원 풋살경기장 이용료 받아 소음방지시설 갖춰 주세요.   \n",
       "1197                               관내 보건소 명단 요청합니다.   \n",
       "1199                                      교통사고 위험지역   \n",
       "1211                                환경미화원 채용에 관한 질문   \n",
       "\n",
       "                                                content  \\\n",
       "0     민원 내용:주차장이  어두워요중구 전동 25328 번지옆 전동쉼터 옆 공영주차장이 ...   \n",
       "1     민원 내용:뭐에요? 거잠포선착장 쓰레기 그대로잖아요? 하나도 안 되어있네요? 거기 ...   \n",
       "2     민원 내용:9100번 광역버스 배차간격 준수 요청 건집안 사정으로 서구에서 남동구 ...   \n",
       "3     민원 내용:46번버스 신흥교통 정상이아닌 버스업체46번버스 신흥교통 손님에게 막말하...   \n",
       "4     민원 내용:  요즘 가게 망하게 만드는 일들만 일어나네요..요(영종도 호텔)요즘 전...   \n",
       "...                                                 ...   \n",
       "1171  민원 내용:을왕리해수욕장 식당호객행위 및 주차장 장악결혼기념일을 맞아 주말 3월2일...   \n",
       "1184  민원 내용:영마루공원 풋살경기장 이용료 받아 소음방지시설 갖춰 주세요.항상 구민 복...   \n",
       "1197  민원 내용:관내 보건소 명단 요청.치과기공소 현황 문의 드립니다.의료관련 기관을 검...   \n",
       "1199  민원 내용:교통사고 위험지역덕교동에서 공항전망대 방향으로 가는길에 커브길이 많아 사...   \n",
       "1211  민원 내용:환경미화원 채용에 관한 질문환경미화원 채용에 관하여 물어 보고 싶다.다른...   \n",
       "\n",
       "                                                 answer         depart  \n",
       "0     1. 구정 발전에 관심을 가져주시는 귀하께 감사의 말씀을 드립니다.2. 민원 제기하...    도시개발국 교통운수과  \n",
       "1     1. 안녕하십니까? 귀하께서 상담민원을 통해 신청하신 민원에 대한 검토 결과를 다음...   국제도시건설국 농수산과  \n",
       "2                                             불편사항이 해결됨    도시개발국 교통운수과  \n",
       "3     1. 교통 업무에 많은 관심과 애정을 가져주셔서 깊이 감사드립니다. 2. 귀하께서 ...    도시개발국 교통운수과  \n",
       "4     1. 구정 발전을 위해 관심을 가져주시는 귀하께 깊은 감사를 드립니다.2. 모두가 ...  국제도시건설국 도시공원과  \n",
       "...                                                 ...            ...  \n",
       "1171  1. 먼저, 모처럼의 나들이에 을왕리해수욕장 내 호객행위로 인해 심려를 끼쳐 드린 ...          용유출장소  \n",
       "1184  새올 전자민원창구 민원상담 접수에 따라 붙임과 같이 답변하고자 합니다.붙 임 1. ...        홍보체육진흥실  \n",
       "1197  ○ 저희 보건행정 업무에 관심 가져 주신 점 감사드리며, 귀하께서 제기한 민원에 대...      보건소 건강증진과  \n",
       "1199  귀하의 가정에 평화와 행복이 가득하시길 기원드리며, 건의하신 민원에 대해 답변드리겠...          용유출장소  \n",
       "1211  안녕하십니까?먼저, 저희 구정 청소행정에 깊은 애정과 많은 관심을 가져주셔서 감사합...    주민생활지원국 청소과  \n",
       "\n",
       "[521 rows x 4 columns]"
      ]
     },
     "execution_count": 220,
     "metadata": {},
     "output_type": "execute_result"
    }
   ],
   "source": [
    "minwon.head()"
   ]
  },
  {
   "cell_type": "code",
   "execution_count": 221,
   "id": "e222e542",
   "metadata": {},
   "outputs": [],
   "source": [
    "minwon.to_csv(\"minwon.csv\", encoding='utf-8-sig',mode='w',index=False)"
   ]
  },
  {
   "cell_type": "markdown",
   "id": "94ff3000",
   "metadata": {},
   "source": [
    "----------"
   ]
  }
 ],
 "metadata": {
  "kernelspec": {
   "display_name": "Python 3 (ipykernel)",
   "language": "python",
   "name": "python3"
  },
  "language_info": {
   "codemirror_mode": {
    "name": "ipython",
    "version": 3
   },
   "file_extension": ".py",
   "mimetype": "text/x-python",
   "name": "python",
   "nbconvert_exporter": "python",
   "pygments_lexer": "ipython3",
   "version": "3.9.13"
  }
 },
 "nbformat": 4,
 "nbformat_minor": 5
}
