{
 "cells": [
  {
   "cell_type": "code",
   "execution_count": 2,
   "id": "ea87d2ff",
   "metadata": {},
   "outputs": [
    {
     "data": {
      "text/html": [
       "\n",
       "<style>\n",
       "    div#notebook-container    { width: 95%; }\n",
       "    div#menubar-container     { width: 95%; }\n",
       "    div#maintoolbar-container { width: 99%; }\n",
       "</style>\n"
      ],
      "text/plain": [
       "<IPython.core.display.HTML object>"
      ]
     },
     "metadata": {},
     "output_type": "display_data"
    }
   ],
   "source": [
    "from IPython.display import display, HTML\n",
    "display(HTML(data=\"\"\"\n",
    "<style>\n",
    "    div#notebook-container    { width: 95%; }\n",
    "    div#menubar-container     { width: 95%; }\n",
    "    div#maintoolbar-container { width: 99%; }\n",
    "</style>\n",
    "\"\"\"))"
   ]
  },
  {
   "cell_type": "code",
   "execution_count": 3,
   "id": "51a189a6",
   "metadata": {},
   "outputs": [],
   "source": [
    "import requests\n",
    "import pandas as pd\n",
    "import numpy as np\n",
    "import copy\n",
    "import json\n",
    "\n",
    "from ast import literal_eval\n",
    "\n",
    "import torch\n",
    "from sentence_transformers import SentenceTransformer, util\n",
    "from transformers import AutoTokenizer, AutoModel\n",
    "from transformers import OwlViTProcessor, OwlViTForObjectDetection\n",
    "from transformers import pipeline\n",
    "from transformers import GPT2TokenizerFast\n",
    "from PIL import Image\n",
    "\n",
    "import pickle"
   ]
  },
  {
   "cell_type": "code",
   "execution_count": 4,
   "id": "6d82beb7",
   "metadata": {},
   "outputs": [],
   "source": [
    "import matplotlib.pyplot as plt\n",
    "from typing import List, Tuple, Dict\n",
    "\n",
    "import sklearn.datasets as datasets\n",
    "import sklearn.manifold as manifold"
   ]
  },
  {
   "cell_type": "code",
   "execution_count": 5,
   "id": "c6ed0dc4",
   "metadata": {},
   "outputs": [],
   "source": [
    "import openai\n",
    "import os\n",
    "import sys\n",
    "import dotenv\n",
    "from dotenv import load_dotenv\n",
    "from sklearn.metrics.pairwise import cosine_similarity\n",
    "import tiktoken\n",
    "\n",
    "api_path=\"C:/Users/2hy03/gpt_test.env\"\n",
    "load_dotenv(api_path) # .env 파일에서 환경 변수 로드\n",
    "api_key = os.getenv(\"OPENAI_API_KEY\") # API 키 가져오기\n",
    "openai.api_key=os.getenv(\"OPENAI_API_KEY\") "
   ]
  },
  {
   "cell_type": "code",
   "execution_count": 70,
   "id": "d9d07dcf",
   "metadata": {},
   "outputs": [],
   "source": [
    "cur_os = sys.platform"
   ]
  },
  {
   "cell_type": "markdown",
   "id": "c409dd5d",
   "metadata": {},
   "source": [
    "# ChapGPT이용"
   ]
  },
  {
   "cell_type": "markdown",
   "id": "a845f068",
   "metadata": {},
   "source": [
    "- 3개의 chatgpt이용\n",
    "      - 1개는 민원을 요약하는 것\n",
    "      - 1개는 비슷한 유형의 민원을 찾는 것-> 답변생성\n",
    "           -embedding을 기반으로 유사도를 계산해 비슷한 민원의 정보를 가져옴\n",
    "           -민원 답변과 부서도 함께 loading\n",
    "           -> 민원 부서 전처리를 진행해야 부서추천 기능 추가 가능"
   ]
  },
  {
   "cell_type": "markdown",
   "id": "92e2f9d5",
   "metadata": {},
   "source": [
    "# 1.민원 요약"
   ]
  },
  {
   "cell_type": "markdown",
   "id": "a5eb8d9e",
   "metadata": {},
   "source": [
    "### 필요한 prompt 형태 설정\n",
    "\n",
    "- 요약의 경우, \n",
    "       민원내용: \"새로운 민원 input\"\n",
    "       상황: \"###\"\n",
    "       요약: \"###\""
   ]
  },
  {
   "cell_type": "code",
   "execution_count": 79,
   "id": "6d3a291f",
   "metadata": {},
   "outputs": [],
   "source": [
    "def print_summary(msg):\n",
    "    completion = openai.ChatCompletion.create(\n",
    "                    model=\"gpt-3.5-turbo\",\n",
    "                    messages=msg\n",
    "                    )\n",
    "    return completion['choices'][0]['message']['content']"
   ]
  },
  {
   "cell_type": "code",
   "execution_count": 94,
   "id": "a2236540",
   "metadata": {},
   "outputs": [
    {
     "name": "stdout",
     "output_type": "stream",
     "text": [
      "새로운 민원: 중구청 뒤 불법 주차 단속 요청. 아침 저녁으로 중구청 뒷길을 차량으로 이용하고 있다. 신포동 일대의 주차 단속은 꽤 철저한 편입니다. 제가 아는 지인도 주차 구역이 아닌 곳에 주차 후 주차 위반으로 여러번 범칙금을 내는 것을 봤다. 주차 구역 이외의 지역에 주차 하는 것은 여러 사람에게 불편을 초래하는 일로 당연히 철저하게 단속되어야 . 하지만 중구청 뒷길은 왜 이중 주차 허용하는지 궁금. 매일 그 길을 이용하면서 차량들이 엉키고 큰 트럭이 힘겹게 후진을 하는 일이 다반사입니다. 가장 어이없는 일은 차량들이 엉켜서 극심한 정체 빚고 있었을 때 주차 단속을 나오신 분이 어떠한 차량도 주차 단속하지 않고 차 후진하라는 말만 하고선 가군요. 정말 화가  났다. 그 골목은 주차단속을 하지 않는 구역인가요이런 일이 하루이틀 저만의 문제가 라서 주변 사람들에게 이야기해 보니 그 중구청 뒷골목의 차량들 대부분이 중구청 직원 차량이라는 이야기 들었다그래서 단속하지 않는다는 이야기도 들었다. 유독 중구청 뒤만 단속하지 않는 것으로 보아 이런 이야기가 나올만 .. 물론 이것은 확인되지 않은 사실이지만  이것이 사실이라면 요즘같이 1인 1차량 시대에 직원들을 위한 주차장이 구비되어야 한다고 봅니다. 이러한 불편을 그 지역을 지나다니는 사람들이 떠안을 이유는 없다고 봅니다.  하나 이렇게 민원을 넣어 봤자 일주일 단속한 뒤  원상대로 돌아간다는 이야기도 들었다. 저가 아이핀 인증까지 힘겹게 받아가지고 여기에 구구절절 민원을 남기는 이유는 잠깐만 불편을 해소하고자 올리는 것이 아닙니다. 근본적으로 문제가 해결되어서 중구청 뒷길에 이중주차 문제 불법 주차 문제가 해결되길 원하는 바입니다. 매번 그 길을 이용하면서 불편함이 아주 극심. 중구 지역의 불법 주차 문제 단속하고 편리 도모하는 중구청에서 먼저 모범을 보여 주었으면 . 이 문제가 근본적으로 해결되지 않는다면 다른 곳에 도움을 받아 해결해 볼 방법을 도모하겠다.\n"
     ]
    }
   ],
   "source": [
    "query = input(\"새로운 민원: \")"
   ]
  },
  {
   "cell_type": "code",
   "execution_count": 97,
   "id": "a1b3c890",
   "metadata": {
    "scrolled": true
   },
   "outputs": [],
   "source": [
    "messages = [\n",
    "    {\"role\": \"system\", \"content\": \"You are a bot that summarizes the complaints in Jung-gu, Incheon. summarize the situation and content of the new complaint. 모든 대답은 한글로.\"},\n",
    "    {\"role\": \"user\", \"content\" :\"새로운 민원:{} \\n상황: \\n요구사항: \\n상황과 요구사항을 작성해\".format(query)}\n",
    "]\n",
    "\n",
    "\n",
    "summary=print_summary(messages)"
   ]
  },
  {
   "cell_type": "code",
   "execution_count": 98,
   "id": "24c8d21f",
   "metadata": {},
   "outputs": [
    {
     "name": "stdout",
     "output_type": "stream",
     "text": [
      "중구청 뒤 불법 주차 단속 요청. 아침 저녁으로 중구청 뒷길을 차량으로 이용하고 있다. 신포동 일대의 주차 단속은 꽤 철저한 편입니다. 제가 아는 지인도 주차 구역이 아닌 곳에 주차 후 주차 위반으로 여러번 범칙금을 내는 것을 봤다. 주차 구역 이외의 지역에 주차 하는 것은 여러 사람에게 불편을 초래하는 일로 당연히 철저하게 단속되어야 . 하지만 중구청 뒷길은 왜 이중 주차 허용하는지 궁금. 매일 그 길을 이용하면서 차량들이 엉키고 큰 트럭이 힘겹게 후진을 하는 일이 다반사입니다. 가장 어이없는 일은 차량들이 엉켜서 극심한 정체 빚고 있었을 때 주차 단속을 나오신 분이 어떠한 차량도 주차 단속하지 않고 차 후진하라는 말만 하고선 가군요. 정말 화가  났다. 그 골목은 주차단속을 하지 않는 구역인가요이런 일이 하루이틀 저만의 문제가 라서 주변 사람들에게 이야기해 보니 그 중구청 뒷골목의 차량들 대부분이 중구청 직원 차량이라는 이야기 들었다그래서 단속하지 않는다는 이야기도 들었다. 유독 중구청 뒤만 단속하지 않는 것으로 보아 이런 이야기가 나올만 .. 물론 이것은 확인되지 않은 사실이지만  이것이 사실이라면 요즘같이 1인 1차량 시대에 직원들을 위한 주차장이 구비되어야 한다고 봅니다. 이러한 불편을 그 지역을 지나다니는 사람들이 떠안을 이유는 없다고 봅니다.  하나 이렇게 민원을 넣어 봤자 일주일 단속한 뒤  원상대로 돌아간다는 이야기도 들었다. 저가 아이핀 인증까지 힘겹게 받아가지고 여기에 구구절절 민원을 남기는 이유는 잠깐만 불편을 해소하고자 올리는 것이 아닙니다. 근본적으로 문제가 해결되어서 중구청 뒷길에 이중주차 문제 불법 주차 문제가 해결되길 원하는 바입니다. 매번 그 길을 이용하면서 불편함이 아주 극심. 중구 지역의 불법 주차 문제 단속하고 편리 도모하는 중구청에서 먼저 모범을 보여 주었으면 . 이 문제가 근본적으로 해결되지 않는다면 다른 곳에 도움을 받아 해결해 볼 방법을 도모하겠다.\n",
      "\n",
      "\n",
      "상황: 중구청 뒷길이 이중주차와 불법주차로 인해 차량들이 엉키고 큰 트럭이 힘겹게 후진하는 일이 빈번하게 발생하며, 주변 주차구역 이외의 지역에 주차하는 차들이 범칙금을 내는 사실이 발견되었습니다. 이에 대한 주차단속이 제대로 이루어지지 않는 것으로 파악되며, 중구청 직원 차량이 많다는 소문도 돌고 있습니다.\n",
      "\n",
      "요구사항: 중구청 뒷길이 주말이나 공휴일을 포함한 일주일간 단속되어, 이중주차와 불법주차 문제를 해결할 것을 요구합니다. 이는 차량들이 엉켜서 극심한 정체가 일어나며 불필요한 시간 낭비를 초래할 뿐만 아니라, 근처 거주자들에게 큰 불편을 초래하고 있기 때문입니다. 또한 중구청 직원들의 주차 차량과 일반 차량의 구분이 명확하게 이루어져야 하며, 중구청에서는 모범적인 주차문제 해결을 위한 대안을 마련할 필요가 있습니다.\n"
     ]
    }
   ],
   "source": [
    "print(query)\n",
    "print(\"\\n\")\n",
    "print(summary)"
   ]
  },
  {
   "cell_type": "markdown",
   "id": "5e4a0d19",
   "metadata": {},
   "source": [
    "# 2. 민원답변 생성"
   ]
  },
  {
   "cell_type": "markdown",
   "id": "546f34c1",
   "metadata": {},
   "source": [
    "## 임베딩"
   ]
  },
  {
   "cell_type": "markdown",
   "id": "51de4acc",
   "metadata": {},
   "source": [
    "## >BERT-base-uncased"
   ]
  },
  {
   "cell_type": "code",
   "execution_count": null,
   "id": "15394246",
   "metadata": {},
   "outputs": [],
   "source": [
    "#BERT기반->bert-base-uncased\n",
    "from transformers import AutoTokenizer, AutoModel\n",
    "import torch.nn.functional as F\n",
    "\n",
    "# BERT 모델과 토크나이저 로드\n",
    "tokenizer = AutoTokenizer.from_pretrained(\"bert-base-uncased\")\n",
    "model = AutoModel.from_pretrained(\"bert-base-uncased\")\n",
    "\n",
    "# 문장 입력받기\n",
    "sentence1 = \"The quick brown fox jumps over the lazy dog\"\n",
    "sentence2 = \"A quick brown fox jumps over a lazy dog\"\n",
    "\n",
    "# 토큰화 및 인코딩\n",
    "inputs1 = tokenizer.encode_plus(sentence1, add_special_tokens=True, return_tensors='pt')\n",
    "inputs2 = tokenizer.encode_plus(sentence2, add_special_tokens=True, return_tensors='pt')\n",
    "\n",
    "# 문장 임베딩 벡터 생성\n",
    "with torch.no_grad():\n",
    "    embeddings1 = model(inputs1['input_ids'], token_type_ids=None)[0].mean(dim=1)\n",
    "    embeddings2 = model(inputs2['input_ids'], token_type_ids=None)[0].mean(dim=1)\n",
    "\n",
    "# 코사인 유사도 계산\n",
    "similarity = F.cosine_similarity(embeddings1, embeddings2)\n",
    "print(similarity.item())\n"
   ]
  },
  {
   "cell_type": "markdown",
   "id": "d9fd5ec4",
   "metadata": {},
   "source": [
    "## > HuggingFace embedding"
   ]
  },
  {
   "cell_type": "markdown",
   "id": "a488508f",
   "metadata": {},
   "source": [
    "- DistilBERT(Distilled BERT) 모델\n",
    "\n",
    "    -BERT 모델의 경량화 버전\n",
    "    \n",
    "    -WordPiece 토크나이저 사용\n",
    "    \n",
    "    -BERT 모델보다 빠른 추론 속도와 적은 메모리 사용량\n",
    "    \n",
    "    -대용량 데이터가 없는 상황에서도 잘 작동함\n",
    "    "
   ]
  },
  {
   "cell_type": "code",
   "execution_count": 71,
   "id": "5f49b9b4",
   "metadata": {},
   "outputs": [],
   "source": [
    "model_path = f\"D:/github\" if cur_os.startswith('win') else None"
   ]
  },
  {
   "cell_type": "code",
   "execution_count": 72,
   "id": "00efe60c",
   "metadata": {
    "scrolled": false
   },
   "outputs": [
    {
     "name": "stdout",
     "output_type": "stream",
     "text": [
      "(521, 4)\n"
     ]
    },
    {
     "data": {
      "text/html": [
       "<div>\n",
       "<style scoped>\n",
       "    .dataframe tbody tr th:only-of-type {\n",
       "        vertical-align: middle;\n",
       "    }\n",
       "\n",
       "    .dataframe tbody tr th {\n",
       "        vertical-align: top;\n",
       "    }\n",
       "\n",
       "    .dataframe thead th {\n",
       "        text-align: right;\n",
       "    }\n",
       "</style>\n",
       "<table border=\"1\" class=\"dataframe\">\n",
       "  <thead>\n",
       "    <tr style=\"text-align: right;\">\n",
       "      <th></th>\n",
       "      <th>title</th>\n",
       "      <th>content</th>\n",
       "      <th>answer</th>\n",
       "      <th>depart</th>\n",
       "    </tr>\n",
       "  </thead>\n",
       "  <tbody>\n",
       "    <tr>\n",
       "      <th>0</th>\n",
       "      <td>주차장이 너무 어두워요</td>\n",
       "      <td>민원 내용:주차장이  어두워요중구 전동 25328 번지옆 전동쉼터 옆 공영주차장이 ...</td>\n",
       "      <td>1. 구정 발전에 관심을 가져주시는 귀하께 감사의 말씀을 드립니다.2. 민원 제기하...</td>\n",
       "      <td>도시개발국 교통운수과</td>\n",
       "    </tr>\n",
       "    <tr>\n",
       "      <th>1</th>\n",
       "      <td>뭐에요? 거잠포선착장 쓰레기 그대로잖아요? 하나도 안 되어있네요?</td>\n",
       "      <td>민원 내용:뭐에요? 거잠포선착장 쓰레기 그대로잖아요? 하나도 안 되어있네요? 거기 ...</td>\n",
       "      <td>1. 안녕하십니까? 귀하께서 상담민원을 통해 신청하신 민원에 대한 검토 결과를 다음...</td>\n",
       "      <td>국제도시건설국 농수산과</td>\n",
       "    </tr>\n",
       "    <tr>\n",
       "      <th>2</th>\n",
       "      <td>9100번 광역버스 배차간격 준수 요청 건</td>\n",
       "      <td>민원 내용:9100번 광역버스 배차간격 준수 요청 건집안 사정으로 서구에서 남동구 ...</td>\n",
       "      <td>불편사항이 해결됨</td>\n",
       "      <td>도시개발국 교통운수과</td>\n",
       "    </tr>\n",
       "    <tr>\n",
       "      <th>3</th>\n",
       "      <td>46번버스 신흥교통 정상이아닌 버스업체</td>\n",
       "      <td>민원 내용:46번버스 신흥교통 정상이아닌 버스업체46번버스 신흥교통 손님에게 막말하...</td>\n",
       "      <td>1. 교통 업무에 많은 관심과 애정을 가져주셔서 깊이 감사드립니다. 2. 귀하께서 ...</td>\n",
       "      <td>도시개발국 교통운수과</td>\n",
       "    </tr>\n",
       "    <tr>\n",
       "      <th>4</th>\n",
       "      <td>살려주세요 제발 요즘 가게 망하게 만드는 일들만 일어나네요..제발요(영종도 호텔)</td>\n",
       "      <td>민원 내용:  요즘 가게 망하게 만드는 일들만 일어나네요..요(영종도 호텔)요즘 전...</td>\n",
       "      <td>1. 구정 발전을 위해 관심을 가져주시는 귀하께 깊은 감사를 드립니다.2. 모두가 ...</td>\n",
       "      <td>국제도시건설국 도시공원과</td>\n",
       "    </tr>\n",
       "  </tbody>\n",
       "</table>\n",
       "</div>"
      ],
      "text/plain": [
       "                                           title  \\\n",
       "0                                   주차장이 너무 어두워요   \n",
       "1           뭐에요? 거잠포선착장 쓰레기 그대로잖아요? 하나도 안 되어있네요?   \n",
       "2                        9100번 광역버스 배차간격 준수 요청 건   \n",
       "3                          46번버스 신흥교통 정상이아닌 버스업체   \n",
       "4  살려주세요 제발 요즘 가게 망하게 만드는 일들만 일어나네요..제발요(영종도 호텔)   \n",
       "\n",
       "                                             content  \\\n",
       "0  민원 내용:주차장이  어두워요중구 전동 25328 번지옆 전동쉼터 옆 공영주차장이 ...   \n",
       "1  민원 내용:뭐에요? 거잠포선착장 쓰레기 그대로잖아요? 하나도 안 되어있네요? 거기 ...   \n",
       "2  민원 내용:9100번 광역버스 배차간격 준수 요청 건집안 사정으로 서구에서 남동구 ...   \n",
       "3  민원 내용:46번버스 신흥교통 정상이아닌 버스업체46번버스 신흥교통 손님에게 막말하...   \n",
       "4  민원 내용:  요즘 가게 망하게 만드는 일들만 일어나네요..요(영종도 호텔)요즘 전...   \n",
       "\n",
       "                                              answer         depart  \n",
       "0  1. 구정 발전에 관심을 가져주시는 귀하께 감사의 말씀을 드립니다.2. 민원 제기하...    도시개발국 교통운수과  \n",
       "1  1. 안녕하십니까? 귀하께서 상담민원을 통해 신청하신 민원에 대한 검토 결과를 다음...   국제도시건설국 농수산과  \n",
       "2                                          불편사항이 해결됨    도시개발국 교통운수과  \n",
       "3  1. 교통 업무에 많은 관심과 애정을 가져주셔서 깊이 감사드립니다. 2. 귀하께서 ...    도시개발국 교통운수과  \n",
       "4  1. 구정 발전을 위해 관심을 가져주시는 귀하께 깊은 감사를 드립니다.2. 모두가 ...  국제도시건설국 도시공원과  "
      ]
     },
     "execution_count": 72,
     "metadata": {},
     "output_type": "execute_result"
    }
   ],
   "source": [
    "minwon_metadata= pd.read_csv('minwon.csv', sep=\",\", dtype=str)\n",
    "print(minwon_metadata.shape)\n",
    "minwon_metadata.head()"
   ]
  },
  {
   "cell_type": "code",
   "execution_count": 8,
   "id": "1333d437",
   "metadata": {},
   "outputs": [],
   "source": [
    "from sentence_transformers import SentenceTransformer\n",
    "model = SentenceTransformer('paraphrase-distilroberta-base-v2')"
   ]
  },
  {
   "cell_type": "code",
   "execution_count": null,
   "id": "837250ba",
   "metadata": {},
   "outputs": [],
   "source": [
    "minwon_metadata['hf_embeddings'] = minwon_metadata['content'].apply(lambda x : model.encode(x))\n",
    "minwon_metadata.shape"
   ]
  },
  {
   "cell_type": "code",
   "execution_count": null,
   "id": "2e3f0e2c",
   "metadata": {},
   "outputs": [],
   "source": [
    "minwon_metadata.head()"
   ]
  },
  {
   "cell_type": "code",
   "execution_count": 123,
   "id": "280083f0",
   "metadata": {},
   "outputs": [],
   "source": [
    "minwon_metadata.to_csv('minwon_metadata_hfem.csv',encoding='utf-8-sig',index=False)"
   ]
  },
  {
   "cell_type": "markdown",
   "id": "60e0b000",
   "metadata": {},
   "source": [
    "-----"
   ]
  },
  {
   "cell_type": "markdown",
   "id": "e8d9591a",
   "metadata": {},
   "source": [
    "## > OpenAI Embedding"
   ]
  },
  {
   "cell_type": "code",
   "execution_count": 73,
   "id": "5769cf64",
   "metadata": {},
   "outputs": [
    {
     "data": {
      "text/html": [
       "<div>\n",
       "<style scoped>\n",
       "    .dataframe tbody tr th:only-of-type {\n",
       "        vertical-align: middle;\n",
       "    }\n",
       "\n",
       "    .dataframe tbody tr th {\n",
       "        vertical-align: top;\n",
       "    }\n",
       "\n",
       "    .dataframe thead th {\n",
       "        text-align: right;\n",
       "    }\n",
       "</style>\n",
       "<table border=\"1\" class=\"dataframe\">\n",
       "  <thead>\n",
       "    <tr style=\"text-align: right;\">\n",
       "      <th></th>\n",
       "      <th>title</th>\n",
       "      <th>content</th>\n",
       "      <th>answer</th>\n",
       "      <th>depart</th>\n",
       "    </tr>\n",
       "  </thead>\n",
       "  <tbody>\n",
       "    <tr>\n",
       "      <th>0</th>\n",
       "      <td>주차장이 너무 어두워요</td>\n",
       "      <td>민원 내용:주차장이  어두워요중구 전동 25328 번지옆 전동쉼터 옆 공영주차장이 ...</td>\n",
       "      <td>1. 구정 발전에 관심을 가져주시는 귀하께 감사의 말씀을 드립니다.2. 민원 제기하...</td>\n",
       "      <td>도시개발국 교통운수과</td>\n",
       "    </tr>\n",
       "    <tr>\n",
       "      <th>1</th>\n",
       "      <td>뭐에요? 거잠포선착장 쓰레기 그대로잖아요? 하나도 안 되어있네요?</td>\n",
       "      <td>민원 내용:뭐에요? 거잠포선착장 쓰레기 그대로잖아요? 하나도 안 되어있네요? 거기 ...</td>\n",
       "      <td>1. 안녕하십니까? 귀하께서 상담민원을 통해 신청하신 민원에 대한 검토 결과를 다음...</td>\n",
       "      <td>국제도시건설국 농수산과</td>\n",
       "    </tr>\n",
       "    <tr>\n",
       "      <th>2</th>\n",
       "      <td>9100번 광역버스 배차간격 준수 요청 건</td>\n",
       "      <td>민원 내용:9100번 광역버스 배차간격 준수 요청 건집안 사정으로 서구에서 남동구 ...</td>\n",
       "      <td>불편사항이 해결됨</td>\n",
       "      <td>도시개발국 교통운수과</td>\n",
       "    </tr>\n",
       "    <tr>\n",
       "      <th>3</th>\n",
       "      <td>46번버스 신흥교통 정상이아닌 버스업체</td>\n",
       "      <td>민원 내용:46번버스 신흥교통 정상이아닌 버스업체46번버스 신흥교통 손님에게 막말하...</td>\n",
       "      <td>1. 교통 업무에 많은 관심과 애정을 가져주셔서 깊이 감사드립니다. 2. 귀하께서 ...</td>\n",
       "      <td>도시개발국 교통운수과</td>\n",
       "    </tr>\n",
       "    <tr>\n",
       "      <th>4</th>\n",
       "      <td>살려주세요 제발 요즘 가게 망하게 만드는 일들만 일어나네요..제발요(영종도 호텔)</td>\n",
       "      <td>민원 내용:  요즘 가게 망하게 만드는 일들만 일어나네요..요(영종도 호텔)요즘 전...</td>\n",
       "      <td>1. 구정 발전을 위해 관심을 가져주시는 귀하께 깊은 감사를 드립니다.2. 모두가 ...</td>\n",
       "      <td>국제도시건설국 도시공원과</td>\n",
       "    </tr>\n",
       "  </tbody>\n",
       "</table>\n",
       "</div>"
      ],
      "text/plain": [
       "                                           title  \\\n",
       "0                                   주차장이 너무 어두워요   \n",
       "1           뭐에요? 거잠포선착장 쓰레기 그대로잖아요? 하나도 안 되어있네요?   \n",
       "2                        9100번 광역버스 배차간격 준수 요청 건   \n",
       "3                          46번버스 신흥교통 정상이아닌 버스업체   \n",
       "4  살려주세요 제발 요즘 가게 망하게 만드는 일들만 일어나네요..제발요(영종도 호텔)   \n",
       "\n",
       "                                             content  \\\n",
       "0  민원 내용:주차장이  어두워요중구 전동 25328 번지옆 전동쉼터 옆 공영주차장이 ...   \n",
       "1  민원 내용:뭐에요? 거잠포선착장 쓰레기 그대로잖아요? 하나도 안 되어있네요? 거기 ...   \n",
       "2  민원 내용:9100번 광역버스 배차간격 준수 요청 건집안 사정으로 서구에서 남동구 ...   \n",
       "3  민원 내용:46번버스 신흥교통 정상이아닌 버스업체46번버스 신흥교통 손님에게 막말하...   \n",
       "4  민원 내용:  요즘 가게 망하게 만드는 일들만 일어나네요..요(영종도 호텔)요즘 전...   \n",
       "\n",
       "                                              answer         depart  \n",
       "0  1. 구정 발전에 관심을 가져주시는 귀하께 감사의 말씀을 드립니다.2. 민원 제기하...    도시개발국 교통운수과  \n",
       "1  1. 안녕하십니까? 귀하께서 상담민원을 통해 신청하신 민원에 대한 검토 결과를 다음...   국제도시건설국 농수산과  \n",
       "2                                          불편사항이 해결됨    도시개발국 교통운수과  \n",
       "3  1. 교통 업무에 많은 관심과 애정을 가져주셔서 깊이 감사드립니다. 2. 귀하께서 ...    도시개발국 교통운수과  \n",
       "4  1. 구정 발전을 위해 관심을 가져주시는 귀하께 깊은 감사를 드립니다.2. 모두가 ...  국제도시건설국 도시공원과  "
      ]
     },
     "execution_count": 73,
     "metadata": {},
     "output_type": "execute_result"
    }
   ],
   "source": [
    "minwon_metadata= pd.read_csv('minwon.csv', sep=\",\", dtype=str)\n",
    "df=minwon_metadata"
   ]
  },
  {
   "cell_type": "code",
   "execution_count": 74,
   "id": "6d2cb3e1",
   "metadata": {
    "scrolled": true
   },
   "outputs": [
    {
     "data": {
      "text/html": [
       "<div>\n",
       "<style scoped>\n",
       "    .dataframe tbody tr th:only-of-type {\n",
       "        vertical-align: middle;\n",
       "    }\n",
       "\n",
       "    .dataframe tbody tr th {\n",
       "        vertical-align: top;\n",
       "    }\n",
       "\n",
       "    .dataframe thead th {\n",
       "        text-align: right;\n",
       "    }\n",
       "</style>\n",
       "<table border=\"1\" class=\"dataframe\">\n",
       "  <thead>\n",
       "    <tr style=\"text-align: right;\">\n",
       "      <th></th>\n",
       "      <th>content</th>\n",
       "      <th>answer</th>\n",
       "      <th>depart</th>\n",
       "      <th>tokens</th>\n",
       "    </tr>\n",
       "    <tr>\n",
       "      <th>title</th>\n",
       "      <th></th>\n",
       "      <th></th>\n",
       "      <th></th>\n",
       "      <th></th>\n",
       "    </tr>\n",
       "  </thead>\n",
       "  <tbody>\n",
       "    <tr>\n",
       "      <th>주차장이 너무 어두워요</th>\n",
       "      <td>민원 내용:주차장이  어두워요중구 전동 25328 번지옆 전동쉼터 옆 공영주차장이 ...</td>\n",
       "      <td>1. 구정 발전에 관심을 가져주시는 귀하께 감사의 말씀을 드립니다.2. 민원 제기하...</td>\n",
       "      <td>도시개발국 교통운수과</td>\n",
       "      <td>85</td>\n",
       "    </tr>\n",
       "    <tr>\n",
       "      <th>뭐에요? 거잠포선착장 쓰레기 그대로잖아요? 하나도 안 되어있네요?</th>\n",
       "      <td>민원 내용:뭐에요? 거잠포선착장 쓰레기 그대로잖아요? 하나도 안 되어있네요? 거기 ...</td>\n",
       "      <td>1. 안녕하십니까? 귀하께서 상담민원을 통해 신청하신 민원에 대한 검토 결과를 다음...</td>\n",
       "      <td>국제도시건설국 농수산과</td>\n",
       "      <td>1097</td>\n",
       "    </tr>\n",
       "    <tr>\n",
       "      <th>9100번 광역버스 배차간격 준수 요청 건</th>\n",
       "      <td>민원 내용:9100번 광역버스 배차간격 준수 요청 건집안 사정으로 서구에서 남동구 ...</td>\n",
       "      <td>불편사항이 해결됨</td>\n",
       "      <td>도시개발국 교통운수과</td>\n",
       "      <td>555</td>\n",
       "    </tr>\n",
       "    <tr>\n",
       "      <th>46번버스 신흥교통 정상이아닌 버스업체</th>\n",
       "      <td>민원 내용:46번버스 신흥교통 정상이아닌 버스업체46번버스 신흥교통 손님에게 막말하...</td>\n",
       "      <td>1. 교통 업무에 많은 관심과 애정을 가져주셔서 깊이 감사드립니다. 2. 귀하께서 ...</td>\n",
       "      <td>도시개발국 교통운수과</td>\n",
       "      <td>236</td>\n",
       "    </tr>\n",
       "    <tr>\n",
       "      <th>살려주세요 제발 요즘 가게 망하게 만드는 일들만 일어나네요..제발요(영종도 호텔)</th>\n",
       "      <td>민원 내용:  요즘 가게 망하게 만드는 일들만 일어나네요..요(영종도 호텔)요즘 전...</td>\n",
       "      <td>1. 구정 발전을 위해 관심을 가져주시는 귀하께 깊은 감사를 드립니다.2. 모두가 ...</td>\n",
       "      <td>국제도시건설국 도시공원과</td>\n",
       "      <td>1490</td>\n",
       "    </tr>\n",
       "  </tbody>\n",
       "</table>\n",
       "</div>"
      ],
      "text/plain": [
       "                                                                                         content  \\\n",
       "title                                                                                              \n",
       "주차장이 너무 어두워요                                   민원 내용:주차장이  어두워요중구 전동 25328 번지옆 전동쉼터 옆 공영주차장이 ...   \n",
       "뭐에요? 거잠포선착장 쓰레기 그대로잖아요? 하나도 안 되어있네요?           민원 내용:뭐에요? 거잠포선착장 쓰레기 그대로잖아요? 하나도 안 되어있네요? 거기 ...   \n",
       "9100번 광역버스 배차간격 준수 요청 건                        민원 내용:9100번 광역버스 배차간격 준수 요청 건집안 사정으로 서구에서 남동구 ...   \n",
       "46번버스 신흥교통 정상이아닌 버스업체                          민원 내용:46번버스 신흥교통 정상이아닌 버스업체46번버스 신흥교통 손님에게 막말하...   \n",
       "살려주세요 제발 요즘 가게 망하게 만드는 일들만 일어나네요..제발요(영종도 호텔)  민원 내용:  요즘 가게 망하게 만드는 일들만 일어나네요..요(영종도 호텔)요즘 전...   \n",
       "\n",
       "                                                                                          answer  \\\n",
       "title                                                                                              \n",
       "주차장이 너무 어두워요                                   1. 구정 발전에 관심을 가져주시는 귀하께 감사의 말씀을 드립니다.2. 민원 제기하...   \n",
       "뭐에요? 거잠포선착장 쓰레기 그대로잖아요? 하나도 안 되어있네요?           1. 안녕하십니까? 귀하께서 상담민원을 통해 신청하신 민원에 대한 검토 결과를 다음...   \n",
       "9100번 광역버스 배차간격 준수 요청 건                                                                불편사항이 해결됨   \n",
       "46번버스 신흥교통 정상이아닌 버스업체                          1. 교통 업무에 많은 관심과 애정을 가져주셔서 깊이 감사드립니다. 2. 귀하께서 ...   \n",
       "살려주세요 제발 요즘 가게 망하게 만드는 일들만 일어나네요..제발요(영종도 호텔)  1. 구정 발전을 위해 관심을 가져주시는 귀하께 깊은 감사를 드립니다.2. 모두가 ...   \n",
       "\n",
       "                                                      depart  tokens  \n",
       "title                                                                 \n",
       "주차장이 너무 어두워요                                     도시개발국 교통운수과      85  \n",
       "뭐에요? 거잠포선착장 쓰레기 그대로잖아요? 하나도 안 되어있네요?            국제도시건설국 농수산과    1097  \n",
       "9100번 광역버스 배차간격 준수 요청 건                          도시개발국 교통운수과     555  \n",
       "46번버스 신흥교통 정상이아닌 버스업체                            도시개발국 교통운수과     236  \n",
       "살려주세요 제발 요즘 가게 망하게 만드는 일들만 일어나네요..제발요(영종도 호텔)  국제도시건설국 도시공원과    1490  "
      ]
     },
     "execution_count": 74,
     "metadata": {},
     "output_type": "execute_result"
    }
   ],
   "source": [
    "#token수 확인\n",
    "## gpt-3.5-turbo 모델에 맞는 token encoding model은 cl100k_base이다.\n",
    "def num_tokens_from_string(string: str, encoding_name: str) -> int:\n",
    "    encoding = tiktoken.get_encoding(encoding_name)\n",
    "    num_tokens = len(encoding.encode(string))\n",
    "    return num_tokens\n",
    "\n",
    "#contents 컬럼의 토큰 수를 계산하여 새로운 컬럼으로 만들어 붙임\n",
    "df['tokens'] = df.content.apply(lambda x: num_tokens_from_string(x, 'cl100k_base'))\n",
    "#del df['Unnamed: 0']\n",
    "df = df.set_index(keys='title')\n",
    "df.head()"
   ]
  },
  {
   "cell_type": "code",
   "execution_count": 75,
   "id": "02238228",
   "metadata": {
    "scrolled": false
   },
   "outputs": [
    {
     "data": {
      "text/plain": [
       "도시개발국 교통운수과       71\n",
       "도시개발국 건축과         68\n",
       "도시개발국 건설과         62\n",
       "국제도시건설국 기반시설과     29\n",
       "국제도시건설국 도시공원과     23\n",
       "도시개발국 환경보호과       18\n",
       "국제도시건설국 교통과       18\n",
       "기획감사실             18\n",
       "관광진흥실             17\n",
       "국제도시행정국 친환경조성과    17\n",
       "보건소 보건행정과         16\n",
       "주민생활지원국 청소과       15\n",
       "홍보체육진흥실           14\n",
       "도시관리국 교통행정과       13\n",
       "용유출장소             13\n",
       "주민생활지원국 자원순환과     13\n",
       "보건소 건강증진과         13\n",
       "국제도시국 교통지적과       13\n",
       "국제도시건설국 농수산과      13\n",
       "국제도시국 기반시설과       12\n",
       "도시재생국 도시개발과       12\n",
       "운서동               11\n",
       "주민생활지원국 환경관리과     11\n",
       "주민생활지원국 위생과       11\n",
       "Name: depart, dtype: int64"
      ]
     },
     "execution_count": 75,
     "metadata": {},
     "output_type": "execute_result"
    }
   ],
   "source": [
    "df['depart'].value_counts()"
   ]
  },
  {
   "cell_type": "code",
   "execution_count": 76,
   "id": "eba01e04",
   "metadata": {},
   "outputs": [
    {
     "data": {
      "text/plain": [
       "439.6621880998081"
      ]
     },
     "execution_count": 76,
     "metadata": {},
     "output_type": "execute_result"
    }
   ],
   "source": [
    "df.tokens.mean()"
   ]
  },
  {
   "cell_type": "code",
   "execution_count": 77,
   "id": "26697012",
   "metadata": {
    "scrolled": true
   },
   "outputs": [
    {
     "data": {
      "text/html": [
       "<div>\n",
       "<style scoped>\n",
       "    .dataframe tbody tr th:only-of-type {\n",
       "        vertical-align: middle;\n",
       "    }\n",
       "\n",
       "    .dataframe tbody tr th {\n",
       "        vertical-align: top;\n",
       "    }\n",
       "\n",
       "    .dataframe thead th {\n",
       "        text-align: right;\n",
       "    }\n",
       "</style>\n",
       "<table border=\"1\" class=\"dataframe\">\n",
       "  <thead>\n",
       "    <tr style=\"text-align: right;\">\n",
       "      <th></th>\n",
       "      <th>content</th>\n",
       "      <th>answer</th>\n",
       "      <th>depart</th>\n",
       "      <th>tokens</th>\n",
       "    </tr>\n",
       "    <tr>\n",
       "      <th>title</th>\n",
       "      <th></th>\n",
       "      <th></th>\n",
       "      <th></th>\n",
       "      <th></th>\n",
       "    </tr>\n",
       "  </thead>\n",
       "  <tbody>\n",
       "    <tr>\n",
       "      <th>주차장이 너무 어두워요</th>\n",
       "      <td>민원 내용:주차장이  어두워요중구 전동 25328 번지옆 전동쉼터 옆 공영주차장이 ...</td>\n",
       "      <td>1. 구정 발전에 관심을 가져주시는 귀하께 감사의 말씀을 드립니다.2. 민원 제기하...</td>\n",
       "      <td>도시개발국 교통운수과</td>\n",
       "      <td>85</td>\n",
       "    </tr>\n",
       "    <tr>\n",
       "      <th>뭐에요? 거잠포선착장 쓰레기 그대로잖아요? 하나도 안 되어있네요?</th>\n",
       "      <td>민원 내용:뭐에요? 거잠포선착장 쓰레기 그대로잖아요? 하나도 안 되어있네요? 거기 ...</td>\n",
       "      <td>1. 안녕하십니까? 귀하께서 상담민원을 통해 신청하신 민원에 대한 검토 결과를 다음...</td>\n",
       "      <td>국제도시건설국 농수산과</td>\n",
       "      <td>1097</td>\n",
       "    </tr>\n",
       "    <tr>\n",
       "      <th>9100번 광역버스 배차간격 준수 요청 건</th>\n",
       "      <td>민원 내용:9100번 광역버스 배차간격 준수 요청 건집안 사정으로 서구에서 남동구 ...</td>\n",
       "      <td>불편사항이 해결됨</td>\n",
       "      <td>도시개발국 교통운수과</td>\n",
       "      <td>555</td>\n",
       "    </tr>\n",
       "    <tr>\n",
       "      <th>46번버스 신흥교통 정상이아닌 버스업체</th>\n",
       "      <td>민원 내용:46번버스 신흥교통 정상이아닌 버스업체46번버스 신흥교통 손님에게 막말하...</td>\n",
       "      <td>1. 교통 업무에 많은 관심과 애정을 가져주셔서 깊이 감사드립니다. 2. 귀하께서 ...</td>\n",
       "      <td>도시개발국 교통운수과</td>\n",
       "      <td>236</td>\n",
       "    </tr>\n",
       "    <tr>\n",
       "      <th>신흥교통 46번버스회사 고발합니다</th>\n",
       "      <td>민원 내용:신흥교통 46번버스회사 고발46번버스이용중 불편사항 해당교통회사 전화문의...</td>\n",
       "      <td>1. 교통 업무에 많은 관심과 애정을 가져주셔서 깊이 감사드립니다. 2. 귀하께서 ...</td>\n",
       "      <td>도시개발국 교통운수과</td>\n",
       "      <td>178</td>\n",
       "    </tr>\n",
       "  </tbody>\n",
       "</table>\n",
       "</div>"
      ],
      "text/plain": [
       "                                                                                content  \\\n",
       "title                                                                                     \n",
       "주차장이 너무 어두워요                          민원 내용:주차장이  어두워요중구 전동 25328 번지옆 전동쉼터 옆 공영주차장이 ...   \n",
       "뭐에요? 거잠포선착장 쓰레기 그대로잖아요? 하나도 안 되어있네요?  민원 내용:뭐에요? 거잠포선착장 쓰레기 그대로잖아요? 하나도 안 되어있네요? 거기 ...   \n",
       "9100번 광역버스 배차간격 준수 요청 건               민원 내용:9100번 광역버스 배차간격 준수 요청 건집안 사정으로 서구에서 남동구 ...   \n",
       "46번버스 신흥교통 정상이아닌 버스업체                 민원 내용:46번버스 신흥교통 정상이아닌 버스업체46번버스 신흥교통 손님에게 막말하...   \n",
       "신흥교통 46번버스회사 고발합니다                    민원 내용:신흥교통 46번버스회사 고발46번버스이용중 불편사항 해당교통회사 전화문의...   \n",
       "\n",
       "                                                                                 answer  \\\n",
       "title                                                                                     \n",
       "주차장이 너무 어두워요                          1. 구정 발전에 관심을 가져주시는 귀하께 감사의 말씀을 드립니다.2. 민원 제기하...   \n",
       "뭐에요? 거잠포선착장 쓰레기 그대로잖아요? 하나도 안 되어있네요?  1. 안녕하십니까? 귀하께서 상담민원을 통해 신청하신 민원에 대한 검토 결과를 다음...   \n",
       "9100번 광역버스 배차간격 준수 요청 건                                                       불편사항이 해결됨   \n",
       "46번버스 신흥교통 정상이아닌 버스업체                 1. 교통 업무에 많은 관심과 애정을 가져주셔서 깊이 감사드립니다. 2. 귀하께서 ...   \n",
       "신흥교통 46번버스회사 고발합니다                    1. 교통 업무에 많은 관심과 애정을 가져주셔서 깊이 감사드립니다. 2. 귀하께서 ...   \n",
       "\n",
       "                                            depart  tokens  \n",
       "title                                                       \n",
       "주차장이 너무 어두워요                           도시개발국 교통운수과      85  \n",
       "뭐에요? 거잠포선착장 쓰레기 그대로잖아요? 하나도 안 되어있네요?  국제도시건설국 농수산과    1097  \n",
       "9100번 광역버스 배차간격 준수 요청 건                도시개발국 교통운수과     555  \n",
       "46번버스 신흥교통 정상이아닌 버스업체                  도시개발국 교통운수과     236  \n",
       "신흥교통 46번버스회사 고발합니다                     도시개발국 교통운수과     178  "
      ]
     },
     "execution_count": 77,
     "metadata": {},
     "output_type": "execute_result"
    }
   ],
   "source": [
    "#토큰수1200개 이상 삭제\n",
    "##토큰수가 1200개가 넘을 경우 요약이 제대로 진행되지 않음\n",
    "df = df[df['tokens'] <= 1200]\n",
    "df.head()"
   ]
  },
  {
   "cell_type": "markdown",
   "id": "21a90134",
   "metadata": {},
   "source": [
    "---"
   ]
  },
  {
   "cell_type": "markdown",
   "id": "5f5fb952",
   "metadata": {},
   "source": [
    "### 임베딩 & 코사인유사도 함수 정의"
   ]
  },
  {
   "cell_type": "code",
   "execution_count": 63,
   "id": "887806cd",
   "metadata": {},
   "outputs": [],
   "source": [
    "#자연어->embedding벡터\n",
    "##embedding 모델 : text-embedding-ada-00\n",
    "\n",
    "COMPLETIONS_MODEL = \"gpt-3.5-turbo\"\n",
    "EMBEDDING_MODEL = \"text-embedding-ada-002\"\n",
    "\n",
    "def get_embedding(text: str, model: str=EMBEDDING_MODEL) -> list[float]:\n",
    "    result = openai.Embedding.create(\n",
    "      model=model,\n",
    "      input=text\n",
    "    )\n",
    "    return result[\"data\"][0][\"embedding\"]\n",
    "\n",
    "def compute_doc_embeddings(df: pd.DataFrame) -> dict[tuple[str, str], list[float]]:\n",
    "    return {\n",
    "        idx: get_embedding(r.content) for idx, r in df.iterrows()\n",
    "        # index는 그대로 유지하고 content에 있는 내용만 embedding vector로 바꾼 새로운 데이터 프레임 생성\n",
    "    }"
   ]
  },
  {
   "cell_type": "code",
   "execution_count": null,
   "id": "4a7eae10",
   "metadata": {},
   "outputs": [],
   "source": [
    "#코사인 유사도\n",
    "\n",
    "def vector_similarity(x: list[float], y: list[float]) -> float:\n",
    "    \n",
    "    return np.dot(np.array(x), np.array(y))\n",
    "\n",
    "#새로운 입력값을 임베딩\n",
    "def order_document_sections_by_query_similarity(query: str, contexts: dict[(str, str), np.array]) -> list[(float, (str, str))]:\n",
    "\n",
    "    query_embedding = get_embedding(query)\n",
    "    \n",
    "    document_similarities = sorted([\n",
    "        (vector_similarity(query_embedding, doc_embedding), doc_index) for doc_index, doc_embedding in contexts.items()\n",
    "    ], reverse=True)\n",
    "    \n",
    "    return document_similarities"
   ]
  },
  {
   "cell_type": "markdown",
   "id": "a316fc6f",
   "metadata": {},
   "source": [
    "---"
   ]
  },
  {
   "cell_type": "markdown",
   "id": "25a14235",
   "metadata": {},
   "source": [
    "### 부서별 임베딩 실행 및 저장\n",
    "    중간에 에러가 날 수 있으므로 나눠서 실행함"
   ]
  },
  {
   "cell_type": "code",
   "execution_count": 248,
   "id": "f2c635b3",
   "metadata": {
    "scrolled": true
   },
   "outputs": [
    {
     "data": {
      "text/html": [
       "<div>\n",
       "<style scoped>\n",
       "    .dataframe tbody tr th:only-of-type {\n",
       "        vertical-align: middle;\n",
       "    }\n",
       "\n",
       "    .dataframe tbody tr th {\n",
       "        vertical-align: top;\n",
       "    }\n",
       "\n",
       "    .dataframe thead th {\n",
       "        text-align: right;\n",
       "    }\n",
       "</style>\n",
       "<table border=\"1\" class=\"dataframe\">\n",
       "  <thead>\n",
       "    <tr style=\"text-align: right;\">\n",
       "      <th></th>\n",
       "      <th>content</th>\n",
       "      <th>answer</th>\n",
       "      <th>depart</th>\n",
       "      <th>tokens</th>\n",
       "    </tr>\n",
       "    <tr>\n",
       "      <th>title</th>\n",
       "      <th></th>\n",
       "      <th></th>\n",
       "      <th></th>\n",
       "      <th></th>\n",
       "    </tr>\n",
       "  </thead>\n",
       "  <tbody>\n",
       "    <tr>\n",
       "      <th>영종도 운서역 종량제 10L 어디에 파나요 ?</th>\n",
       "      <td>민원 내용:영종도 운서역 종량제 10L 어디에 파나요 ?수고 많으십니다 종량제 10...</td>\n",
       "      <td>1. 우리 洞 발전에 관심을 가져주신 귀하께 감사의 말씀을 드립니다.2. 종량제봉투...</td>\n",
       "      <td>운서동</td>\n",
       "      <td>77</td>\n",
       "    </tr>\n",
       "    <tr>\n",
       "      <th>앞 공터 쓰레기더미를 치워 주세요!</th>\n",
       "      <td>민원 내용:앞 공터 쓰레기미 치워 주세요! 저는 저번주 일요일 부산에서 직장때문에 ...</td>\n",
       "      <td>1. 우리 洞 발전에 관심을 가져주신 귀하께 감사의 말씀을 드립니다. 2. 귀하께서...</td>\n",
       "      <td>운서동</td>\n",
       "      <td>232</td>\n",
       "    </tr>\n",
       "    <tr>\n",
       "      <th>운서동 두림타워 신축공사 민원</th>\n",
       "      <td>민원 내용:운서동 두림타워 신축공사 민원.두림타워 신축공사  앞 에어스테이호텔 운영...</td>\n",
       "      <td>1. 우리 洞 발전에 관심을 가져주신 귀하께 감사의 말씀을 드립니다.2. 귀하께서 ...</td>\n",
       "      <td>운서동</td>\n",
       "      <td>137</td>\n",
       "    </tr>\n",
       "    <tr>\n",
       "      <th>운서동 쓰레기 불법투기및 방치 조치요청</th>\n",
       "      <td>민원 내용:운서동 쓰레기 불법투기및 방치 조치요청아름다운 중구 위해 힘써주시는 여러...</td>\n",
       "      <td>답변에 감사드립니다.일단 동에서 할수있는 조치를 해주시기 바랍니다.(폐기물 불법투기...</td>\n",
       "      <td>운서동</td>\n",
       "      <td>266</td>\n",
       "    </tr>\n",
       "    <tr>\n",
       "      <th>관광버스 쓰레기무단 투기 단속요청</th>\n",
       "      <td>민원 내용:관광버스 쓰레기무단 투기 단속요청수고많으십니다. 중구 흰바위로15 신도시...</td>\n",
       "      <td>1. 우리 洞 발전에 관심을 가져주신 귀하께 감사의 말씀을 드립니다.2. 귀하께서 ...</td>\n",
       "      <td>운서동</td>\n",
       "      <td>397</td>\n",
       "    </tr>\n",
       "  </tbody>\n",
       "</table>\n",
       "</div>"
      ],
      "text/plain": [
       "                                                                     content  \\\n",
       "title                                                                          \n",
       "영종도 운서역 종량제 10L 어디에 파나요 ?  민원 내용:영종도 운서역 종량제 10L 어디에 파나요 ?수고 많으십니다 종량제 10...   \n",
       "앞 공터 쓰레기더미를 치워 주세요!        민원 내용:앞 공터 쓰레기미 치워 주세요! 저는 저번주 일요일 부산에서 직장때문에 ...   \n",
       "운서동 두림타워 신축공사 민원           민원 내용:운서동 두림타워 신축공사 민원.두림타워 신축공사  앞 에어스테이호텔 운영...   \n",
       "운서동 쓰레기 불법투기및 방치 조치요청      민원 내용:운서동 쓰레기 불법투기및 방치 조치요청아름다운 중구 위해 힘써주시는 여러...   \n",
       "관광버스 쓰레기무단 투기 단속요청         민원 내용:관광버스 쓰레기무단 투기 단속요청수고많으십니다. 중구 흰바위로15 신도시...   \n",
       "\n",
       "                                                                      answer  \\\n",
       "title                                                                          \n",
       "영종도 운서역 종량제 10L 어디에 파나요 ?  1. 우리 洞 발전에 관심을 가져주신 귀하께 감사의 말씀을 드립니다.2. 종량제봉투...   \n",
       "앞 공터 쓰레기더미를 치워 주세요!        1. 우리 洞 발전에 관심을 가져주신 귀하께 감사의 말씀을 드립니다. 2. 귀하께서...   \n",
       "운서동 두림타워 신축공사 민원           1. 우리 洞 발전에 관심을 가져주신 귀하께 감사의 말씀을 드립니다.2. 귀하께서 ...   \n",
       "운서동 쓰레기 불법투기및 방치 조치요청      답변에 감사드립니다.일단 동에서 할수있는 조치를 해주시기 바랍니다.(폐기물 불법투기...   \n",
       "관광버스 쓰레기무단 투기 단속요청         1. 우리 洞 발전에 관심을 가져주신 귀하께 감사의 말씀을 드립니다.2. 귀하께서 ...   \n",
       "\n",
       "                          depart  tokens  \n",
       "title                                     \n",
       "영종도 운서역 종량제 10L 어디에 파나요 ?    운서동      77  \n",
       "앞 공터 쓰레기더미를 치워 주세요!          운서동     232  \n",
       "운서동 두림타워 신축공사 민원             운서동     137  \n",
       "운서동 쓰레기 불법투기및 방치 조치요청        운서동     266  \n",
       "관광버스 쓰레기무단 투기 단속요청           운서동     397  "
      ]
     },
     "execution_count": 248,
     "metadata": {},
     "output_type": "execute_result"
    }
   ],
   "source": [
    "Environmental = df[df['depart'] == '운서동']\n",
    "Environmental.head()"
   ]
  },
  {
   "cell_type": "code",
   "execution_count": 250,
   "id": "f7c49e41",
   "metadata": {},
   "outputs": [],
   "source": [
    "document_embeddings = compute_doc_embeddings(Environmental)"
   ]
  },
  {
   "cell_type": "code",
   "execution_count": 252,
   "id": "f0ce2e4c",
   "metadata": {
    "scrolled": true
   },
   "outputs": [
    {
     "name": "stdout",
     "output_type": "stream",
     "text": [
      "영종도 운서역 종량제 10L 어디에 파나요 ? : [0.00199165940284729, -0.03413895517587662, 0.00398331880569458, -0.018205681815743446, -0.018456703051924706]... (1536 entries)\n"
     ]
    }
   ],
   "source": [
    "# embedding example\n",
    "example_entry = list(document_embeddings.items())[0]\n",
    "print(f\"{example_entry[0]} : {example_entry[1][:5]}... ({len(example_entry[1])} entries)\")"
   ]
  },
  {
   "cell_type": "code",
   "execution_count": 253,
   "id": "29b05123",
   "metadata": {},
   "outputs": [
    {
     "name": "stdout",
     "output_type": "stream",
     "text": [
      "                       title  \\\n",
      "0  영종도 운서역 종량제 10L 어디에 파나요 ?   \n",
      "1        앞 공터 쓰레기더미를 치워 주세요!   \n",
      "2           운서동 두림타워 신축공사 민원   \n",
      "3      운서동 쓰레기 불법투기및 방치 조치요청   \n",
      "4         관광버스 쓰레기무단 투기 단속요청   \n",
      "5           공동주거지 인근 노천소각 신고   \n",
      "6       공항신도시 쓰레기 투기 관련 조치요청   \n",
      "7                   쓰레기 수거요구   \n",
      "8            쓰레기 처리 좀 해 주세요~   \n",
      "9              복지정책을역행하는공무원!   \n",
      "\n",
      "                                           embedding  \n",
      "0  [0.00199165940284729, -0.03413895517587662, 0....  \n",
      "1  [-0.008843394927680492, -0.01874910108745098, ...  \n",
      "2  [-0.0018028655322268605, -0.020556490868330002...  \n",
      "3  [-0.0006840603891760111, -0.01572529226541519,...  \n",
      "4  [0.00010881438356591389, -0.011694789864122868...  \n",
      "5  [-0.0017284720670431852, -0.010009659454226494...  \n",
      "6  [-0.006901671178638935, -0.03658057004213333, ...  \n",
      "7  [0.0022447637747973204, -0.014944544993340969,...  \n",
      "8  [-0.0004525410768110305, 0.007362122181802988,...  \n",
      "9  [-0.018691372126340866, -0.012628423050045967,...  \n"
     ]
    }
   ],
   "source": [
    "#tuple->list->dataframe으로 변경해야 csv형태로 저장 가능\n",
    "example_entry1 = list(document_embeddings.items())\n",
    "embedding_df = pd.DataFrame(example_entry1, columns=['title', 'embedding'])\n",
    "print(embedding_df)"
   ]
  },
  {
   "cell_type": "code",
   "execution_count": 254,
   "id": "deb0ba80",
   "metadata": {
    "scrolled": true
   },
   "outputs": [],
   "source": [
    "##임베딩값 저장\n",
    "embedding_df.to_csv(\"embedding_운서동.csv\", encoding='utf-8-sig',mode='w',index=False)"
   ]
  },
  {
   "cell_type": "markdown",
   "id": "564c234d",
   "metadata": {},
   "source": [
    "---"
   ]
  },
  {
   "cell_type": "markdown",
   "id": "94d0426f",
   "metadata": {},
   "source": [
    "## 임베딩값 불러오기"
   ]
  },
  {
   "cell_type": "code",
   "execution_count": 8,
   "id": "89302eb2",
   "metadata": {},
   "outputs": [],
   "source": [
    "import os\n",
    "import pandas as pd\n",
    "\n",
    "path = './' # CSV 파일이 있는 경로\n",
    "files = os.listdir(path) # 해당 경로 내의 모든 파일 리스트\n",
    "csv_files = [file for file in files if file.endswith('.csv') and file.startswith('embedding')] # CSV 파일만 추출\n",
    "\n",
    "dfs = [] # 각각의 CSV 파일에서 읽은 데이터프레임을 저장할 리스트\n",
    "for csv_file in csv_files:\n",
    "    df = pd.read_csv(os.path.join(path, csv_file), index_col=None, header=0)\n",
    "    dfs.append(df)\n",
    "\n",
    "result_df = pd.concat(dfs, axis=0) # 모든 데이터프레임을 합침\n"
   ]
  },
  {
   "cell_type": "code",
   "execution_count": 9,
   "id": "60902e18",
   "metadata": {},
   "outputs": [
    {
     "data": {
      "text/html": [
       "<div>\n",
       "<style scoped>\n",
       "    .dataframe tbody tr th:only-of-type {\n",
       "        vertical-align: middle;\n",
       "    }\n",
       "\n",
       "    .dataframe tbody tr th {\n",
       "        vertical-align: top;\n",
       "    }\n",
       "\n",
       "    .dataframe thead th {\n",
       "        text-align: right;\n",
       "    }\n",
       "</style>\n",
       "<table border=\"1\" class=\"dataframe\">\n",
       "  <thead>\n",
       "    <tr style=\"text-align: right;\">\n",
       "      <th></th>\n",
       "      <th>title</th>\n",
       "      <th>embedding</th>\n",
       "    </tr>\n",
       "  </thead>\n",
       "  <tbody>\n",
       "    <tr>\n",
       "      <th>0</th>\n",
       "      <td>집 베란다 앞에서 피우는 담배때문에 힘들어요</td>\n",
       "      <td>[0.0036535034887492657, -0.010342638939619064,...</td>\n",
       "    </tr>\n",
       "    <tr>\n",
       "      <th>1</th>\n",
       "      <td>학교앞 담배꽁초</td>\n",
       "      <td>[-0.0008675387944094837, -0.006503315176814794...</td>\n",
       "    </tr>\n",
       "    <tr>\n",
       "      <th>2</th>\n",
       "      <td>신포시장 내 흡연 및 노상방뇨 건</td>\n",
       "      <td>[-0.004503477830439806, -0.015920251607894897,...</td>\n",
       "    </tr>\n",
       "    <tr>\n",
       "      <th>3</th>\n",
       "      <td>인천공항 금연구역 흡연문제</td>\n",
       "      <td>[-0.003821880090981722, -0.007143765222281218,...</td>\n",
       "    </tr>\n",
       "    <tr>\n",
       "      <th>4</th>\n",
       "      <td>방역 실시의 건</td>\n",
       "      <td>[-0.013074032962322235, -0.020396584644913673,...</td>\n",
       "    </tr>\n",
       "    <tr>\n",
       "      <th>...</th>\n",
       "      <td>...</td>\n",
       "      <td>...</td>\n",
       "    </tr>\n",
       "    <tr>\n",
       "      <th>13</th>\n",
       "      <td>지나다닐 때마다 너무 괴로워요.</td>\n",
       "      <td>[-0.011721239425241947, -0.02832743525505066, ...</td>\n",
       "    </tr>\n",
       "    <tr>\n",
       "      <th>14</th>\n",
       "      <td>금연구역 지정 및 cctv 설치요청</td>\n",
       "      <td>[0.008484265767037868, -0.008444183506071568, ...</td>\n",
       "    </tr>\n",
       "    <tr>\n",
       "      <th>15</th>\n",
       "      <td>중구청 환경보호과, 주말 집에서 쉬고 싶습니다. 소음,먼지,진동 문제</td>\n",
       "      <td>[0.02148951031267643, 0.0043196361511945724, 0...</td>\n",
       "    </tr>\n",
       "    <tr>\n",
       "      <th>16</th>\n",
       "      <td>신흥시장 점포 정화조 가능한지 문의합니다.</td>\n",
       "      <td>[0.005075301509350538, -0.02015163190662861, 0...</td>\n",
       "    </tr>\n",
       "    <tr>\n",
       "      <th>17</th>\n",
       "      <td>월미도 쥐 떼</td>\n",
       "      <td>[0.0033914356026798487, -0.02966340072453022, ...</td>\n",
       "    </tr>\n",
       "  </tbody>\n",
       "</table>\n",
       "<p>426 rows × 2 columns</p>\n",
       "</div>"
      ],
      "text/plain": [
       "                                     title  \\\n",
       "0                 집 베란다 앞에서 피우는 담배때문에 힘들어요   \n",
       "1                                 학교앞 담배꽁초   \n",
       "2                       신포시장 내 흡연 및 노상방뇨 건   \n",
       "3                           인천공항 금연구역 흡연문제   \n",
       "4                                 방역 실시의 건   \n",
       "..                                     ...   \n",
       "13                       지나다닐 때마다 너무 괴로워요.   \n",
       "14                     금연구역 지정 및 cctv 설치요청   \n",
       "15  중구청 환경보호과, 주말 집에서 쉬고 싶습니다. 소음,먼지,진동 문제   \n",
       "16                 신흥시장 점포 정화조 가능한지 문의합니다.   \n",
       "17                                 월미도 쥐 떼   \n",
       "\n",
       "                                            embedding  \n",
       "0   [0.0036535034887492657, -0.010342638939619064,...  \n",
       "1   [-0.0008675387944094837, -0.006503315176814794...  \n",
       "2   [-0.004503477830439806, -0.015920251607894897,...  \n",
       "3   [-0.003821880090981722, -0.007143765222281218,...  \n",
       "4   [-0.013074032962322235, -0.020396584644913673,...  \n",
       "..                                                ...  \n",
       "13  [-0.011721239425241947, -0.02832743525505066, ...  \n",
       "14  [0.008484265767037868, -0.008444183506071568, ...  \n",
       "15  [0.02148951031267643, 0.0043196361511945724, 0...  \n",
       "16  [0.005075301509350538, -0.02015163190662861, 0...  \n",
       "17  [0.0033914356026798487, -0.02966340072453022, ...  \n",
       "\n",
       "[426 rows x 2 columns]"
      ]
     },
     "execution_count": 9,
     "metadata": {},
     "output_type": "execute_result"
    }
   ],
   "source": [
    "result_df"
   ]
  },
  {
   "cell_type": "code",
   "execution_count": 12,
   "id": "9ecdee21",
   "metadata": {},
   "outputs": [],
   "source": [
    "# 다시 df전의 원형으로 만들기\n",
    "result_df['embedding'] = result_df['embedding'].apply(lambda x: [float(i) for i in x.strip('[]').split(',')])\n",
    "\n",
    "r_document_embeddings = dict(zip(result_df['title'], result_df['embedding']))"
   ]
  },
  {
   "cell_type": "code",
   "execution_count": 135,
   "id": "4a4b3a79",
   "metadata": {
    "scrolled": false
   },
   "outputs": [],
   "source": [
    "#임베딩 저장한거 잘 작동되는 지 확인하고 싶다구링\n",
    "query=\"불법주차 단속 안하나요? 횡단보도 앞뒤로 주차가 되어있어서 횡단보도를 건너는데 차가 오는지안오는지 보이지가 않아요. 어제 전동교회 앞에서 횡단보도를 건너다가 차가 갑자기 빠르게 지나가서 깜짝 놀랐고, 사고날뻔 했어요. 단속 좀 제대로 해주세요\"\n",
    "similar_complaints=order_document_sections_by_query_similarity(query, r_document_embeddings)[:5]"
   ]
  },
  {
   "cell_type": "code",
   "execution_count": 136,
   "id": "30c4ea91",
   "metadata": {},
   "outputs": [
    {
     "data": {
      "text/plain": [
       "[(0.9059462243363667, '소방도로에 불법 주차 차량 단속 및 주차 금지 표지 설치 요청'),\n",
       " (0.9045972263806786, '신포동 불법주정차'),\n",
       " (0.902606187015441, '인도위 불법주차 단속'),\n",
       " (0.901385507405047, '주택가에 세워진 주민의 차에 불법 주차딱지가 웬말인가?'),\n",
       " (0.8935640002553571, '항운아파트 화물차불법추자 정차')]"
      ]
     },
     "execution_count": 136,
     "metadata": {},
     "output_type": "execute_result"
    }
   ],
   "source": [
    "#유사민원 전체 내용 및 df 불러오기.\n",
    "###유사민원 결과를 저장 값->set의 list형태\n",
    "similar_complaints"
   ]
  },
  {
   "cell_type": "code",
   "execution_count": 61,
   "id": "c4e4ce3f",
   "metadata": {},
   "outputs": [],
   "source": [
    "#유사도가 높은 순서대로 3개의 민원을 기반으로 prompt생성\n",
    "def generate_prompts(similar_complaints, query):\n",
    "    prompts = []\n",
    "    for i in range(3):\n",
    "        title = similar_complaints[i][1]\n",
    "        prompt = f\"-민원제목: {title}\\n{df.loc[title][0]}\\n-민원 답변: {df.loc[title][1]}\\n-새로운 민원:{query}\\n-민원 답변:\"\n",
    "        prompts.append(prompt)\n",
    "        print(f\"prompt{i+1}: {prompt}\")\n",
    "    return prompts"
   ]
  },
  {
   "cell_type": "code",
   "execution_count": 62,
   "id": "391cbd0c",
   "metadata": {
    "scrolled": true
   },
   "outputs": [
    {
     "name": "stdout",
     "output_type": "stream",
     "text": [
      "prompt1: -민원제목: 불법주차 때문에 다니기가 힘듭니다\n",
      "민원 내용:불법주차 때문에 다니기가 힘듭니다운남동 중구농협본점 뒷편은평일엔 항상 양쪽으로 주차가 되어 통행이 나도 어렵다양방향으로 진행시 한쪽이 비어있으면 양보하여 겨우 지나갈수 있지만그럴 공간이 없을 경우 정말 난감 불법주차된 차량사이로 사람이 갑자기 나타나면 정말 운전이 무서워집니다...비단 이 지역만의 문제가 기 때문에운남동 원룸이 많은 골목과 불법주차가 많은 지역에 불법주정차로 인한 피해가 없도록 지속적인 단속과 cctv설치 건의드립니다\n",
      "-민원 답변: 지속관리를 하신다고 하셨는데...\n",
      "현재까지도 개선이 안되고 있으며\n",
      "\n",
      "농협앞 도로는 버스정류장이 있음에도\n",
      "불법주정차가 만연한 상황입니다\n",
      "\n",
      "그리고 불법주정차를 신고하려면\n",
      "운전자가 이동한 상황이 되어버리고\n",
      "또한 신고도중 시비가 생길 여지도 있을것 같습니다\n",
      "\n",
      "cctv는 설치가 불가능한건가요??\n",
      "-새로운 민원:불법주차 단속 안하나요? 횡단보도 앞뒤로 주차가 되어있어서 횡단보도를 건너는데 차가 오는지안오는지 보이지가 않아요. 어제 전동교회 앞에서 횡단보도를 건너다가 차가 갑자기 빠르게 지나가서 깜짝 놀랐고, 사고날뻔 했어요. 단속 좀 제대로 해주세요\n",
      "-민원 답변:\n",
      "prompt2: -민원제목: 중구청 뒤 불법 주차 단속 요청\n",
      "민원 내용:중구청 뒤 불법 주차 단속 요청. 아침 저녁으로 중구청 뒷길을 차량으로 이용하고 있다. 신포동 일대의 주차 단속은 꽤 철저한 편입니다. 제가 아는 지인도 주차 구역이 아닌 곳에 주차 후 주차 위반으로 여러번 범칙금을 내는 것을 봤다. 주차 구역 이외의 지역에 주차 하는 것은 여러 사람에게 불편을 초래하는 일로 당연히 철저하게 단속되어야 . 하지만 중구청 뒷길은 왜 이중 주차 허용하는지 궁금. 매일 그 길을 이용하면서 차량들이 엉키고 큰 트럭이 힘겹게 후진을 하는 일이 다반사입니다. 가장 어이없는 일은 차량들이 엉켜서 극심한 정체 빚고 있었을 때 주차 단속을 나오신 분이 어떠한 차량도 주차 단속하지 않고 차 후진하라는 말만 하고선 가군요. 정말 화가  났다. 그 골목은 주차단속을 하지 않는 구역인가요이런 일이 하루이틀 저만의 문제가 라서 주변 사람들에게 이야기해 보니 그 중구청 뒷골목의 차량들 대부분이 중구청 직원 차량이라는 이야기 들었다그래서 단속하지 않는다는 이야기도 들었다. 유독 중구청 뒤만 단속하지 않는 것으로 보아 이런 이야기가 나올만 .. 물론 이것은 확인되지 않은 사실이지만  이것이 사실이라면 요즘같이 1인 1차량 시대에 직원들을 위한 주차장이 구비되어야 한다고 봅니다. 이러한 불편을 그 지역을 지나다니는 사람들이 떠안을 이유는 없다고 봅니다.  하나 이렇게 민원을 넣어 봤자 일주일 단속한 뒤  원상대로 돌아간다는 이야기도 들었다. 저가 아이핀 인증까지 힘겹게 받아가지고 여기에 구구절절 민원을 남기는 이유는 잠깐만 불편을 해소하고자 올리는 것이 아닙니다. 근본적으로 문제가 해결되어서 중구청 뒷길에 이중주차 문제 불법 주차 문제가 해결되길 원하는 바입니다. 매번 그 길을 이용하면서 불편함이 아주 극심. 중구 지역의 불법 주차 문제 단속하고 편리 도모하는 중구청에서 먼저 모범을 보여 주었으면 . 이 문제가 근본적으로 해결되지 않는다면 다른 곳에 도움을 받아 해결해 볼 방법을 도모하겠다.\n",
      "-민원 답변: 1. 구정발전과 교통환경개선을 위한 관심과 협조에 감사드립니다.     2. 우선 불법주차 차량들로 인하여 통행에 불편을 끼쳐드린 점 송구스럽게 생각하면 의견주신 내용에 대하여 답변드리겠습니다.     3. 귀하의 신고사항을 접수하여 단속반에 통보하였으며, 지속적인 안내와 단속으로 중구청 뒤 불법 주정차위반이 근절되도록 노력하겠습니다.     4. 차후 주정차 위반사실을 발견할 시 중구청 단속반(전화: 760-7567)으로 신고하시면 즉시 단속을 실시 하겠습니다.     5. 귀하와 귀하의 가정에 건강과 행복이 항상 함께 하길 기원합니다. 붙임 : 2016년4월10일-a0-민원상담목록번호16383\n",
      "-새로운 민원:불법주차 단속 안하나요? 횡단보도 앞뒤로 주차가 되어있어서 횡단보도를 건너는데 차가 오는지안오는지 보이지가 않아요. 어제 전동교회 앞에서 횡단보도를 건너다가 차가 갑자기 빠르게 지나가서 깜짝 놀랐고, 사고날뻔 했어요. 단속 좀 제대로 해주세요\n",
      "-민원 답변:\n",
      "prompt3: -민원제목: 불법 주정차 단속요청\n",
      "민원 내용:불법 주정차 단속요청불법 주정차 차량때문에 글 올립니다.인천 중구 서해대로94번길쪽입니다.승용차가 아닌 대형트럭이나 트레일러 등이 3차로에 항시 주차되어 있다보니사업장으로 진출입시 시야확보가 어려워 위험성이 높고간판마저도 가려지는 경우가 있어 영업에 어려움이 있다.편도3차로 도로인데 3차로는 항상 주차장을 방불케하고2차로까지도 주차가 되어 있는 실정입니다.이쪽 아암물류단지 대부분의 도로가 비슷한 사정으로 알고 있다.대책 마련 및 철저한 주차단속을 부탁드립니다.\n",
      "-민원 답변: 안녕하세요 교통행정과 김석환입니다.아암물류단지의 경우 주차장의 확보없이 현재 화물차의 물건을 받고 있습니다.그로 인한 피해는 현재 민원분께서 도로상에 보는 현재 그대로의 상황입니다.단속을 하고 있지만 실제 화물차들이 줄서기 등을 하는 이유로 단속도 잘 이루어지지 않는입장입니다. 다만 교통의 흐름에 큰 방해가 되는 경우와  이중주차의 경우는 신고를 해주시면 저희가 나가서 단속을 하고 해결할 수 있는 부분은 해결하도록 하겠습니다. 단속반 760-7567 으로 연락을 주시거나, 760-7563으로 연락을 주시면 되겠습니다.\n",
      "-새로운 민원:불법주차 단속 안하나요? 횡단보도 앞뒤로 주차가 되어있어서 횡단보도를 건너는데 차가 오는지안오는지 보이지가 않아요. 어제 전동교회 앞에서 횡단보도를 건너다가 차가 갑자기 빠르게 지나가서 깜짝 놀랐고, 사고날뻔 했어요. 단속 좀 제대로 해주세요\n",
      "-민원 답변:\n"
     ]
    }
   ],
   "source": [
    "prompts = generate_prompts(similar_complaints, query)"
   ]
  },
  {
   "cell_type": "code",
   "execution_count": 82,
   "id": "be9fc618",
   "metadata": {},
   "outputs": [
    {
     "name": "stdout",
     "output_type": "stream",
     "text": [
      "-민원제목: 불법주차 때문에 다니기가 힘듭니다\n",
      "민원 내용:불법주차 때문에 다니기가 힘듭니다운남동 중구농협본점 뒷편은평일엔 항상 양쪽으로 주차가 되어 통행이 나도 어렵다양방향으로 진행시 한쪽이 비어있으면 양보하여 겨우 지나갈수 있지만그럴 공간이 없을 경우 정말 난감 불법주차된 차량사이로 사람이 갑자기 나타나면 정말 운전이 무서워집니다...비단 이 지역만의 문제가 기 때문에운남동 원룸이 많은 골목과 불법주차가 많은 지역에 불법주정차로 인한 피해가 없도록 지속적인 단속과 cctv설치 건의드립니다\n",
      "-민원 답변: 지속관리를 하신다고 하셨는데...\n",
      "현재까지도 개선이 안되고 있으며\n",
      "\n",
      "농협앞 도로는 버스정류장이 있음에도\n",
      "불법주정차가 만연한 상황입니다\n",
      "\n",
      "그리고 불법주정차를 신고하려면\n",
      "운전자가 이동한 상황이 되어버리고\n",
      "또한 신고도중 시비가 생길 여지도 있을것 같습니다\n",
      "\n",
      "cctv는 설치가 불가능한건가요??\n",
      "-새로운 민원:불법주차 단속 안하나요? 횡단보도 앞뒤로 주차가 되어있어서 횡단보도를 건너는데 차가 오는지안오는지 보이지가 않아요. 어제 전동교회 앞에서 횡단보도를 건너다가 차가 갑자기 빠르게 지나가서 깜짝 놀랐고, 사고날뻔 했어요. 단속 좀 제대로 해주세요\n",
      "-민원 답변:\n"
     ]
    }
   ],
   "source": [
    "print(prompts[0])"
   ]
  },
  {
   "cell_type": "code",
   "execution_count": 162,
   "id": "91af143c",
   "metadata": {},
   "outputs": [],
   "source": [
    "def print_response (msg):\n",
    "    completion = openai.ChatCompletion.create(\n",
    "                    model=\"gpt-3.5-turbo\",\n",
    "                    messages=msg\n",
    "                    )\n",
    "    return completion['choices'][0]['message']['content']"
   ]
  },
  {
   "cell_type": "code",
   "execution_count": 163,
   "id": "8498fca5",
   "metadata": {
    "scrolled": true
   },
   "outputs": [],
   "source": [
    "#몇번째 생성된 prompt를 넣을 지\n",
    "n=prompt1\n",
    "messages = [\n",
    "    {\"role\": \"system\", \"content\": \"You should act as an assistant to the civil service officer.모든 대답은 한글로.\"},\n",
    "    {\"role\": \"user\", \"content\" :\"{} \\n 위의 민원 답변 형식에 맞춰서 새로운 민원에 대한 답변을 생성해.\".format(n)}\n",
    "]\n",
    "answer=print_response(messages)"
   ]
  },
  {
   "cell_type": "code",
   "execution_count": 164,
   "id": "61c77ac2",
   "metadata": {
    "scrolled": false
   },
   "outputs": [
    {
     "name": "stdout",
     "output_type": "stream",
     "text": [
      "-민원제목: 소방도로에 불법 주차 차량 단속 및 주차 금지 표지 설치 요청\n",
      "민원 내용:소방도로에 불법 주차 차량 단속 및 주차 금지 표지 설치 요청동인천 내리교회 입구 소방도로에 불법 주차 차량으로 인해 사고 위험 등으로 생활에 큰 불편을 초래하는데도 전화 민원을 넣으면 그때만 단속하고나면  다른 차량들이 주차하는 악순환이 반복 되는데 근본적으로 주차 못하도록 안내 표지판 및 cctv 활용한 상시 단속으로 불법 주차하면 안된다는 사실을 인식시키는 근본적인 대책을 세워 주시기 바랍니다.대책에 대한 사항은 정식으로 과장급 이상의 책임자 결제가 포함된 공문서로 작성해서 통보해 주시기 바라며 작성된 사항의 이행여부에 따른 법적 잭임을 물을 수 있음을 알려드리며 명확한 처리 결과 알려 주시기 바랍니다. \n",
      "-민원 답변: 새올상담민원에 대하여 아래와 같이 답변하고자 합니다.1. 안녕하십니까? 우리 구정에 관심을 가지시고 의견을 주셔서 감사 드립니다.   귀하께서 제기하신 동인천 내리교회입구의 불법주정차에 대하여 답변드리겠습니다. 2. 귀하께서 요청하신 내리교회 앞 도로에 주정차금지 노면표시 및 주정차금지 표지판은 바로 설치 및 표시하도록 하겠습니다. 지속적인 불법주정차로 발생되는 문제와 관련하여 강력한 계도 및 단속을 실시하여 통행환경개선과 주정차질서 확립을 위해 최대한 노력하겠으며, 불법주정차 CCTV 설치와 관련하여 귀하께서 요청하신 사항을 적극적으로 수용·검토하여 상시적인 불법주정차가 단속될 수 있도록 최선을 다하겠습니다. 3. 불법주정차 CCTV 설치의 경우 예산이 수반되는 사항으로 즉시 설치가 어려운 점을 널리 이해하여 주시기 바라며, 기타 궁금하신 점이 있으시면 중구청 교통운수과(☏ 760-7684)로 연락주시면 성심성의껏 답변드리겠습니다. 감사합니다.붙임  새올상담민원 1부.  끝.\\-새로운 민원:불법주차 단속 안하나요? 횡단보도 앞뒤로 주차가 되어있어서 횡단보도를 건너는데 차가 오는지안오는지 보이지가 않아요. 어제 전동교회 앞에서 횡단보도를 건너다가 차가 갑자기 빠르게 지나가서 깜짝 놀랐고, 사고날뻔 했잖아요. 단속 좀 제대로 해주세요\n",
      " -민원 답변:\n",
      "-----------------------------------------------------------\n",
      "-새로운 민원: 불법주차 단속 안하나요? 횡단보도 앞뒤로 주차가 되어있어서 횡단보도를 건너는데 차가 오는지안오는지 보이지가 않아요. 어제 전동교회 앞에서 횡단보도를 건너다가 차가 갑자기 빠르게 지나가서 깜짝 놀랐고, 사고날뻔 했잖아요. 단속 좀 제대로 해주세요.\n",
      "\n",
      "-민원 답변: 새올상담민원에 대하여 아래와 같이 답변드리겠습니다.\n",
      "1. 귀하께서 제기하신 불법주차 단속 부분에 대하여 우선적으로 강화하고 있으며, 구 안전교통팀에서는 출근 및 퇴근시간을 중심으로 주요 도로 및 교차로에서 단속을 계속하고 있습니다.\n",
      "2. 횡단보도 앞뒤로 주차가 되어 경로가 막히는 문제로 인해 우리 구에서는 최근 불법 주정차 처벌 강화 및 안전표지 설치 등의 대책을 시행하고 있습니다. 또한 귀하께서 건너시는 횡단보도 주변에는 주차 금지 표지를 더욱 보강하여 차량의 통행을 방해하지 않도록 하겠습니다.\n",
      "3. 귀하께서 제보해주신 사고 위험 상황은 매우 심각하며 우리 구에서도 이를 경각하게 생각하고 있습니다. 따라서 해당 구역에서는 일시적인 경로 차단 및 차량 통행 금지 등의 대책을 강구하여 교통안전 증대에 더욱 노력하겠습니다.\n",
      "4. 더욱 안전한 횡단보도 및 교통환경을 조성하기 위해 저희 구에서는 계속해서 노력하며 귀하 께서는 만약 다시 위험 상황을 목격하게 된다면 즉시 중구청 교통운수과(☏ 760-7684)로 연락하여 신고해주시기를 부탁드립니다. 감사합니다.\n",
      "붙임  새올상담민원 1부. 끝.\n"
     ]
    }
   ],
   "source": [
    "print(n)\n",
    "print(\"-----------------------------------------------------------\")\n",
    "print(answer)"
   ]
  },
  {
   "cell_type": "markdown",
   "id": "e5adae9c",
   "metadata": {},
   "source": [
    "---"
   ]
  },
  {
   "cell_type": "markdown",
   "id": "5a59e704",
   "metadata": {},
   "source": [
    "## 답변생성 정리"
   ]
  },
  {
   "cell_type": "code",
   "execution_count": 42,
   "id": "990a73f9",
   "metadata": {},
   "outputs": [],
   "source": [
    "#민원 데이터 불러오기\n",
    "df= pd.read_csv('minwon.csv', sep=\",\", dtype=str)\n",
    "\n",
    "#token수 확인\n",
    "## gpt-3.5-turbo 모델에 맞는 token encoding model은 cl100k_base이다.\n",
    "def num_tokens_from_string(string: str, encoding_name: str) -> int:\n",
    "    encoding = tiktoken.get_encoding(encoding_name)\n",
    "    num_tokens = len(encoding.encode(string))\n",
    "    return num_tokens\n",
    "\n",
    "#contents 컬럼의 토큰 수를 계산하여 새로운 컬럼으로 만들어 붙임\n",
    "df['tokens'] = df.content.apply(lambda x: num_tokens_from_string(x, 'cl100k_base'))\n",
    "#del df['Unnamed: 0']\n",
    "\n",
    "df = df.set_index(keys='title')"
   ]
  },
  {
   "cell_type": "code",
   "execution_count": null,
   "id": "c3127238",
   "metadata": {},
   "outputs": [],
   "source": [
    "df = df[df['tokens'] <= 1200]\n",
    "df.head()"
   ]
  },
  {
   "cell_type": "code",
   "execution_count": 24,
   "id": "2308f513",
   "metadata": {},
   "outputs": [],
   "source": [
    "#임베딩 데이터 불러오기\n",
    "path = './' \n",
    "files = os.listdir(path) \n",
    "csv_files = [file for file in files if file.endswith('.csv') and file.startswith('embedding')] # CSV 파일만 추출\n",
    "\n",
    "dfs = []\n",
    "for csv_file in csv_files:\n",
    "    df = pd.read_csv(os.path.join(path, csv_file), index_col=None, header=0)\n",
    "    dfs.append(df)\n",
    "\n",
    "result_df = pd.concat(dfs, axis=0) \n",
    "\n",
    "# 다시 df전의 원형으로 만들기\n",
    "result_df['embedding'] = result_df['embedding'].apply(lambda x: [float(i) for i in x.strip('[]').split(',')])\n",
    "\n",
    "r_document_embeddings = dict(zip(result_df['title'], result_df['embedding']))"
   ]
  },
  {
   "cell_type": "code",
   "execution_count": 70,
   "id": "d0965be9",
   "metadata": {},
   "outputs": [],
   "source": [
    "##유사민원 탐색 및 답변생성에 필요한 함수 정의\n",
    "\n",
    "COMPLETIONS_MODEL = \"gpt-3.5-turbo\"\n",
    "EMBEDDING_MODEL = \"text-embedding-ada-002\"\n",
    "\n",
    "def get_embedding(text: str, model: str=EMBEDDING_MODEL) -> list[float]:\n",
    "    result = openai.Embedding.create(\n",
    "      model=model,\n",
    "      input=text\n",
    "    )\n",
    "    return result[\"data\"][0][\"embedding\"]\n",
    "\n",
    "def compute_doc_embeddings(df: pd.DataFrame) -> dict[tuple[str, str], list[float]]:\n",
    "    return {\n",
    "        idx: get_embedding(r.content) for idx, r in df.iterrows()\n",
    "    }\n",
    "\n",
    "#코사인유사도\n",
    "def vector_similarity(x: list[float], y: list[float]) -> float:\n",
    "    \n",
    "    return np.dot(np.array(x), np.array(y))\n",
    "\n",
    "#새로운 입력값을 임베딩\n",
    "def order_document_sections_by_query_similarity(query: str, contexts: dict[(str, str), np.array]) -> list[(float, (str, str))]:\n",
    "\n",
    "    query_embedding = get_embedding(query)\n",
    "    \n",
    "    document_similarities = sorted([\n",
    "        (vector_similarity(query_embedding, doc_embedding), doc_index) for doc_index, doc_embedding in contexts.items()\n",
    "    ], reverse=True)\n",
    "    \n",
    "    return document_similarities\n",
    "\n",
    "#유사도가 높은 순서대로 3개의 민원을 기반으로 prompt생성\n",
    "def generate_prompts(similar_complaints, query):\n",
    "    prompts = []\n",
    "    for i in range(3):\n",
    "        title = similar_complaints[i][1]\n",
    "        prompt = f\"-민원제목: {title}\\n{df.loc[title][0]}\\n-민원 답변: {df.loc[title][1]}\\n-새로운 민원:{query}\\n-민원 답변:\"\n",
    "        prompts.append(prompt)\n",
    "        print(\"----------------------------------------------------\")\n",
    "        print(f\"prompt{i+1}: {prompt}\")\n",
    "    return prompts\n",
    "\n",
    "#답변받기\n",
    "def print_response (msg):\n",
    "    completion = openai.ChatCompletion.create(\n",
    "                    model=\"gpt-3.5-turbo\",\n",
    "                    messages=msg\n",
    "                    )\n",
    "    return completion['choices'][0]['message']['content']"
   ]
  },
  {
   "cell_type": "code",
   "execution_count": 69,
   "id": "56d67673",
   "metadata": {
    "scrolled": false
   },
   "outputs": [
    {
     "name": "stdout",
     "output_type": "stream",
     "text": [
      "[(0.9160962676747257, '불법주차 때문에 다니기가 힘듭니다'), (0.9128999333027236, '중구청 뒤 불법 주차 단속 요청'), (0.906932153124165, '불법 주정차 단속요청'), (0.9054444429322579, '소방도로에 불법 주차 차량 단속 및 주차 금지 표지 설치 요청'), (0.904498038184272, '신포동 불법주정차')]\n",
      "prompt1: -민원제목: 불법주차 때문에 다니기가 힘듭니다\n",
      "민원 내용:불법주차 때문에 다니기가 힘듭니다운남동 중구농협본점 뒷편은평일엔 항상 양쪽으로 주차가 되어 통행이 나도 어렵다양방향으로 진행시 한쪽이 비어있으면 양보하여 겨우 지나갈수 있지만그럴 공간이 없을 경우 정말 난감 불법주차된 차량사이로 사람이 갑자기 나타나면 정말 운전이 무서워집니다...비단 이 지역만의 문제가 기 때문에운남동 원룸이 많은 골목과 불법주차가 많은 지역에 불법주정차로 인한 피해가 없도록 지속적인 단속과 cctv설치 건의드립니다\n",
      "-민원 답변: 지속관리를 하신다고 하셨는데...\n",
      "현재까지도 개선이 안되고 있으며\n",
      "\n",
      "농협앞 도로는 버스정류장이 있음에도\n",
      "불법주정차가 만연한 상황입니다\n",
      "\n",
      "그리고 불법주정차를 신고하려면\n",
      "운전자가 이동한 상황이 되어버리고\n",
      "또한 신고도중 시비가 생길 여지도 있을것 같습니다\n",
      "\n",
      "cctv는 설치가 불가능한건가요??\n",
      "-새로운 민원:불법주차 단속 안하나요? 횡단보도 앞뒤로 주차가 되어있어서 횡단보도를 건너는데 차가 오는지안오는지 보이지가 않아요. 어제 전동교회 앞에서 횡단보도를 건너다가 차가 갑자기 빠르게 지나가서 깜짝 놀랐고, 사고날뻔 했어요. 단속 좀 제대로 해주세요\n",
      "-민원 답변:\n",
      "prompt2: -민원제목: 중구청 뒤 불법 주차 단속 요청\n",
      "민원 내용:중구청 뒤 불법 주차 단속 요청. 아침 저녁으로 중구청 뒷길을 차량으로 이용하고 있다. 신포동 일대의 주차 단속은 꽤 철저한 편입니다. 제가 아는 지인도 주차 구역이 아닌 곳에 주차 후 주차 위반으로 여러번 범칙금을 내는 것을 봤다. 주차 구역 이외의 지역에 주차 하는 것은 여러 사람에게 불편을 초래하는 일로 당연히 철저하게 단속되어야 . 하지만 중구청 뒷길은 왜 이중 주차 허용하는지 궁금. 매일 그 길을 이용하면서 차량들이 엉키고 큰 트럭이 힘겹게 후진을 하는 일이 다반사입니다. 가장 어이없는 일은 차량들이 엉켜서 극심한 정체 빚고 있었을 때 주차 단속을 나오신 분이 어떠한 차량도 주차 단속하지 않고 차 후진하라는 말만 하고선 가군요. 정말 화가  났다. 그 골목은 주차단속을 하지 않는 구역인가요이런 일이 하루이틀 저만의 문제가 라서 주변 사람들에게 이야기해 보니 그 중구청 뒷골목의 차량들 대부분이 중구청 직원 차량이라는 이야기 들었다그래서 단속하지 않는다는 이야기도 들었다. 유독 중구청 뒤만 단속하지 않는 것으로 보아 이런 이야기가 나올만 .. 물론 이것은 확인되지 않은 사실이지만  이것이 사실이라면 요즘같이 1인 1차량 시대에 직원들을 위한 주차장이 구비되어야 한다고 봅니다. 이러한 불편을 그 지역을 지나다니는 사람들이 떠안을 이유는 없다고 봅니다.  하나 이렇게 민원을 넣어 봤자 일주일 단속한 뒤  원상대로 돌아간다는 이야기도 들었다. 저가 아이핀 인증까지 힘겹게 받아가지고 여기에 구구절절 민원을 남기는 이유는 잠깐만 불편을 해소하고자 올리는 것이 아닙니다. 근본적으로 문제가 해결되어서 중구청 뒷길에 이중주차 문제 불법 주차 문제가 해결되길 원하는 바입니다. 매번 그 길을 이용하면서 불편함이 아주 극심. 중구 지역의 불법 주차 문제 단속하고 편리 도모하는 중구청에서 먼저 모범을 보여 주었으면 . 이 문제가 근본적으로 해결되지 않는다면 다른 곳에 도움을 받아 해결해 볼 방법을 도모하겠다.\n",
      "-민원 답변: 1. 구정발전과 교통환경개선을 위한 관심과 협조에 감사드립니다.     2. 우선 불법주차 차량들로 인하여 통행에 불편을 끼쳐드린 점 송구스럽게 생각하면 의견주신 내용에 대하여 답변드리겠습니다.     3. 귀하의 신고사항을 접수하여 단속반에 통보하였으며, 지속적인 안내와 단속으로 중구청 뒤 불법 주정차위반이 근절되도록 노력하겠습니다.     4. 차후 주정차 위반사실을 발견할 시 중구청 단속반(전화: 760-7567)으로 신고하시면 즉시 단속을 실시 하겠습니다.     5. 귀하와 귀하의 가정에 건강과 행복이 항상 함께 하길 기원합니다. 붙임 : 2016년4월10일-a0-민원상담목록번호16383\n",
      "-새로운 민원:불법주차 단속 안하나요? 횡단보도 앞뒤로 주차가 되어있어서 횡단보도를 건너는데 차가 오는지안오는지 보이지가 않아요. 어제 전동교회 앞에서 횡단보도를 건너다가 차가 갑자기 빠르게 지나가서 깜짝 놀랐고, 사고날뻔 했어요. 단속 좀 제대로 해주세요\n",
      "-민원 답변:\n",
      "prompt3: -민원제목: 불법 주정차 단속요청\n",
      "민원 내용:불법 주정차 단속요청불법 주정차 차량때문에 글 올립니다.인천 중구 서해대로94번길쪽입니다.승용차가 아닌 대형트럭이나 트레일러 등이 3차로에 항시 주차되어 있다보니사업장으로 진출입시 시야확보가 어려워 위험성이 높고간판마저도 가려지는 경우가 있어 영업에 어려움이 있다.편도3차로 도로인데 3차로는 항상 주차장을 방불케하고2차로까지도 주차가 되어 있는 실정입니다.이쪽 아암물류단지 대부분의 도로가 비슷한 사정으로 알고 있다.대책 마련 및 철저한 주차단속을 부탁드립니다.\n",
      "-민원 답변: 안녕하세요 교통행정과 김석환입니다.아암물류단지의 경우 주차장의 확보없이 현재 화물차의 물건을 받고 있습니다.그로 인한 피해는 현재 민원분께서 도로상에 보는 현재 그대로의 상황입니다.단속을 하고 있지만 실제 화물차들이 줄서기 등을 하는 이유로 단속도 잘 이루어지지 않는입장입니다. 다만 교통의 흐름에 큰 방해가 되는 경우와  이중주차의 경우는 신고를 해주시면 저희가 나가서 단속을 하고 해결할 수 있는 부분은 해결하도록 하겠습니다. 단속반 760-7567 으로 연락을 주시거나, 760-7563으로 연락을 주시면 되겠습니다.\n",
      "-새로운 민원:불법주차 단속 안하나요? 횡단보도 앞뒤로 주차가 되어있어서 횡단보도를 건너는데 차가 오는지안오는지 보이지가 않아요. 어제 전동교회 앞에서 횡단보도를 건너다가 차가 갑자기 빠르게 지나가서 깜짝 놀랐고, 사고날뻔 했어요. 단속 좀 제대로 해주세요\n",
      "-민원 답변:\n"
     ]
    }
   ],
   "source": [
    "#임베딩 저장한거 잘 작동되는 지 확인\n",
    "##새로운 민원\n",
    "query=\"불법주차 단속 안하나요? 횡단보도 앞뒤로 주차가 되어있어서 횡단보도를 건너는데 차가 오는지안오는지 보이지가 않아요. 어제 전동교회 앞에서 횡단보도를 건너다가 차가 갑자기 빠르게 지나가서 깜짝 놀랐고, 사고날뻔 했어요. 단속 좀 제대로 해주세요\"\n",
    "similar_complaints=order_document_sections_by_query_similarity(query, r_document_embeddings)[:5]\n",
    "\n",
    "#유사민원 전체 내용 및 df 불러오기.\n",
    "###유사민원 결과를 저장 값->set의 list형태\n",
    "print(similar_complaints)\n",
    "\n",
    "#프롬프트 구조화 \n",
    "prompts=[]\n",
    "prompts = generate_prompts(similar_complaints, query)"
   ]
  },
  {
   "cell_type": "code",
   "execution_count": 71,
   "id": "8902380b",
   "metadata": {},
   "outputs": [],
   "source": [
    "#몇번째 생성된 prompt를 넣을 지\n",
    "n=prompts[0]\n",
    "messages = [\n",
    "    {\"role\": \"system\", \"content\": \"You should act as an assistant to the civil service officer.모든 대답은 한글로.\"},\n",
    "    {\"role\": \"user\", \"content\" :\"{} \\n 위의 민원 답변 형식에 맞춰서 새로운 민원에 대한 답변을 생성해.\".format(n)}\n",
    "]\n",
    "answer=print_response(messages)"
   ]
  },
  {
   "cell_type": "code",
   "execution_count": 74,
   "id": "d27b43b3",
   "metadata": {
    "scrolled": false
   },
   "outputs": [
    {
     "name": "stdout",
     "output_type": "stream",
     "text": [
      "-민원제목: 불법주차 때문에 다니기가 힘듭니다\n",
      "민원 내용:불법주차 때문에 다니기가 힘듭니다운남동 중구농협본점 뒷편은평일엔 항상 양쪽으로 주차가 되어 통행이 나도 어렵다양방향으로 진행시 한쪽이 비어있으면 양보하여 겨우 지나갈수 있지만그럴 공간이 없을 경우 정말 난감 불법주차된 차량사이로 사람이 갑자기 나타나면 정말 운전이 무서워집니다...비단 이 지역만의 문제가 기 때문에운남동 원룸이 많은 골목과 불법주차가 많은 지역에 불법주정차로 인한 피해가 없도록 지속적인 단속과 cctv설치 건의드립니다\n",
      "-민원 답변: 지속관리를 하신다고 하셨는데...\n",
      "현재까지도 개선이 안되고 있으며\n",
      "\n",
      "농협앞 도로는 버스정류장이 있음에도\n",
      "불법주정차가 만연한 상황입니다\n",
      "\n",
      "그리고 불법주정차를 신고하려면\n",
      "운전자가 이동한 상황이 되어버리고\n",
      "또한 신고도중 시비가 생길 여지도 있을것 같습니다\n",
      "\n",
      "cctv는 설치가 불가능한건가요??\n",
      "-새로운 민원:불법주차 단속 안하나요? 횡단보도 앞뒤로 주차가 되어있어서 횡단보도를 건너는데 차가 오는지안오는지 보이지가 않아요. 어제 전동교회 앞에서 횡단보도를 건너다가 차가 갑자기 빠르게 지나가서 깜짝 놀랐고, 사고날뻔 했어요. 단속 좀 제대로 해주세요\n",
      "-민원 답변:\n",
      "------------------------------------------\n",
      "안녕하세요. 시민 서비스 담당자입니다.\n",
      "\n",
      "불법주차 단속에 대한 권고 및 주의사항을 운전자들에게 지속적으로 알리고 있지만, 여전히 일부 운전자들은 이를 무시하는 경우가 있습니다. 또한, 현재 해당 지역은 불법주차 신고가 많이 이루어지고 있어, 단속 인력을 배치하여 지속적인 단속을 하고 있습니다.\n",
      "\n",
      "횡단보도 앞뒤로 주차된 차량에 대해서는, 안전한 보행 환경 조성을 위해 단속을 강화할 예정이며, 또한 해당 지역에 CCTV 설치를 검토하도록 하겠습니다.\n",
      "\n",
      "시민 여러분의 건강하고 안전한 일상을 위해 항상 최선을 다하겠습니다. 감사합니다.\n"
     ]
    }
   ],
   "source": [
    "print(n)\n",
    "print(\"------------------------------------------\")\n",
    "print(answer)"
   ]
  },
  {
   "cell_type": "markdown",
   "id": "5750331f",
   "metadata": {},
   "source": [
    "---"
   ]
  },
  {
   "cell_type": "code",
   "execution_count": 75,
   "id": "6184c3fc",
   "metadata": {},
   "outputs": [],
   "source": [
    "#몇번째 생성된 prompt를 넣을 지\n",
    "n=prompts[1]\n",
    "messages = [\n",
    "    {\"role\": \"system\", \"content\": \"You should act as an assistant to the civil service officer.모든 대답은 한글로.\"},\n",
    "    {\"role\": \"user\", \"content\" :\"{} \\n 위의 민원 답변 형식에 맞춰서 새로운 민원에 대한 답변을 생성해.\".format(n)}\n",
    "]\n",
    "answer=print_response(messages)"
   ]
  },
  {
   "cell_type": "code",
   "execution_count": 76,
   "id": "347a8d90",
   "metadata": {},
   "outputs": [
    {
     "name": "stdout",
     "output_type": "stream",
     "text": [
      "-민원제목: 중구청 뒤 불법 주차 단속 요청\n",
      "민원 내용:중구청 뒤 불법 주차 단속 요청. 아침 저녁으로 중구청 뒷길을 차량으로 이용하고 있다. 신포동 일대의 주차 단속은 꽤 철저한 편입니다. 제가 아는 지인도 주차 구역이 아닌 곳에 주차 후 주차 위반으로 여러번 범칙금을 내는 것을 봤다. 주차 구역 이외의 지역에 주차 하는 것은 여러 사람에게 불편을 초래하는 일로 당연히 철저하게 단속되어야 . 하지만 중구청 뒷길은 왜 이중 주차 허용하는지 궁금. 매일 그 길을 이용하면서 차량들이 엉키고 큰 트럭이 힘겹게 후진을 하는 일이 다반사입니다. 가장 어이없는 일은 차량들이 엉켜서 극심한 정체 빚고 있었을 때 주차 단속을 나오신 분이 어떠한 차량도 주차 단속하지 않고 차 후진하라는 말만 하고선 가군요. 정말 화가  났다. 그 골목은 주차단속을 하지 않는 구역인가요이런 일이 하루이틀 저만의 문제가 라서 주변 사람들에게 이야기해 보니 그 중구청 뒷골목의 차량들 대부분이 중구청 직원 차량이라는 이야기 들었다그래서 단속하지 않는다는 이야기도 들었다. 유독 중구청 뒤만 단속하지 않는 것으로 보아 이런 이야기가 나올만 .. 물론 이것은 확인되지 않은 사실이지만  이것이 사실이라면 요즘같이 1인 1차량 시대에 직원들을 위한 주차장이 구비되어야 한다고 봅니다. 이러한 불편을 그 지역을 지나다니는 사람들이 떠안을 이유는 없다고 봅니다.  하나 이렇게 민원을 넣어 봤자 일주일 단속한 뒤  원상대로 돌아간다는 이야기도 들었다. 저가 아이핀 인증까지 힘겹게 받아가지고 여기에 구구절절 민원을 남기는 이유는 잠깐만 불편을 해소하고자 올리는 것이 아닙니다. 근본적으로 문제가 해결되어서 중구청 뒷길에 이중주차 문제 불법 주차 문제가 해결되길 원하는 바입니다. 매번 그 길을 이용하면서 불편함이 아주 극심. 중구 지역의 불법 주차 문제 단속하고 편리 도모하는 중구청에서 먼저 모범을 보여 주었으면 . 이 문제가 근본적으로 해결되지 않는다면 다른 곳에 도움을 받아 해결해 볼 방법을 도모하겠다.\n",
      "-민원 답변: 1. 구정발전과 교통환경개선을 위한 관심과 협조에 감사드립니다.     2. 우선 불법주차 차량들로 인하여 통행에 불편을 끼쳐드린 점 송구스럽게 생각하면 의견주신 내용에 대하여 답변드리겠습니다.     3. 귀하의 신고사항을 접수하여 단속반에 통보하였으며, 지속적인 안내와 단속으로 중구청 뒤 불법 주정차위반이 근절되도록 노력하겠습니다.     4. 차후 주정차 위반사실을 발견할 시 중구청 단속반(전화: 760-7567)으로 신고하시면 즉시 단속을 실시 하겠습니다.     5. 귀하와 귀하의 가정에 건강과 행복이 항상 함께 하길 기원합니다. 붙임 : 2016년4월10일-a0-민원상담목록번호16383\n",
      "-새로운 민원:불법주차 단속 안하나요? 횡단보도 앞뒤로 주차가 되어있어서 횡단보도를 건너는데 차가 오는지안오는지 보이지가 않아요. 어제 전동교회 앞에서 횡단보도를 건너다가 차가 갑자기 빠르게 지나가서 깜짝 놀랐고, 사고날뻔 했어요. 단속 좀 제대로 해주세요\n",
      "-민원 답변:\n",
      "------------------------------------------\n",
      "1. 교통안전 확보와 불법 주차 근절을 위한 관심에 감사드립니다.\n",
      "2. 불법 주차로 인하여 횡단보도를 건널 때 위험을 느끼실 정도로 심각한 상황이라는 것을 인지하였습니다. \n",
      "3. 본 민원 사항에 대하여 접수하여 단속반에 통보하였습니다. 횡단보도와 주변 도로의 안전을 위하여 불법 주차 문제가 근절되도록 지속적인 단속을 실시하겠습니다. \n",
      "4. 민원 내용에 따라서, 불법 주차 단속을 할 때 가급적 선방에서 실시하며, 특히 횡단보도 근처는 꼼꼼히 단속하도록 노력하겠습니다. \n",
      "5. 귀하와 관련된 모든 시민분들께서는 안전한 도로 환경을 만들기 위해 함께 노력해주시면 감사하겠습니다. \n",
      "붙임: 2021년 9월 15일 - 대한민국 중앙청 이하\n"
     ]
    }
   ],
   "source": [
    "print(n)\n",
    "print(\"------------------------------------------\")\n",
    "print(answer)"
   ]
  },
  {
   "cell_type": "code",
   "execution_count": null,
   "id": "215fb389",
   "metadata": {},
   "outputs": [],
   "source": []
  }
 ],
 "metadata": {
  "kernelspec": {
   "display_name": "Python 3 (ipykernel)",
   "language": "python",
   "name": "python3"
  },
  "language_info": {
   "codemirror_mode": {
    "name": "ipython",
    "version": 3
   },
   "file_extension": ".py",
   "mimetype": "text/x-python",
   "name": "python",
   "nbconvert_exporter": "python",
   "pygments_lexer": "ipython3",
   "version": "3.9.13"
  }
 },
 "nbformat": 4,
 "nbformat_minor": 5
}
