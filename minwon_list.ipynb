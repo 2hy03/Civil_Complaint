{
 "cells": [
  {
   "cell_type": "code",
   "execution_count": 1,
   "id": "bcf27cf7",
   "metadata": {},
   "outputs": [],
   "source": [
    "from bs4 import BeautifulSoup\n",
    "import sys #저장 시 사용하는 모듈\n",
    "import pandas as pd\n",
    "import re\n",
    "import time\n",
    "from selenium import webdriver\n",
    "from selenium.webdriver.common.by import By\n",
    "options = webdriver.ChromeOptions()\n",
    "options.add_argument('--headless')        # Head-less 설정\n",
    "options.add_argument('--no-sandbox')\n",
    "options.add_argument('--disable-dev-shm-usage')\n",
    "\n",
    "#driver = webdriver.Chrome('chromedrive|r', options=options) #창안뜨게 옵션 적용"
   ]
  },
  {
   "cell_type": "code",
   "execution_count": 2,
   "id": "95c4c09f",
   "metadata": {},
   "outputs": [],
   "source": [
    "import warnings\n",
    "warnings.filterwarnings(action='ignore')"
   ]
  },
  {
   "cell_type": "code",
   "execution_count": 3,
   "id": "85fbad8b",
   "metadata": {},
   "outputs": [],
   "source": [
    "#크롬 드라이버를 사용해서 웹 브라우저 실행\n",
    "path = \"/content/drive/MyDrive/Colab Notebooks/chromedriver.exe\"\n",
    "\n",
    "driver = webdriver.Chrome('chromedriver')\n",
    "web=\"https://eminwon.icjg.go.kr/emwp/gov/mogaha/ntis/web/emwp/cmmpotal/action/EmwpMainMgtAction.do\"\n",
    "\n",
    "driver.get(web)\n",
    "time.sleep(1) #인터넷 창이 모두 열릴 때까지 2초 기다림\n",
    "\n",
    "minwon_df = []\n",
    "df = pd.DataFrame(minwon_df, columns = ['page','num','title','date','answer'])\n",
    "num = 0\n"
   ]
  },
  {
   "cell_type": "code",
   "execution_count": 4,
   "id": "ebf6c20d",
   "metadata": {
    "scrolled": true
   },
   "outputs": [],
   "source": [
    "#온라인 민원상담 페이지로 이동\n",
    "driver.find_element(By.XPATH, r'//*[@id=\"header\"]/div[2]/div/div[2]/ul/li[1]/a').click()\n",
    "time.sleep(1) \n",
    "driver.find_element(By.XPATH,'//*[@id=\"allmenu\"]/div/div[2]/div[1]/ul/li/a').click()"
   ]
  },
  {
   "cell_type": "code",
   "execution_count": 5,
   "id": "2634bc85",
   "metadata": {
    "scrolled": true
   },
   "outputs": [],
   "source": [
    "#셀레니움으로 민원목록 가져오기\n",
    "for page in range(77): #가져오는 페이지\n",
    "    html = driver.page_source  #현재 화면의 html을 모두 불러옴\n",
    "    soup = BeautifulSoup(html, 'html.parser')  #불러오는 정보를 걸러주는 도구\n",
    "    \n",
    "    minwon_dates = [ date.get_text() for date in soup.find_all('td', attrs={'class':'td-date'})] # 민원 작성일\n",
    "    minwon_num=[num.get_text()for num in soup.find_all('td',attrs={'class':'td-num'})] # 민원 번호\n",
    "    minwon_answer=[answer.get_text()for answer in soup.find_all('td',attrs={'class':'td-answer'})] #답변여부\n",
    "    \n",
    "    minwon_date = [] #민원 작성일 정제\n",
    "    for date in minwon_dates:\n",
    "        if re.search(r'\\d+.\\d+.\\d+.', date) != None: \n",
    "            date = re.sub(\"-\",\".\",date)\n",
    "            minwon_date.append(date)\n",
    "            \n",
    "    minwonlist = soup.select(\"table > tbody > tr > td.td-list > a\")\n",
    "    links=driver.find_elements(By.CSS_SELECTOR,\"table > tbody > tr > td.td-list > a\")\n",
    "    n=-1\n",
    "    for i in minwonlist:\n",
    "        n=n+1\n",
    "        minwon = i.text.strip()\n",
    "        \n",
    "        df = df.append({'page':page+1,'num':minwon_num[n],'date':minwon_date[n],'title':minwon,'answer':minwon_answer[n]}, ignore_index=True)\n",
    "     \n",
    "    if page > 100: \n",
    "        element = driver.find_element(By.XPATH,'/html/body/main/div/form/div[2]/a[11]')\n",
    "    else: element = driver.find_element(By.XPATH,'/html/body/main/div/form/div[2]/a[12]')\n",
    "    driver.execute_script(\"arguments[0].click();\", element)\n",
    "    time.sleep(2)\n",
    "\n",
    "minwon_df = df  "
   ]
  },
  {
   "cell_type": "code",
   "execution_count": 7,
   "id": "1aa87f40",
   "metadata": {
    "scrolled": true
   },
   "outputs": [],
   "source": [
    "#pd.set_option('display.max_rows', None)\n",
    "minwonlist=minwon_df"
   ]
  },
  {
   "cell_type": "code",
   "execution_count": 30,
   "id": "05bae05c",
   "metadata": {},
   "outputs": [],
   "source": [
    "minwonlist.to_csv(\"minwonlist.csv\", mode='w')"
   ]
  },
  {
   "cell_type": "code",
   "execution_count": 6,
   "id": "0721786e",
   "metadata": {},
   "outputs": [
    {
     "data": {
      "text/plain": [
       "\"\\n#답변완료된 df\\nanswer_df=minwon_df[minwon_df['answer']=='답변완료']\\nanswer_df\\n\""
      ]
     },
     "execution_count": 6,
     "metadata": {},
     "output_type": "execute_result"
    }
   ],
   "source": [
    "\"\"\"\n",
    "#답변완료된 df\n",
    "answer_df=minwon_df[minwon_df['answer']=='답변완료']\n",
    "answer_df\n",
    "\"\"\""
   ]
  },
  {
   "cell_type": "code",
   "execution_count": 31,
   "id": "7687d4dd",
   "metadata": {},
   "outputs": [
    {
     "data": {
      "text/plain": [
       "'\\nimport requests\\nfrom bs4 import BeautifulSoup\\n\\n# 검색 조건 설정\\npayload = {\\n    \"searchStartDt\": \"2022-01-01\",\\n    \"searchEndDt\": \"2022-12-31\",\\n    \"currentPage\": \"1\",\\n    \"pagePerRow\": \"100\",\\n    \"searchWord\": \"\",\\n    \"searchType\": \"wrcTitle\"\\n}\\n\\n# 공개민원내역 페이지 URL\\nurl = \"https://eminwon.icjg.go.kr/emwp/gov/mogaha/ntis/web/emwp/cmmpotal/action/EmwpMainMgtAction.do\"\\n\\n# POST 요청 보내기\\nresponse = requests.post(url, data=payload)\\n\\n# HTML 파싱\\nsoup = BeautifulSoup(response.content, \"html.parser\")\\n\\n# 민원내역 추출\\ntable = soup.find(\"table\", {\"class\": \"boardList\"})\\nrows = table.find_all(\"tr\")[1:]  # 첫 번째 행은 헤더이므로 제외\\nfor row in rows:\\n    columns = row.find_all(\"td\")\\n    no = columns[0].text.strip()\\n    title = columns[1].text.strip()\\n    name = columns[2].text.strip()\\n    date = columns[3].text.strip()\\n    print(f\"{no}\\t{title}\\t{name}\\t{date}\")\\n'"
      ]
     },
     "execution_count": 31,
     "metadata": {},
     "output_type": "execute_result"
    }
   ],
   "source": [
    "\"\"\"\n",
    "import requests\n",
    "from bs4 import BeautifulSoup\n",
    "\n",
    "# 검색 조건 설정\n",
    "payload = {\n",
    "    \"searchStartDt\": \"2022-01-01\",\n",
    "    \"searchEndDt\": \"2022-12-31\",\n",
    "    \"currentPage\": \"1\",\n",
    "    \"pagePerRow\": \"100\",\n",
    "    \"searchWord\": \"\",\n",
    "    \"searchType\": \"wrcTitle\"\n",
    "}\n",
    "\n",
    "# 공개민원내역 페이지 URL\n",
    "url = \"https://eminwon.icjg.go.kr/emwp/gov/mogaha/ntis/web/emwp/cmmpotal/action/EmwpMainMgtAction.do\"\n",
    "\n",
    "# POST 요청 보내기\n",
    "response = requests.post(url, data=payload)\n",
    "\n",
    "# HTML 파싱\n",
    "soup = BeautifulSoup(response.content, \"html.parser\")\n",
    "\n",
    "# 민원내역 추출\n",
    "table = soup.find(\"table\", {\"class\": \"boardList\"})\n",
    "rows = table.find_all(\"tr\")[1:]  # 첫 번째 행은 헤더이므로 제외\n",
    "for row in rows:\n",
    "    columns = row.find_all(\"td\")\n",
    "    no = columns[0].text.strip()\n",
    "    title = columns[1].text.strip()\n",
    "    name = columns[2].text.strip()\n",
    "    date = columns[3].text.strip()\n",
    "    print(f\"{no}\\t{title}\\t{name}\\t{date}\")\n",
    "\"\"\""
   ]
  },
  {
   "cell_type": "code",
   "execution_count": null,
   "id": "79b3592d",
   "metadata": {},
   "outputs": [],
   "source": []
  }
 ],
 "metadata": {
  "kernelspec": {
   "display_name": "Python 3 (ipykernel)",
   "language": "python",
   "name": "python3"
  },
  "language_info": {
   "codemirror_mode": {
    "name": "ipython",
    "version": 3
   },
   "file_extension": ".py",
   "mimetype": "text/x-python",
   "name": "python",
   "nbconvert_exporter": "python",
   "pygments_lexer": "ipython3",
   "version": "3.9.13"
  }
 },
 "nbformat": 4,
 "nbformat_minor": 5
}
