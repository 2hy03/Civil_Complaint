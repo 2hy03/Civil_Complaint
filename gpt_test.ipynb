{
 "cells": [
  {
   "cell_type": "code",
   "execution_count": 20,
   "id": "ea87d2ff",
   "metadata": {},
   "outputs": [
    {
     "data": {
      "text/html": [
       "\n",
       "<style>\n",
       "    div#notebook-container    { width: 95%; }\n",
       "    div#menubar-container     { width: 95%; }\n",
       "    div#maintoolbar-container { width: 99%; }\n",
       "</style>\n"
      ],
      "text/plain": [
       "<IPython.core.display.HTML object>"
      ]
     },
     "metadata": {},
     "output_type": "display_data"
    }
   ],
   "source": [
    "from IPython.display import display, HTML\n",
    "display(HTML(data=\"\"\"\n",
    "<style>\n",
    "    div#notebook-container    { width: 95%; }\n",
    "    div#menubar-container     { width: 95%; }\n",
    "    div#maintoolbar-container { width: 99%; }\n",
    "</style>\n",
    "\"\"\"))"
   ]
  },
  {
   "cell_type": "code",
   "execution_count": 21,
   "id": "51a189a6",
   "metadata": {},
   "outputs": [],
   "source": [
    "import requests\n",
    "\n",
    "import pandas as pd\n",
    "import numpy as np\n",
    "import copy\n",
    "import json\n",
    "\n",
    "from ast import literal_eval\n",
    "\n",
    "import torch\n",
    "from sentence_transformers import SentenceTransformer, util\n",
    "from transformers import AutoTokenizer, AutoModel\n",
    "from transformers import OwlViTProcessor, OwlViTForObjectDetection\n",
    "from transformers import pipeline\n",
    "from transformers import GPT2TokenizerFast\n",
    "from PIL import Image\n",
    "\n",
    "import pickle"
   ]
  },
  {
   "cell_type": "code",
   "execution_count": 22,
   "id": "6d82beb7",
   "metadata": {},
   "outputs": [],
   "source": [
    "import matplotlib.pyplot as plt\n",
    "from typing import List, Tuple, Dict\n",
    "\n",
    "import sklearn.datasets as datasets\n",
    "import sklearn.manifold as manifold"
   ]
  },
  {
   "cell_type": "code",
   "execution_count": 23,
   "id": "c6ed0dc4",
   "metadata": {},
   "outputs": [],
   "source": [
    "import openai\n",
    "import os\n",
    "import sys\n",
    "import dotenv\n",
    "from dotenv import load_dotenv\n",
    "from sklearn.metrics.pairwise import cosine_similarity\n",
    "import tiktoken\n",
    "\n",
    "api_path=\"C:/Users/2hy03/gpt_test.env\"\n",
    "load_dotenv(api_path) # .env 파일에서 환경 변수 로드\n",
    "api_key = os.getenv(\"OPENAI_API_KEY\") # API 키 가져오기\n",
    "openai.api_key=os.getenv(\"OPENAI_API_KEY\") "
   ]
  },
  {
   "cell_type": "code",
   "execution_count": 24,
   "id": "d9d07dcf",
   "metadata": {},
   "outputs": [],
   "source": [
    "cur_os = sys.platform"
   ]
  },
  {
   "cell_type": "code",
   "execution_count": 6,
   "id": "5f49b9b4",
   "metadata": {},
   "outputs": [],
   "source": [
    "model_path = f\"D:/github\" if cur_os.startswith('win') else None"
   ]
  },
  {
   "cell_type": "code",
   "execution_count": 7,
   "id": "00efe60c",
   "metadata": {
    "scrolled": false
   },
   "outputs": [
    {
     "name": "stdout",
     "output_type": "stream",
     "text": [
      "(521, 4)\n"
     ]
    },
    {
     "data": {
      "text/html": [
       "<div>\n",
       "<style scoped>\n",
       "    .dataframe tbody tr th:only-of-type {\n",
       "        vertical-align: middle;\n",
       "    }\n",
       "\n",
       "    .dataframe tbody tr th {\n",
       "        vertical-align: top;\n",
       "    }\n",
       "\n",
       "    .dataframe thead th {\n",
       "        text-align: right;\n",
       "    }\n",
       "</style>\n",
       "<table border=\"1\" class=\"dataframe\">\n",
       "  <thead>\n",
       "    <tr style=\"text-align: right;\">\n",
       "      <th></th>\n",
       "      <th>title</th>\n",
       "      <th>content</th>\n",
       "      <th>answer</th>\n",
       "      <th>depart</th>\n",
       "    </tr>\n",
       "  </thead>\n",
       "  <tbody>\n",
       "    <tr>\n",
       "      <th>0</th>\n",
       "      <td>주차장이 너무 어두워요</td>\n",
       "      <td>민원 내용:주차장이  어두워요중구 전동 25328 번지옆 전동쉼터 옆 공영주차장이 ...</td>\n",
       "      <td>1. 구정 발전에 관심을 가져주시는 귀하께 감사의 말씀을 드립니다.2. 민원 제기하...</td>\n",
       "      <td>도시개발국 교통운수과</td>\n",
       "    </tr>\n",
       "    <tr>\n",
       "      <th>1</th>\n",
       "      <td>뭐에요? 거잠포선착장 쓰레기 그대로잖아요? 하나도 안 되어있네요?</td>\n",
       "      <td>민원 내용:뭐에요? 거잠포선착장 쓰레기 그대로잖아요? 하나도 안 되어있네요? 거기 ...</td>\n",
       "      <td>1. 안녕하십니까? 귀하께서 상담민원을 통해 신청하신 민원에 대한 검토 결과를 다음...</td>\n",
       "      <td>국제도시건설국 농수산과</td>\n",
       "    </tr>\n",
       "    <tr>\n",
       "      <th>2</th>\n",
       "      <td>9100번 광역버스 배차간격 준수 요청 건</td>\n",
       "      <td>민원 내용:9100번 광역버스 배차간격 준수 요청 건집안 사정으로 서구에서 남동구 ...</td>\n",
       "      <td>불편사항이 해결됨</td>\n",
       "      <td>도시개발국 교통운수과</td>\n",
       "    </tr>\n",
       "    <tr>\n",
       "      <th>3</th>\n",
       "      <td>46번버스 신흥교통 정상이아닌 버스업체</td>\n",
       "      <td>민원 내용:46번버스 신흥교통 정상이아닌 버스업체46번버스 신흥교통 손님에게 막말하...</td>\n",
       "      <td>1. 교통 업무에 많은 관심과 애정을 가져주셔서 깊이 감사드립니다. 2. 귀하께서 ...</td>\n",
       "      <td>도시개발국 교통운수과</td>\n",
       "    </tr>\n",
       "    <tr>\n",
       "      <th>4</th>\n",
       "      <td>살려주세요 제발 요즘 가게 망하게 만드는 일들만 일어나네요..제발요(영종도 호텔)</td>\n",
       "      <td>민원 내용:  요즘 가게 망하게 만드는 일들만 일어나네요..요(영종도 호텔)요즘 전...</td>\n",
       "      <td>1. 구정 발전을 위해 관심을 가져주시는 귀하께 깊은 감사를 드립니다.2. 모두가 ...</td>\n",
       "      <td>국제도시건설국 도시공원과</td>\n",
       "    </tr>\n",
       "  </tbody>\n",
       "</table>\n",
       "</div>"
      ],
      "text/plain": [
       "                                           title  \\\n",
       "0                                   주차장이 너무 어두워요   \n",
       "1           뭐에요? 거잠포선착장 쓰레기 그대로잖아요? 하나도 안 되어있네요?   \n",
       "2                        9100번 광역버스 배차간격 준수 요청 건   \n",
       "3                          46번버스 신흥교통 정상이아닌 버스업체   \n",
       "4  살려주세요 제발 요즘 가게 망하게 만드는 일들만 일어나네요..제발요(영종도 호텔)   \n",
       "\n",
       "                                             content  \\\n",
       "0  민원 내용:주차장이  어두워요중구 전동 25328 번지옆 전동쉼터 옆 공영주차장이 ...   \n",
       "1  민원 내용:뭐에요? 거잠포선착장 쓰레기 그대로잖아요? 하나도 안 되어있네요? 거기 ...   \n",
       "2  민원 내용:9100번 광역버스 배차간격 준수 요청 건집안 사정으로 서구에서 남동구 ...   \n",
       "3  민원 내용:46번버스 신흥교통 정상이아닌 버스업체46번버스 신흥교통 손님에게 막말하...   \n",
       "4  민원 내용:  요즘 가게 망하게 만드는 일들만 일어나네요..요(영종도 호텔)요즘 전...   \n",
       "\n",
       "                                              answer         depart  \n",
       "0  1. 구정 발전에 관심을 가져주시는 귀하께 감사의 말씀을 드립니다.2. 민원 제기하...    도시개발국 교통운수과  \n",
       "1  1. 안녕하십니까? 귀하께서 상담민원을 통해 신청하신 민원에 대한 검토 결과를 다음...   국제도시건설국 농수산과  \n",
       "2                                          불편사항이 해결됨    도시개발국 교통운수과  \n",
       "3  1. 교통 업무에 많은 관심과 애정을 가져주셔서 깊이 감사드립니다. 2. 귀하께서 ...    도시개발국 교통운수과  \n",
       "4  1. 구정 발전을 위해 관심을 가져주시는 귀하께 깊은 감사를 드립니다.2. 모두가 ...  국제도시건설국 도시공원과  "
      ]
     },
     "execution_count": 7,
     "metadata": {},
     "output_type": "execute_result"
    }
   ],
   "source": [
    "minwon_metadata= pd.read_csv('minwon.csv', sep=\",\", dtype=str)\n",
    "print(minwon_metadata.shape)\n",
    "minwon_metadata.head()"
   ]
  },
  {
   "cell_type": "markdown",
   "id": "d9fd5ec4",
   "metadata": {},
   "source": [
    "# HuggingFace embedding"
   ]
  },
  {
   "cell_type": "markdown",
   "id": "a488508f",
   "metadata": {},
   "source": [
    "- DistilBERT(Distilled BERT) 모델\n",
    "\n",
    "    -BERT 모델의 경량화 버전\n",
    "    \n",
    "    -WordPiece 토크나이저 사용\n",
    "    \n",
    "    -BERT 모델보다 빠른 추론 속도와 적은 메모리 사용량\n",
    "    \n",
    "    -대용량 데이터가 없는 상황에서도 잘 작동함\n",
    "    \n",
    " \n",
    "- GPT-2이용해보기"
   ]
  },
  {
   "cell_type": "code",
   "execution_count": 190,
   "id": "1333d437",
   "metadata": {},
   "outputs": [],
   "source": [
    "from sentence_transformers import SentenceTransformer\n",
    "model = SentenceTransformer('paraphrase-distilroberta-base-v2')"
   ]
  },
  {
   "cell_type": "code",
   "execution_count": 191,
   "id": "65edf8e3",
   "metadata": {
    "scrolled": true
   },
   "outputs": [
    {
     "ename": "KeyboardInterrupt",
     "evalue": "",
     "output_type": "error",
     "traceback": [
      "\u001b[1;31m---------------------------------------------------------------------------\u001b[0m",
      "\u001b[1;31mKeyboardInterrupt\u001b[0m                         Traceback (most recent call last)",
      "\u001b[1;32m~\\AppData\\Local\\Temp\\ipykernel_844\\3835063426.py\u001b[0m in \u001b[0;36m<module>\u001b[1;34m\u001b[0m\n\u001b[1;32m----> 1\u001b[1;33m \u001b[0mminwon_metadata\u001b[0m\u001b[1;33m[\u001b[0m\u001b[1;34m'hf_embeddings'\u001b[0m\u001b[1;33m]\u001b[0m \u001b[1;33m=\u001b[0m \u001b[0mminwon_metadata\u001b[0m\u001b[1;33m[\u001b[0m\u001b[1;34m'content'\u001b[0m\u001b[1;33m]\u001b[0m\u001b[1;33m.\u001b[0m\u001b[0mapply\u001b[0m\u001b[1;33m(\u001b[0m\u001b[1;32mlambda\u001b[0m \u001b[0mx\u001b[0m \u001b[1;33m:\u001b[0m \u001b[0mmodel\u001b[0m\u001b[1;33m.\u001b[0m\u001b[0mencode\u001b[0m\u001b[1;33m(\u001b[0m\u001b[0mx\u001b[0m\u001b[1;33m)\u001b[0m\u001b[1;33m)\u001b[0m\u001b[1;33m\u001b[0m\u001b[1;33m\u001b[0m\u001b[0m\n\u001b[0m\u001b[0;32m      2\u001b[0m \u001b[0mminwon_metadata\u001b[0m\u001b[1;33m.\u001b[0m\u001b[0mshape\u001b[0m\u001b[1;33m\u001b[0m\u001b[1;33m\u001b[0m\u001b[0m\n",
      "\u001b[1;32m~\\anaconda3\\lib\\site-packages\\pandas\\core\\series.py\u001b[0m in \u001b[0;36mapply\u001b[1;34m(self, func, convert_dtype, args, **kwargs)\u001b[0m\n\u001b[0;32m   4431\u001b[0m         \u001b[0mdtype\u001b[0m\u001b[1;33m:\u001b[0m \u001b[0mfloat64\u001b[0m\u001b[1;33m\u001b[0m\u001b[1;33m\u001b[0m\u001b[0m\n\u001b[0;32m   4432\u001b[0m         \"\"\"\n\u001b[1;32m-> 4433\u001b[1;33m         \u001b[1;32mreturn\u001b[0m \u001b[0mSeriesApply\u001b[0m\u001b[1;33m(\u001b[0m\u001b[0mself\u001b[0m\u001b[1;33m,\u001b[0m \u001b[0mfunc\u001b[0m\u001b[1;33m,\u001b[0m \u001b[0mconvert_dtype\u001b[0m\u001b[1;33m,\u001b[0m \u001b[0margs\u001b[0m\u001b[1;33m,\u001b[0m \u001b[0mkwargs\u001b[0m\u001b[1;33m)\u001b[0m\u001b[1;33m.\u001b[0m\u001b[0mapply\u001b[0m\u001b[1;33m(\u001b[0m\u001b[1;33m)\u001b[0m\u001b[1;33m\u001b[0m\u001b[1;33m\u001b[0m\u001b[0m\n\u001b[0m\u001b[0;32m   4434\u001b[0m \u001b[1;33m\u001b[0m\u001b[0m\n\u001b[0;32m   4435\u001b[0m     def _reduce(\n",
      "\u001b[1;32m~\\anaconda3\\lib\\site-packages\\pandas\\core\\apply.py\u001b[0m in \u001b[0;36mapply\u001b[1;34m(self)\u001b[0m\n\u001b[0;32m   1086\u001b[0m             \u001b[1;32mreturn\u001b[0m \u001b[0mself\u001b[0m\u001b[1;33m.\u001b[0m\u001b[0mapply_str\u001b[0m\u001b[1;33m(\u001b[0m\u001b[1;33m)\u001b[0m\u001b[1;33m\u001b[0m\u001b[1;33m\u001b[0m\u001b[0m\n\u001b[0;32m   1087\u001b[0m \u001b[1;33m\u001b[0m\u001b[0m\n\u001b[1;32m-> 1088\u001b[1;33m         \u001b[1;32mreturn\u001b[0m \u001b[0mself\u001b[0m\u001b[1;33m.\u001b[0m\u001b[0mapply_standard\u001b[0m\u001b[1;33m(\u001b[0m\u001b[1;33m)\u001b[0m\u001b[1;33m\u001b[0m\u001b[1;33m\u001b[0m\u001b[0m\n\u001b[0m\u001b[0;32m   1089\u001b[0m \u001b[1;33m\u001b[0m\u001b[0m\n\u001b[0;32m   1090\u001b[0m     \u001b[1;32mdef\u001b[0m \u001b[0magg\u001b[0m\u001b[1;33m(\u001b[0m\u001b[0mself\u001b[0m\u001b[1;33m)\u001b[0m\u001b[1;33m:\u001b[0m\u001b[1;33m\u001b[0m\u001b[1;33m\u001b[0m\u001b[0m\n",
      "\u001b[1;32m~\\anaconda3\\lib\\site-packages\\pandas\\core\\apply.py\u001b[0m in \u001b[0;36mapply_standard\u001b[1;34m(self)\u001b[0m\n\u001b[0;32m   1141\u001b[0m                 \u001b[1;31m# List[Union[Callable[..., Any], str]]]]]\"; expected\u001b[0m\u001b[1;33m\u001b[0m\u001b[1;33m\u001b[0m\u001b[0m\n\u001b[0;32m   1142\u001b[0m                 \u001b[1;31m# \"Callable[[Any], Any]\"\u001b[0m\u001b[1;33m\u001b[0m\u001b[1;33m\u001b[0m\u001b[0m\n\u001b[1;32m-> 1143\u001b[1;33m                 mapped = lib.map_infer(\n\u001b[0m\u001b[0;32m   1144\u001b[0m                     \u001b[0mvalues\u001b[0m\u001b[1;33m,\u001b[0m\u001b[1;33m\u001b[0m\u001b[1;33m\u001b[0m\u001b[0m\n\u001b[0;32m   1145\u001b[0m                     \u001b[0mf\u001b[0m\u001b[1;33m,\u001b[0m  \u001b[1;31m# type: ignore[arg-type]\u001b[0m\u001b[1;33m\u001b[0m\u001b[1;33m\u001b[0m\u001b[0m\n",
      "\u001b[1;32m~\\anaconda3\\lib\\site-packages\\pandas\\_libs\\lib.pyx\u001b[0m in \u001b[0;36mpandas._libs.lib.map_infer\u001b[1;34m()\u001b[0m\n",
      "\u001b[1;32m~\\AppData\\Local\\Temp\\ipykernel_844\\3835063426.py\u001b[0m in \u001b[0;36m<lambda>\u001b[1;34m(x)\u001b[0m\n\u001b[1;32m----> 1\u001b[1;33m \u001b[0mminwon_metadata\u001b[0m\u001b[1;33m[\u001b[0m\u001b[1;34m'hf_embeddings'\u001b[0m\u001b[1;33m]\u001b[0m \u001b[1;33m=\u001b[0m \u001b[0mminwon_metadata\u001b[0m\u001b[1;33m[\u001b[0m\u001b[1;34m'content'\u001b[0m\u001b[1;33m]\u001b[0m\u001b[1;33m.\u001b[0m\u001b[0mapply\u001b[0m\u001b[1;33m(\u001b[0m\u001b[1;32mlambda\u001b[0m \u001b[0mx\u001b[0m \u001b[1;33m:\u001b[0m \u001b[0mmodel\u001b[0m\u001b[1;33m.\u001b[0m\u001b[0mencode\u001b[0m\u001b[1;33m(\u001b[0m\u001b[0mx\u001b[0m\u001b[1;33m)\u001b[0m\u001b[1;33m)\u001b[0m\u001b[1;33m\u001b[0m\u001b[1;33m\u001b[0m\u001b[0m\n\u001b[0m\u001b[0;32m      2\u001b[0m \u001b[0mminwon_metadata\u001b[0m\u001b[1;33m.\u001b[0m\u001b[0mshape\u001b[0m\u001b[1;33m\u001b[0m\u001b[1;33m\u001b[0m\u001b[0m\n",
      "\u001b[1;32m~\\anaconda3\\lib\\site-packages\\sentence_transformers\\SentenceTransformer.py\u001b[0m in \u001b[0;36mencode\u001b[1;34m(self, sentences, batch_size, show_progress_bar, output_value, convert_to_numpy, convert_to_tensor, device, normalize_embeddings)\u001b[0m\n\u001b[0;32m    163\u001b[0m \u001b[1;33m\u001b[0m\u001b[0m\n\u001b[0;32m    164\u001b[0m             \u001b[1;32mwith\u001b[0m \u001b[0mtorch\u001b[0m\u001b[1;33m.\u001b[0m\u001b[0mno_grad\u001b[0m\u001b[1;33m(\u001b[0m\u001b[1;33m)\u001b[0m\u001b[1;33m:\u001b[0m\u001b[1;33m\u001b[0m\u001b[1;33m\u001b[0m\u001b[0m\n\u001b[1;32m--> 165\u001b[1;33m                 \u001b[0mout_features\u001b[0m \u001b[1;33m=\u001b[0m \u001b[0mself\u001b[0m\u001b[1;33m.\u001b[0m\u001b[0mforward\u001b[0m\u001b[1;33m(\u001b[0m\u001b[0mfeatures\u001b[0m\u001b[1;33m)\u001b[0m\u001b[1;33m\u001b[0m\u001b[1;33m\u001b[0m\u001b[0m\n\u001b[0m\u001b[0;32m    166\u001b[0m \u001b[1;33m\u001b[0m\u001b[0m\n\u001b[0;32m    167\u001b[0m                 \u001b[1;32mif\u001b[0m \u001b[0moutput_value\u001b[0m \u001b[1;33m==\u001b[0m \u001b[1;34m'token_embeddings'\u001b[0m\u001b[1;33m:\u001b[0m\u001b[1;33m\u001b[0m\u001b[1;33m\u001b[0m\u001b[0m\n",
      "\u001b[1;32m~\\anaconda3\\lib\\site-packages\\torch\\nn\\modules\\container.py\u001b[0m in \u001b[0;36mforward\u001b[1;34m(self, input)\u001b[0m\n\u001b[0;32m    215\u001b[0m     \u001b[1;32mdef\u001b[0m \u001b[0mforward\u001b[0m\u001b[1;33m(\u001b[0m\u001b[0mself\u001b[0m\u001b[1;33m,\u001b[0m \u001b[0minput\u001b[0m\u001b[1;33m)\u001b[0m\u001b[1;33m:\u001b[0m\u001b[1;33m\u001b[0m\u001b[1;33m\u001b[0m\u001b[0m\n\u001b[0;32m    216\u001b[0m         \u001b[1;32mfor\u001b[0m \u001b[0mmodule\u001b[0m \u001b[1;32min\u001b[0m \u001b[0mself\u001b[0m\u001b[1;33m:\u001b[0m\u001b[1;33m\u001b[0m\u001b[1;33m\u001b[0m\u001b[0m\n\u001b[1;32m--> 217\u001b[1;33m             \u001b[0minput\u001b[0m \u001b[1;33m=\u001b[0m \u001b[0mmodule\u001b[0m\u001b[1;33m(\u001b[0m\u001b[0minput\u001b[0m\u001b[1;33m)\u001b[0m\u001b[1;33m\u001b[0m\u001b[1;33m\u001b[0m\u001b[0m\n\u001b[0m\u001b[0;32m    218\u001b[0m         \u001b[1;32mreturn\u001b[0m \u001b[0minput\u001b[0m\u001b[1;33m\u001b[0m\u001b[1;33m\u001b[0m\u001b[0m\n\u001b[0;32m    219\u001b[0m \u001b[1;33m\u001b[0m\u001b[0m\n",
      "\u001b[1;32m~\\anaconda3\\lib\\site-packages\\torch\\nn\\modules\\module.py\u001b[0m in \u001b[0;36m_call_impl\u001b[1;34m(self, *args, **kwargs)\u001b[0m\n\u001b[0;32m   1499\u001b[0m                 \u001b[1;32mor\u001b[0m \u001b[0m_global_backward_pre_hooks\u001b[0m \u001b[1;32mor\u001b[0m \u001b[0m_global_backward_hooks\u001b[0m\u001b[1;33m\u001b[0m\u001b[1;33m\u001b[0m\u001b[0m\n\u001b[0;32m   1500\u001b[0m                 or _global_forward_hooks or _global_forward_pre_hooks):\n\u001b[1;32m-> 1501\u001b[1;33m             \u001b[1;32mreturn\u001b[0m \u001b[0mforward_call\u001b[0m\u001b[1;33m(\u001b[0m\u001b[1;33m*\u001b[0m\u001b[0margs\u001b[0m\u001b[1;33m,\u001b[0m \u001b[1;33m**\u001b[0m\u001b[0mkwargs\u001b[0m\u001b[1;33m)\u001b[0m\u001b[1;33m\u001b[0m\u001b[1;33m\u001b[0m\u001b[0m\n\u001b[0m\u001b[0;32m   1502\u001b[0m         \u001b[1;31m# Do not call functions when jit is used\u001b[0m\u001b[1;33m\u001b[0m\u001b[1;33m\u001b[0m\u001b[0m\n\u001b[0;32m   1503\u001b[0m         \u001b[0mfull_backward_hooks\u001b[0m\u001b[1;33m,\u001b[0m \u001b[0mnon_full_backward_hooks\u001b[0m \u001b[1;33m=\u001b[0m \u001b[1;33m[\u001b[0m\u001b[1;33m]\u001b[0m\u001b[1;33m,\u001b[0m \u001b[1;33m[\u001b[0m\u001b[1;33m]\u001b[0m\u001b[1;33m\u001b[0m\u001b[1;33m\u001b[0m\u001b[0m\n",
      "\u001b[1;32m~\\anaconda3\\lib\\site-packages\\sentence_transformers\\models\\Transformer.py\u001b[0m in \u001b[0;36mforward\u001b[1;34m(self, features)\u001b[0m\n\u001b[0;32m     64\u001b[0m             \u001b[0mtrans_features\u001b[0m\u001b[1;33m[\u001b[0m\u001b[1;34m'token_type_ids'\u001b[0m\u001b[1;33m]\u001b[0m \u001b[1;33m=\u001b[0m \u001b[0mfeatures\u001b[0m\u001b[1;33m[\u001b[0m\u001b[1;34m'token_type_ids'\u001b[0m\u001b[1;33m]\u001b[0m\u001b[1;33m\u001b[0m\u001b[1;33m\u001b[0m\u001b[0m\n\u001b[0;32m     65\u001b[0m \u001b[1;33m\u001b[0m\u001b[0m\n\u001b[1;32m---> 66\u001b[1;33m         \u001b[0moutput_states\u001b[0m \u001b[1;33m=\u001b[0m \u001b[0mself\u001b[0m\u001b[1;33m.\u001b[0m\u001b[0mauto_model\u001b[0m\u001b[1;33m(\u001b[0m\u001b[1;33m**\u001b[0m\u001b[0mtrans_features\u001b[0m\u001b[1;33m,\u001b[0m \u001b[0mreturn_dict\u001b[0m\u001b[1;33m=\u001b[0m\u001b[1;32mFalse\u001b[0m\u001b[1;33m)\u001b[0m\u001b[1;33m\u001b[0m\u001b[1;33m\u001b[0m\u001b[0m\n\u001b[0m\u001b[0;32m     67\u001b[0m         \u001b[0moutput_tokens\u001b[0m \u001b[1;33m=\u001b[0m \u001b[0moutput_states\u001b[0m\u001b[1;33m[\u001b[0m\u001b[1;36m0\u001b[0m\u001b[1;33m]\u001b[0m\u001b[1;33m\u001b[0m\u001b[1;33m\u001b[0m\u001b[0m\n\u001b[0;32m     68\u001b[0m \u001b[1;33m\u001b[0m\u001b[0m\n",
      "\u001b[1;32m~\\anaconda3\\lib\\site-packages\\torch\\nn\\modules\\module.py\u001b[0m in \u001b[0;36m_call_impl\u001b[1;34m(self, *args, **kwargs)\u001b[0m\n\u001b[0;32m   1499\u001b[0m                 \u001b[1;32mor\u001b[0m \u001b[0m_global_backward_pre_hooks\u001b[0m \u001b[1;32mor\u001b[0m \u001b[0m_global_backward_hooks\u001b[0m\u001b[1;33m\u001b[0m\u001b[1;33m\u001b[0m\u001b[0m\n\u001b[0;32m   1500\u001b[0m                 or _global_forward_hooks or _global_forward_pre_hooks):\n\u001b[1;32m-> 1501\u001b[1;33m             \u001b[1;32mreturn\u001b[0m \u001b[0mforward_call\u001b[0m\u001b[1;33m(\u001b[0m\u001b[1;33m*\u001b[0m\u001b[0margs\u001b[0m\u001b[1;33m,\u001b[0m \u001b[1;33m**\u001b[0m\u001b[0mkwargs\u001b[0m\u001b[1;33m)\u001b[0m\u001b[1;33m\u001b[0m\u001b[1;33m\u001b[0m\u001b[0m\n\u001b[0m\u001b[0;32m   1502\u001b[0m         \u001b[1;31m# Do not call functions when jit is used\u001b[0m\u001b[1;33m\u001b[0m\u001b[1;33m\u001b[0m\u001b[0m\n\u001b[0;32m   1503\u001b[0m         \u001b[0mfull_backward_hooks\u001b[0m\u001b[1;33m,\u001b[0m \u001b[0mnon_full_backward_hooks\u001b[0m \u001b[1;33m=\u001b[0m \u001b[1;33m[\u001b[0m\u001b[1;33m]\u001b[0m\u001b[1;33m,\u001b[0m \u001b[1;33m[\u001b[0m\u001b[1;33m]\u001b[0m\u001b[1;33m\u001b[0m\u001b[1;33m\u001b[0m\u001b[0m\n",
      "\u001b[1;32m~\\anaconda3\\lib\\site-packages\\transformers\\models\\roberta\\modeling_roberta.py\u001b[0m in \u001b[0;36mforward\u001b[1;34m(self, input_ids, attention_mask, token_type_ids, position_ids, head_mask, inputs_embeds, encoder_hidden_states, encoder_attention_mask, past_key_values, use_cache, output_attentions, output_hidden_states, return_dict)\u001b[0m\n\u001b[0;32m    850\u001b[0m             \u001b[0mpast_key_values_length\u001b[0m\u001b[1;33m=\u001b[0m\u001b[0mpast_key_values_length\u001b[0m\u001b[1;33m,\u001b[0m\u001b[1;33m\u001b[0m\u001b[1;33m\u001b[0m\u001b[0m\n\u001b[0;32m    851\u001b[0m         )\n\u001b[1;32m--> 852\u001b[1;33m         encoder_outputs = self.encoder(\n\u001b[0m\u001b[0;32m    853\u001b[0m             \u001b[0membedding_output\u001b[0m\u001b[1;33m,\u001b[0m\u001b[1;33m\u001b[0m\u001b[1;33m\u001b[0m\u001b[0m\n\u001b[0;32m    854\u001b[0m             \u001b[0mattention_mask\u001b[0m\u001b[1;33m=\u001b[0m\u001b[0mextended_attention_mask\u001b[0m\u001b[1;33m,\u001b[0m\u001b[1;33m\u001b[0m\u001b[1;33m\u001b[0m\u001b[0m\n",
      "\u001b[1;32m~\\anaconda3\\lib\\site-packages\\torch\\nn\\modules\\module.py\u001b[0m in \u001b[0;36m_call_impl\u001b[1;34m(self, *args, **kwargs)\u001b[0m\n\u001b[0;32m   1499\u001b[0m                 \u001b[1;32mor\u001b[0m \u001b[0m_global_backward_pre_hooks\u001b[0m \u001b[1;32mor\u001b[0m \u001b[0m_global_backward_hooks\u001b[0m\u001b[1;33m\u001b[0m\u001b[1;33m\u001b[0m\u001b[0m\n\u001b[0;32m   1500\u001b[0m                 or _global_forward_hooks or _global_forward_pre_hooks):\n\u001b[1;32m-> 1501\u001b[1;33m             \u001b[1;32mreturn\u001b[0m \u001b[0mforward_call\u001b[0m\u001b[1;33m(\u001b[0m\u001b[1;33m*\u001b[0m\u001b[0margs\u001b[0m\u001b[1;33m,\u001b[0m \u001b[1;33m**\u001b[0m\u001b[0mkwargs\u001b[0m\u001b[1;33m)\u001b[0m\u001b[1;33m\u001b[0m\u001b[1;33m\u001b[0m\u001b[0m\n\u001b[0m\u001b[0;32m   1502\u001b[0m         \u001b[1;31m# Do not call functions when jit is used\u001b[0m\u001b[1;33m\u001b[0m\u001b[1;33m\u001b[0m\u001b[0m\n\u001b[0;32m   1503\u001b[0m         \u001b[0mfull_backward_hooks\u001b[0m\u001b[1;33m,\u001b[0m \u001b[0mnon_full_backward_hooks\u001b[0m \u001b[1;33m=\u001b[0m \u001b[1;33m[\u001b[0m\u001b[1;33m]\u001b[0m\u001b[1;33m,\u001b[0m \u001b[1;33m[\u001b[0m\u001b[1;33m]\u001b[0m\u001b[1;33m\u001b[0m\u001b[1;33m\u001b[0m\u001b[0m\n",
      "\u001b[1;32m~\\anaconda3\\lib\\site-packages\\transformers\\models\\roberta\\modeling_roberta.py\u001b[0m in \u001b[0;36mforward\u001b[1;34m(self, hidden_states, attention_mask, head_mask, encoder_hidden_states, encoder_attention_mask, past_key_values, use_cache, output_attentions, output_hidden_states, return_dict)\u001b[0m\n\u001b[0;32m    525\u001b[0m                 )\n\u001b[0;32m    526\u001b[0m             \u001b[1;32melse\u001b[0m\u001b[1;33m:\u001b[0m\u001b[1;33m\u001b[0m\u001b[1;33m\u001b[0m\u001b[0m\n\u001b[1;32m--> 527\u001b[1;33m                 layer_outputs = layer_module(\n\u001b[0m\u001b[0;32m    528\u001b[0m                     \u001b[0mhidden_states\u001b[0m\u001b[1;33m,\u001b[0m\u001b[1;33m\u001b[0m\u001b[1;33m\u001b[0m\u001b[0m\n\u001b[0;32m    529\u001b[0m                     \u001b[0mattention_mask\u001b[0m\u001b[1;33m,\u001b[0m\u001b[1;33m\u001b[0m\u001b[1;33m\u001b[0m\u001b[0m\n",
      "\u001b[1;32m~\\anaconda3\\lib\\site-packages\\torch\\nn\\modules\\module.py\u001b[0m in \u001b[0;36m_call_impl\u001b[1;34m(self, *args, **kwargs)\u001b[0m\n\u001b[0;32m   1499\u001b[0m                 \u001b[1;32mor\u001b[0m \u001b[0m_global_backward_pre_hooks\u001b[0m \u001b[1;32mor\u001b[0m \u001b[0m_global_backward_hooks\u001b[0m\u001b[1;33m\u001b[0m\u001b[1;33m\u001b[0m\u001b[0m\n\u001b[0;32m   1500\u001b[0m                 or _global_forward_hooks or _global_forward_pre_hooks):\n\u001b[1;32m-> 1501\u001b[1;33m             \u001b[1;32mreturn\u001b[0m \u001b[0mforward_call\u001b[0m\u001b[1;33m(\u001b[0m\u001b[1;33m*\u001b[0m\u001b[0margs\u001b[0m\u001b[1;33m,\u001b[0m \u001b[1;33m**\u001b[0m\u001b[0mkwargs\u001b[0m\u001b[1;33m)\u001b[0m\u001b[1;33m\u001b[0m\u001b[1;33m\u001b[0m\u001b[0m\n\u001b[0m\u001b[0;32m   1502\u001b[0m         \u001b[1;31m# Do not call functions when jit is used\u001b[0m\u001b[1;33m\u001b[0m\u001b[1;33m\u001b[0m\u001b[0m\n\u001b[0;32m   1503\u001b[0m         \u001b[0mfull_backward_hooks\u001b[0m\u001b[1;33m,\u001b[0m \u001b[0mnon_full_backward_hooks\u001b[0m \u001b[1;33m=\u001b[0m \u001b[1;33m[\u001b[0m\u001b[1;33m]\u001b[0m\u001b[1;33m,\u001b[0m \u001b[1;33m[\u001b[0m\u001b[1;33m]\u001b[0m\u001b[1;33m\u001b[0m\u001b[1;33m\u001b[0m\u001b[0m\n",
      "\u001b[1;32m~\\anaconda3\\lib\\site-packages\\transformers\\models\\roberta\\modeling_roberta.py\u001b[0m in \u001b[0;36mforward\u001b[1;34m(self, hidden_states, attention_mask, head_mask, encoder_hidden_states, encoder_attention_mask, past_key_value, output_attentions)\u001b[0m\n\u001b[0;32m    451\u001b[0m             \u001b[0mpresent_key_value\u001b[0m \u001b[1;33m=\u001b[0m \u001b[0mpresent_key_value\u001b[0m \u001b[1;33m+\u001b[0m \u001b[0mcross_attn_present_key_value\u001b[0m\u001b[1;33m\u001b[0m\u001b[1;33m\u001b[0m\u001b[0m\n\u001b[0;32m    452\u001b[0m \u001b[1;33m\u001b[0m\u001b[0m\n\u001b[1;32m--> 453\u001b[1;33m         layer_output = apply_chunking_to_forward(\n\u001b[0m\u001b[0;32m    454\u001b[0m             \u001b[0mself\u001b[0m\u001b[1;33m.\u001b[0m\u001b[0mfeed_forward_chunk\u001b[0m\u001b[1;33m,\u001b[0m \u001b[0mself\u001b[0m\u001b[1;33m.\u001b[0m\u001b[0mchunk_size_feed_forward\u001b[0m\u001b[1;33m,\u001b[0m \u001b[0mself\u001b[0m\u001b[1;33m.\u001b[0m\u001b[0mseq_len_dim\u001b[0m\u001b[1;33m,\u001b[0m \u001b[0mattention_output\u001b[0m\u001b[1;33m\u001b[0m\u001b[1;33m\u001b[0m\u001b[0m\n\u001b[0;32m    455\u001b[0m         )\n",
      "\u001b[1;32m~\\anaconda3\\lib\\site-packages\\transformers\\pytorch_utils.py\u001b[0m in \u001b[0;36mapply_chunking_to_forward\u001b[1;34m(forward_fn, chunk_size, chunk_dim, *input_tensors)\u001b[0m\n\u001b[0;32m    246\u001b[0m         \u001b[1;32mreturn\u001b[0m \u001b[0mtorch\u001b[0m\u001b[1;33m.\u001b[0m\u001b[0mcat\u001b[0m\u001b[1;33m(\u001b[0m\u001b[0moutput_chunks\u001b[0m\u001b[1;33m,\u001b[0m \u001b[0mdim\u001b[0m\u001b[1;33m=\u001b[0m\u001b[0mchunk_dim\u001b[0m\u001b[1;33m)\u001b[0m\u001b[1;33m\u001b[0m\u001b[1;33m\u001b[0m\u001b[0m\n\u001b[0;32m    247\u001b[0m \u001b[1;33m\u001b[0m\u001b[0m\n\u001b[1;32m--> 248\u001b[1;33m     \u001b[1;32mreturn\u001b[0m \u001b[0mforward_fn\u001b[0m\u001b[1;33m(\u001b[0m\u001b[1;33m*\u001b[0m\u001b[0minput_tensors\u001b[0m\u001b[1;33m)\u001b[0m\u001b[1;33m\u001b[0m\u001b[1;33m\u001b[0m\u001b[0m\n\u001b[0m\u001b[0;32m    249\u001b[0m \u001b[1;33m\u001b[0m\u001b[0m\n\u001b[0;32m    250\u001b[0m \u001b[1;33m\u001b[0m\u001b[0m\n",
      "\u001b[1;32m~\\anaconda3\\lib\\site-packages\\transformers\\models\\roberta\\modeling_roberta.py\u001b[0m in \u001b[0;36mfeed_forward_chunk\u001b[1;34m(self, attention_output)\u001b[0m\n\u001b[0;32m    463\u001b[0m \u001b[1;33m\u001b[0m\u001b[0m\n\u001b[0;32m    464\u001b[0m     \u001b[1;32mdef\u001b[0m \u001b[0mfeed_forward_chunk\u001b[0m\u001b[1;33m(\u001b[0m\u001b[0mself\u001b[0m\u001b[1;33m,\u001b[0m \u001b[0mattention_output\u001b[0m\u001b[1;33m)\u001b[0m\u001b[1;33m:\u001b[0m\u001b[1;33m\u001b[0m\u001b[1;33m\u001b[0m\u001b[0m\n\u001b[1;32m--> 465\u001b[1;33m         \u001b[0mintermediate_output\u001b[0m \u001b[1;33m=\u001b[0m \u001b[0mself\u001b[0m\u001b[1;33m.\u001b[0m\u001b[0mintermediate\u001b[0m\u001b[1;33m(\u001b[0m\u001b[0mattention_output\u001b[0m\u001b[1;33m)\u001b[0m\u001b[1;33m\u001b[0m\u001b[1;33m\u001b[0m\u001b[0m\n\u001b[0m\u001b[0;32m    466\u001b[0m         \u001b[0mlayer_output\u001b[0m \u001b[1;33m=\u001b[0m \u001b[0mself\u001b[0m\u001b[1;33m.\u001b[0m\u001b[0moutput\u001b[0m\u001b[1;33m(\u001b[0m\u001b[0mintermediate_output\u001b[0m\u001b[1;33m,\u001b[0m \u001b[0mattention_output\u001b[0m\u001b[1;33m)\u001b[0m\u001b[1;33m\u001b[0m\u001b[1;33m\u001b[0m\u001b[0m\n\u001b[0;32m    467\u001b[0m         \u001b[1;32mreturn\u001b[0m \u001b[0mlayer_output\u001b[0m\u001b[1;33m\u001b[0m\u001b[1;33m\u001b[0m\u001b[0m\n",
      "\u001b[1;32m~\\anaconda3\\lib\\site-packages\\torch\\nn\\modules\\module.py\u001b[0m in \u001b[0;36m_call_impl\u001b[1;34m(self, *args, **kwargs)\u001b[0m\n\u001b[0;32m   1499\u001b[0m                 \u001b[1;32mor\u001b[0m \u001b[0m_global_backward_pre_hooks\u001b[0m \u001b[1;32mor\u001b[0m \u001b[0m_global_backward_hooks\u001b[0m\u001b[1;33m\u001b[0m\u001b[1;33m\u001b[0m\u001b[0m\n\u001b[0;32m   1500\u001b[0m                 or _global_forward_hooks or _global_forward_pre_hooks):\n\u001b[1;32m-> 1501\u001b[1;33m             \u001b[1;32mreturn\u001b[0m \u001b[0mforward_call\u001b[0m\u001b[1;33m(\u001b[0m\u001b[1;33m*\u001b[0m\u001b[0margs\u001b[0m\u001b[1;33m,\u001b[0m \u001b[1;33m**\u001b[0m\u001b[0mkwargs\u001b[0m\u001b[1;33m)\u001b[0m\u001b[1;33m\u001b[0m\u001b[1;33m\u001b[0m\u001b[0m\n\u001b[0m\u001b[0;32m   1502\u001b[0m         \u001b[1;31m# Do not call functions when jit is used\u001b[0m\u001b[1;33m\u001b[0m\u001b[1;33m\u001b[0m\u001b[0m\n\u001b[0;32m   1503\u001b[0m         \u001b[0mfull_backward_hooks\u001b[0m\u001b[1;33m,\u001b[0m \u001b[0mnon_full_backward_hooks\u001b[0m \u001b[1;33m=\u001b[0m \u001b[1;33m[\u001b[0m\u001b[1;33m]\u001b[0m\u001b[1;33m,\u001b[0m \u001b[1;33m[\u001b[0m\u001b[1;33m]\u001b[0m\u001b[1;33m\u001b[0m\u001b[1;33m\u001b[0m\u001b[0m\n",
      "\u001b[1;32m~\\anaconda3\\lib\\site-packages\\transformers\\models\\roberta\\modeling_roberta.py\u001b[0m in \u001b[0;36mforward\u001b[1;34m(self, hidden_states)\u001b[0m\n\u001b[0;32m    362\u001b[0m     \u001b[1;32mdef\u001b[0m \u001b[0mforward\u001b[0m\u001b[1;33m(\u001b[0m\u001b[0mself\u001b[0m\u001b[1;33m,\u001b[0m \u001b[0mhidden_states\u001b[0m\u001b[1;33m:\u001b[0m \u001b[0mtorch\u001b[0m\u001b[1;33m.\u001b[0m\u001b[0mTensor\u001b[0m\u001b[1;33m)\u001b[0m \u001b[1;33m->\u001b[0m \u001b[0mtorch\u001b[0m\u001b[1;33m.\u001b[0m\u001b[0mTensor\u001b[0m\u001b[1;33m:\u001b[0m\u001b[1;33m\u001b[0m\u001b[1;33m\u001b[0m\u001b[0m\n\u001b[0;32m    363\u001b[0m         \u001b[0mhidden_states\u001b[0m \u001b[1;33m=\u001b[0m \u001b[0mself\u001b[0m\u001b[1;33m.\u001b[0m\u001b[0mdense\u001b[0m\u001b[1;33m(\u001b[0m\u001b[0mhidden_states\u001b[0m\u001b[1;33m)\u001b[0m\u001b[1;33m\u001b[0m\u001b[1;33m\u001b[0m\u001b[0m\n\u001b[1;32m--> 364\u001b[1;33m         \u001b[0mhidden_states\u001b[0m \u001b[1;33m=\u001b[0m \u001b[0mself\u001b[0m\u001b[1;33m.\u001b[0m\u001b[0mintermediate_act_fn\u001b[0m\u001b[1;33m(\u001b[0m\u001b[0mhidden_states\u001b[0m\u001b[1;33m)\u001b[0m\u001b[1;33m\u001b[0m\u001b[1;33m\u001b[0m\u001b[0m\n\u001b[0m\u001b[0;32m    365\u001b[0m         \u001b[1;32mreturn\u001b[0m \u001b[0mhidden_states\u001b[0m\u001b[1;33m\u001b[0m\u001b[1;33m\u001b[0m\u001b[0m\n\u001b[0;32m    366\u001b[0m \u001b[1;33m\u001b[0m\u001b[0m\n",
      "\u001b[1;32m~\\anaconda3\\lib\\site-packages\\torch\\nn\\modules\\module.py\u001b[0m in \u001b[0;36m_call_impl\u001b[1;34m(self, *args, **kwargs)\u001b[0m\n\u001b[0;32m   1499\u001b[0m                 \u001b[1;32mor\u001b[0m \u001b[0m_global_backward_pre_hooks\u001b[0m \u001b[1;32mor\u001b[0m \u001b[0m_global_backward_hooks\u001b[0m\u001b[1;33m\u001b[0m\u001b[1;33m\u001b[0m\u001b[0m\n\u001b[0;32m   1500\u001b[0m                 or _global_forward_hooks or _global_forward_pre_hooks):\n\u001b[1;32m-> 1501\u001b[1;33m             \u001b[1;32mreturn\u001b[0m \u001b[0mforward_call\u001b[0m\u001b[1;33m(\u001b[0m\u001b[1;33m*\u001b[0m\u001b[0margs\u001b[0m\u001b[1;33m,\u001b[0m \u001b[1;33m**\u001b[0m\u001b[0mkwargs\u001b[0m\u001b[1;33m)\u001b[0m\u001b[1;33m\u001b[0m\u001b[1;33m\u001b[0m\u001b[0m\n\u001b[0m\u001b[0;32m   1502\u001b[0m         \u001b[1;31m# Do not call functions when jit is used\u001b[0m\u001b[1;33m\u001b[0m\u001b[1;33m\u001b[0m\u001b[0m\n\u001b[0;32m   1503\u001b[0m         \u001b[0mfull_backward_hooks\u001b[0m\u001b[1;33m,\u001b[0m \u001b[0mnon_full_backward_hooks\u001b[0m \u001b[1;33m=\u001b[0m \u001b[1;33m[\u001b[0m\u001b[1;33m]\u001b[0m\u001b[1;33m,\u001b[0m \u001b[1;33m[\u001b[0m\u001b[1;33m]\u001b[0m\u001b[1;33m\u001b[0m\u001b[1;33m\u001b[0m\u001b[0m\n",
      "\u001b[1;32m~\\anaconda3\\lib\\site-packages\\transformers\\activations.py\u001b[0m in \u001b[0;36mforward\u001b[1;34m(self, input)\u001b[0m\n\u001b[0;32m     76\u001b[0m \u001b[1;33m\u001b[0m\u001b[0m\n\u001b[0;32m     77\u001b[0m     \u001b[1;32mdef\u001b[0m \u001b[0mforward\u001b[0m\u001b[1;33m(\u001b[0m\u001b[0mself\u001b[0m\u001b[1;33m,\u001b[0m \u001b[0minput\u001b[0m\u001b[1;33m:\u001b[0m \u001b[0mTensor\u001b[0m\u001b[1;33m)\u001b[0m \u001b[1;33m->\u001b[0m \u001b[0mTensor\u001b[0m\u001b[1;33m:\u001b[0m\u001b[1;33m\u001b[0m\u001b[1;33m\u001b[0m\u001b[0m\n\u001b[1;32m---> 78\u001b[1;33m         \u001b[1;32mreturn\u001b[0m \u001b[0mself\u001b[0m\u001b[1;33m.\u001b[0m\u001b[0mact\u001b[0m\u001b[1;33m(\u001b[0m\u001b[0minput\u001b[0m\u001b[1;33m)\u001b[0m\u001b[1;33m\u001b[0m\u001b[1;33m\u001b[0m\u001b[0m\n\u001b[0m\u001b[0;32m     79\u001b[0m \u001b[1;33m\u001b[0m\u001b[0m\n\u001b[0;32m     80\u001b[0m \u001b[1;33m\u001b[0m\u001b[0m\n",
      "\u001b[1;31mKeyboardInterrupt\u001b[0m: "
     ]
    }
   ],
   "source": [
    "minwon_metadata['hf_embeddings'] = minwon_metadata['content'].apply(lambda x : model.encode(x))\n",
    "minwon_metadata.shape"
   ]
  },
  {
   "cell_type": "code",
   "execution_count": null,
   "id": "2e3f0e2c",
   "metadata": {},
   "outputs": [],
   "source": [
    "minwon_metadata.head()"
   ]
  },
  {
   "cell_type": "code",
   "execution_count": 123,
   "id": "280083f0",
   "metadata": {},
   "outputs": [],
   "source": [
    "minwon_metadata.to_csv('minwon_metadata_hfem.csv',encoding='utf-8-sig',index=False)"
   ]
  },
  {
   "cell_type": "markdown",
   "id": "60e0b000",
   "metadata": {},
   "source": [
    "-----"
   ]
  },
  {
   "cell_type": "markdown",
   "id": "e8d9591a",
   "metadata": {},
   "source": [
    "# OpenAI Embedding"
   ]
  },
  {
   "cell_type": "code",
   "execution_count": 9,
   "id": "5769cf64",
   "metadata": {},
   "outputs": [
    {
     "data": {
      "text/html": [
       "<div>\n",
       "<style scoped>\n",
       "    .dataframe tbody tr th:only-of-type {\n",
       "        vertical-align: middle;\n",
       "    }\n",
       "\n",
       "    .dataframe tbody tr th {\n",
       "        vertical-align: top;\n",
       "    }\n",
       "\n",
       "    .dataframe thead th {\n",
       "        text-align: right;\n",
       "    }\n",
       "</style>\n",
       "<table border=\"1\" class=\"dataframe\">\n",
       "  <thead>\n",
       "    <tr style=\"text-align: right;\">\n",
       "      <th></th>\n",
       "      <th>title</th>\n",
       "      <th>content</th>\n",
       "      <th>answer</th>\n",
       "      <th>depart</th>\n",
       "    </tr>\n",
       "  </thead>\n",
       "  <tbody>\n",
       "    <tr>\n",
       "      <th>0</th>\n",
       "      <td>주차장이 너무 어두워요</td>\n",
       "      <td>민원 내용:주차장이  어두워요중구 전동 25328 번지옆 전동쉼터 옆 공영주차장이 ...</td>\n",
       "      <td>1. 구정 발전에 관심을 가져주시는 귀하께 감사의 말씀을 드립니다.2. 민원 제기하...</td>\n",
       "      <td>도시개발국 교통운수과</td>\n",
       "    </tr>\n",
       "    <tr>\n",
       "      <th>1</th>\n",
       "      <td>뭐에요? 거잠포선착장 쓰레기 그대로잖아요? 하나도 안 되어있네요?</td>\n",
       "      <td>민원 내용:뭐에요? 거잠포선착장 쓰레기 그대로잖아요? 하나도 안 되어있네요? 거기 ...</td>\n",
       "      <td>1. 안녕하십니까? 귀하께서 상담민원을 통해 신청하신 민원에 대한 검토 결과를 다음...</td>\n",
       "      <td>국제도시건설국 농수산과</td>\n",
       "    </tr>\n",
       "    <tr>\n",
       "      <th>2</th>\n",
       "      <td>9100번 광역버스 배차간격 준수 요청 건</td>\n",
       "      <td>민원 내용:9100번 광역버스 배차간격 준수 요청 건집안 사정으로 서구에서 남동구 ...</td>\n",
       "      <td>불편사항이 해결됨</td>\n",
       "      <td>도시개발국 교통운수과</td>\n",
       "    </tr>\n",
       "    <tr>\n",
       "      <th>3</th>\n",
       "      <td>46번버스 신흥교통 정상이아닌 버스업체</td>\n",
       "      <td>민원 내용:46번버스 신흥교통 정상이아닌 버스업체46번버스 신흥교통 손님에게 막말하...</td>\n",
       "      <td>1. 교통 업무에 많은 관심과 애정을 가져주셔서 깊이 감사드립니다. 2. 귀하께서 ...</td>\n",
       "      <td>도시개발국 교통운수과</td>\n",
       "    </tr>\n",
       "    <tr>\n",
       "      <th>4</th>\n",
       "      <td>살려주세요 제발 요즘 가게 망하게 만드는 일들만 일어나네요..제발요(영종도 호텔)</td>\n",
       "      <td>민원 내용:  요즘 가게 망하게 만드는 일들만 일어나네요..요(영종도 호텔)요즘 전...</td>\n",
       "      <td>1. 구정 발전을 위해 관심을 가져주시는 귀하께 깊은 감사를 드립니다.2. 모두가 ...</td>\n",
       "      <td>국제도시건설국 도시공원과</td>\n",
       "    </tr>\n",
       "  </tbody>\n",
       "</table>\n",
       "</div>"
      ],
      "text/plain": [
       "                                           title  \\\n",
       "0                                   주차장이 너무 어두워요   \n",
       "1           뭐에요? 거잠포선착장 쓰레기 그대로잖아요? 하나도 안 되어있네요?   \n",
       "2                        9100번 광역버스 배차간격 준수 요청 건   \n",
       "3                          46번버스 신흥교통 정상이아닌 버스업체   \n",
       "4  살려주세요 제발 요즘 가게 망하게 만드는 일들만 일어나네요..제발요(영종도 호텔)   \n",
       "\n",
       "                                             content  \\\n",
       "0  민원 내용:주차장이  어두워요중구 전동 25328 번지옆 전동쉼터 옆 공영주차장이 ...   \n",
       "1  민원 내용:뭐에요? 거잠포선착장 쓰레기 그대로잖아요? 하나도 안 되어있네요? 거기 ...   \n",
       "2  민원 내용:9100번 광역버스 배차간격 준수 요청 건집안 사정으로 서구에서 남동구 ...   \n",
       "3  민원 내용:46번버스 신흥교통 정상이아닌 버스업체46번버스 신흥교통 손님에게 막말하...   \n",
       "4  민원 내용:  요즘 가게 망하게 만드는 일들만 일어나네요..요(영종도 호텔)요즘 전...   \n",
       "\n",
       "                                              answer         depart  \n",
       "0  1. 구정 발전에 관심을 가져주시는 귀하께 감사의 말씀을 드립니다.2. 민원 제기하...    도시개발국 교통운수과  \n",
       "1  1. 안녕하십니까? 귀하께서 상담민원을 통해 신청하신 민원에 대한 검토 결과를 다음...   국제도시건설국 농수산과  \n",
       "2                                          불편사항이 해결됨    도시개발국 교통운수과  \n",
       "3  1. 교통 업무에 많은 관심과 애정을 가져주셔서 깊이 감사드립니다. 2. 귀하께서 ...    도시개발국 교통운수과  \n",
       "4  1. 구정 발전을 위해 관심을 가져주시는 귀하께 깊은 감사를 드립니다.2. 모두가 ...  국제도시건설국 도시공원과  "
      ]
     },
     "execution_count": 9,
     "metadata": {},
     "output_type": "execute_result"
    }
   ],
   "source": [
    "minwon_metadata= pd.read_csv('minwon.csv', sep=\",\", dtype=str)\n",
    "df=minwon_metadata\n",
    "df.head()"
   ]
  },
  {
   "cell_type": "code",
   "execution_count": 10,
   "id": "6d2cb3e1",
   "metadata": {
    "scrolled": true
   },
   "outputs": [
    {
     "data": {
      "text/html": [
       "<div>\n",
       "<style scoped>\n",
       "    .dataframe tbody tr th:only-of-type {\n",
       "        vertical-align: middle;\n",
       "    }\n",
       "\n",
       "    .dataframe tbody tr th {\n",
       "        vertical-align: top;\n",
       "    }\n",
       "\n",
       "    .dataframe thead th {\n",
       "        text-align: right;\n",
       "    }\n",
       "</style>\n",
       "<table border=\"1\" class=\"dataframe\">\n",
       "  <thead>\n",
       "    <tr style=\"text-align: right;\">\n",
       "      <th></th>\n",
       "      <th>content</th>\n",
       "      <th>answer</th>\n",
       "      <th>depart</th>\n",
       "      <th>tokens</th>\n",
       "    </tr>\n",
       "    <tr>\n",
       "      <th>title</th>\n",
       "      <th></th>\n",
       "      <th></th>\n",
       "      <th></th>\n",
       "      <th></th>\n",
       "    </tr>\n",
       "  </thead>\n",
       "  <tbody>\n",
       "    <tr>\n",
       "      <th>주차장이 너무 어두워요</th>\n",
       "      <td>민원 내용:주차장이  어두워요중구 전동 25328 번지옆 전동쉼터 옆 공영주차장이 ...</td>\n",
       "      <td>1. 구정 발전에 관심을 가져주시는 귀하께 감사의 말씀을 드립니다.2. 민원 제기하...</td>\n",
       "      <td>도시개발국 교통운수과</td>\n",
       "      <td>85</td>\n",
       "    </tr>\n",
       "    <tr>\n",
       "      <th>뭐에요? 거잠포선착장 쓰레기 그대로잖아요? 하나도 안 되어있네요?</th>\n",
       "      <td>민원 내용:뭐에요? 거잠포선착장 쓰레기 그대로잖아요? 하나도 안 되어있네요? 거기 ...</td>\n",
       "      <td>1. 안녕하십니까? 귀하께서 상담민원을 통해 신청하신 민원에 대한 검토 결과를 다음...</td>\n",
       "      <td>국제도시건설국 농수산과</td>\n",
       "      <td>1097</td>\n",
       "    </tr>\n",
       "    <tr>\n",
       "      <th>9100번 광역버스 배차간격 준수 요청 건</th>\n",
       "      <td>민원 내용:9100번 광역버스 배차간격 준수 요청 건집안 사정으로 서구에서 남동구 ...</td>\n",
       "      <td>불편사항이 해결됨</td>\n",
       "      <td>도시개발국 교통운수과</td>\n",
       "      <td>555</td>\n",
       "    </tr>\n",
       "    <tr>\n",
       "      <th>46번버스 신흥교통 정상이아닌 버스업체</th>\n",
       "      <td>민원 내용:46번버스 신흥교통 정상이아닌 버스업체46번버스 신흥교통 손님에게 막말하...</td>\n",
       "      <td>1. 교통 업무에 많은 관심과 애정을 가져주셔서 깊이 감사드립니다. 2. 귀하께서 ...</td>\n",
       "      <td>도시개발국 교통운수과</td>\n",
       "      <td>236</td>\n",
       "    </tr>\n",
       "    <tr>\n",
       "      <th>살려주세요 제발 요즘 가게 망하게 만드는 일들만 일어나네요..제발요(영종도 호텔)</th>\n",
       "      <td>민원 내용:  요즘 가게 망하게 만드는 일들만 일어나네요..요(영종도 호텔)요즘 전...</td>\n",
       "      <td>1. 구정 발전을 위해 관심을 가져주시는 귀하께 깊은 감사를 드립니다.2. 모두가 ...</td>\n",
       "      <td>국제도시건설국 도시공원과</td>\n",
       "      <td>1490</td>\n",
       "    </tr>\n",
       "  </tbody>\n",
       "</table>\n",
       "</div>"
      ],
      "text/plain": [
       "                                                                                         content  \\\n",
       "title                                                                                              \n",
       "주차장이 너무 어두워요                                   민원 내용:주차장이  어두워요중구 전동 25328 번지옆 전동쉼터 옆 공영주차장이 ...   \n",
       "뭐에요? 거잠포선착장 쓰레기 그대로잖아요? 하나도 안 되어있네요?           민원 내용:뭐에요? 거잠포선착장 쓰레기 그대로잖아요? 하나도 안 되어있네요? 거기 ...   \n",
       "9100번 광역버스 배차간격 준수 요청 건                        민원 내용:9100번 광역버스 배차간격 준수 요청 건집안 사정으로 서구에서 남동구 ...   \n",
       "46번버스 신흥교통 정상이아닌 버스업체                          민원 내용:46번버스 신흥교통 정상이아닌 버스업체46번버스 신흥교통 손님에게 막말하...   \n",
       "살려주세요 제발 요즘 가게 망하게 만드는 일들만 일어나네요..제발요(영종도 호텔)  민원 내용:  요즘 가게 망하게 만드는 일들만 일어나네요..요(영종도 호텔)요즘 전...   \n",
       "\n",
       "                                                                                          answer  \\\n",
       "title                                                                                              \n",
       "주차장이 너무 어두워요                                   1. 구정 발전에 관심을 가져주시는 귀하께 감사의 말씀을 드립니다.2. 민원 제기하...   \n",
       "뭐에요? 거잠포선착장 쓰레기 그대로잖아요? 하나도 안 되어있네요?           1. 안녕하십니까? 귀하께서 상담민원을 통해 신청하신 민원에 대한 검토 결과를 다음...   \n",
       "9100번 광역버스 배차간격 준수 요청 건                                                                불편사항이 해결됨   \n",
       "46번버스 신흥교통 정상이아닌 버스업체                          1. 교통 업무에 많은 관심과 애정을 가져주셔서 깊이 감사드립니다. 2. 귀하께서 ...   \n",
       "살려주세요 제발 요즘 가게 망하게 만드는 일들만 일어나네요..제발요(영종도 호텔)  1. 구정 발전을 위해 관심을 가져주시는 귀하께 깊은 감사를 드립니다.2. 모두가 ...   \n",
       "\n",
       "                                                      depart  tokens  \n",
       "title                                                                 \n",
       "주차장이 너무 어두워요                                     도시개발국 교통운수과      85  \n",
       "뭐에요? 거잠포선착장 쓰레기 그대로잖아요? 하나도 안 되어있네요?            국제도시건설국 농수산과    1097  \n",
       "9100번 광역버스 배차간격 준수 요청 건                          도시개발국 교통운수과     555  \n",
       "46번버스 신흥교통 정상이아닌 버스업체                            도시개발국 교통운수과     236  \n",
       "살려주세요 제발 요즘 가게 망하게 만드는 일들만 일어나네요..제발요(영종도 호텔)  국제도시건설국 도시공원과    1490  "
      ]
     },
     "execution_count": 10,
     "metadata": {},
     "output_type": "execute_result"
    }
   ],
   "source": [
    "#token수 확인\n",
    "## gpt-3.5-turbo 모델에 맞는 token encoding model은 cl100k_base이다.\n",
    "def num_tokens_from_string(string: str, encoding_name: str) -> int:\n",
    "    encoding = tiktoken.get_encoding(encoding_name)\n",
    "    num_tokens = len(encoding.encode(string))\n",
    "    return num_tokens\n",
    "\n",
    "#contents 컬럼의 토큰 수를 계산하여 새로운 컬럼으로 만들어 붙임\n",
    "df['tokens'] = df.content.apply(lambda x: num_tokens_from_string(x, 'cl100k_base'))\n",
    "#del df['Unnamed: 0']\n",
    "df = df.set_index(keys='title')\n",
    "df.head()"
   ]
  },
  {
   "cell_type": "code",
   "execution_count": 11,
   "id": "02238228",
   "metadata": {
    "scrolled": false
   },
   "outputs": [
    {
     "data": {
      "text/plain": [
       "도시개발국 교통운수과       71\n",
       "도시개발국 건축과         68\n",
       "도시개발국 건설과         62\n",
       "국제도시건설국 기반시설과     29\n",
       "국제도시건설국 도시공원과     23\n",
       "도시개발국 환경보호과       18\n",
       "국제도시건설국 교통과       18\n",
       "기획감사실             18\n",
       "관광진흥실             17\n",
       "국제도시행정국 친환경조성과    17\n",
       "보건소 보건행정과         16\n",
       "주민생활지원국 청소과       15\n",
       "홍보체육진흥실           14\n",
       "도시관리국 교통행정과       13\n",
       "용유출장소             13\n",
       "주민생활지원국 자원순환과     13\n",
       "보건소 건강증진과         13\n",
       "국제도시국 교통지적과       13\n",
       "국제도시건설국 농수산과      13\n",
       "국제도시국 기반시설과       12\n",
       "도시재생국 도시개발과       12\n",
       "운서동               11\n",
       "주민생활지원국 환경관리과     11\n",
       "주민생활지원국 위생과       11\n",
       "Name: depart, dtype: int64"
      ]
     },
     "execution_count": 11,
     "metadata": {},
     "output_type": "execute_result"
    }
   ],
   "source": [
    "df['depart'].value_counts()"
   ]
  },
  {
   "cell_type": "code",
   "execution_count": 15,
   "id": "eba01e04",
   "metadata": {},
   "outputs": [
    {
     "data": {
      "text/plain": [
       "397.90140845070425"
      ]
     },
     "execution_count": 15,
     "metadata": {},
     "output_type": "execute_result"
    }
   ],
   "source": [
    "df.tokens.mean()"
   ]
  },
  {
   "cell_type": "code",
   "execution_count": 16,
   "id": "26697012",
   "metadata": {
    "scrolled": true
   },
   "outputs": [
    {
     "data": {
      "text/html": [
       "<div>\n",
       "<style scoped>\n",
       "    .dataframe tbody tr th:only-of-type {\n",
       "        vertical-align: middle;\n",
       "    }\n",
       "\n",
       "    .dataframe tbody tr th {\n",
       "        vertical-align: top;\n",
       "    }\n",
       "\n",
       "    .dataframe thead th {\n",
       "        text-align: right;\n",
       "    }\n",
       "</style>\n",
       "<table border=\"1\" class=\"dataframe\">\n",
       "  <thead>\n",
       "    <tr style=\"text-align: right;\">\n",
       "      <th></th>\n",
       "      <th>content</th>\n",
       "      <th>answer</th>\n",
       "      <th>depart</th>\n",
       "      <th>tokens</th>\n",
       "    </tr>\n",
       "    <tr>\n",
       "      <th>title</th>\n",
       "      <th></th>\n",
       "      <th></th>\n",
       "      <th></th>\n",
       "      <th></th>\n",
       "    </tr>\n",
       "  </thead>\n",
       "  <tbody>\n",
       "    <tr>\n",
       "      <th>주차장이 너무 어두워요</th>\n",
       "      <td>민원 내용:주차장이  어두워요중구 전동 25328 번지옆 전동쉼터 옆 공영주차장이 ...</td>\n",
       "      <td>1. 구정 발전에 관심을 가져주시는 귀하께 감사의 말씀을 드립니다.2. 민원 제기하...</td>\n",
       "      <td>도시개발국 교통운수과</td>\n",
       "      <td>85</td>\n",
       "    </tr>\n",
       "    <tr>\n",
       "      <th>뭐에요? 거잠포선착장 쓰레기 그대로잖아요? 하나도 안 되어있네요?</th>\n",
       "      <td>민원 내용:뭐에요? 거잠포선착장 쓰레기 그대로잖아요? 하나도 안 되어있네요? 거기 ...</td>\n",
       "      <td>1. 안녕하십니까? 귀하께서 상담민원을 통해 신청하신 민원에 대한 검토 결과를 다음...</td>\n",
       "      <td>국제도시건설국 농수산과</td>\n",
       "      <td>1097</td>\n",
       "    </tr>\n",
       "    <tr>\n",
       "      <th>9100번 광역버스 배차간격 준수 요청 건</th>\n",
       "      <td>민원 내용:9100번 광역버스 배차간격 준수 요청 건집안 사정으로 서구에서 남동구 ...</td>\n",
       "      <td>불편사항이 해결됨</td>\n",
       "      <td>도시개발국 교통운수과</td>\n",
       "      <td>555</td>\n",
       "    </tr>\n",
       "    <tr>\n",
       "      <th>46번버스 신흥교통 정상이아닌 버스업체</th>\n",
       "      <td>민원 내용:46번버스 신흥교통 정상이아닌 버스업체46번버스 신흥교통 손님에게 막말하...</td>\n",
       "      <td>1. 교통 업무에 많은 관심과 애정을 가져주셔서 깊이 감사드립니다. 2. 귀하께서 ...</td>\n",
       "      <td>도시개발국 교통운수과</td>\n",
       "      <td>236</td>\n",
       "    </tr>\n",
       "    <tr>\n",
       "      <th>신흥교통 46번버스회사 고발합니다</th>\n",
       "      <td>민원 내용:신흥교통 46번버스회사 고발46번버스이용중 불편사항 해당교통회사 전화문의...</td>\n",
       "      <td>1. 교통 업무에 많은 관심과 애정을 가져주셔서 깊이 감사드립니다. 2. 귀하께서 ...</td>\n",
       "      <td>도시개발국 교통운수과</td>\n",
       "      <td>178</td>\n",
       "    </tr>\n",
       "    <tr>\n",
       "      <th>...</th>\n",
       "      <td>...</td>\n",
       "      <td>...</td>\n",
       "      <td>...</td>\n",
       "      <td>...</td>\n",
       "    </tr>\n",
       "    <tr>\n",
       "      <th>을왕리해수욕장 식당호객행위 및 주차장 장악</th>\n",
       "      <td>민원 내용:을왕리해수욕장 식당호객행위 및 주차장 장악결혼기념일을 맞아 주말 3월2일...</td>\n",
       "      <td>1. 먼저, 모처럼의 나들이에 을왕리해수욕장 내 호객행위로 인해 심려를 끼쳐 드린 ...</td>\n",
       "      <td>용유출장소</td>\n",
       "      <td>300</td>\n",
       "    </tr>\n",
       "    <tr>\n",
       "      <th>영마루공원 풋살경기장 이용료 받아 소음방지시설 갖춰 주세요.</th>\n",
       "      <td>민원 내용:영마루공원 풋살경기장 이용료 받아 소음방지시설 갖춰 주세요.항상 구민 복...</td>\n",
       "      <td>새올 전자민원창구 민원상담 접수에 따라 붙임과 같이 답변하고자 합니다.붙 임 1. ...</td>\n",
       "      <td>홍보체육진흥실</td>\n",
       "      <td>506</td>\n",
       "    </tr>\n",
       "    <tr>\n",
       "      <th>관내 보건소 명단 요청합니다.</th>\n",
       "      <td>민원 내용:관내 보건소 명단 요청.치과기공소 현황 문의 드립니다.의료관련 기관을 검...</td>\n",
       "      <td>○ 저희 보건행정 업무에 관심 가져 주신 점 감사드리며, 귀하께서 제기한 민원에 대...</td>\n",
       "      <td>보건소 건강증진과</td>\n",
       "      <td>253</td>\n",
       "    </tr>\n",
       "    <tr>\n",
       "      <th>교통사고 위험지역</th>\n",
       "      <td>민원 내용:교통사고 위험지역덕교동에서 공항전망대 방향으로 가는길에 커브길이 많아 사...</td>\n",
       "      <td>귀하의 가정에 평화와 행복이 가득하시길 기원드리며, 건의하신 민원에 대해 답변드리겠...</td>\n",
       "      <td>용유출장소</td>\n",
       "      <td>172</td>\n",
       "    </tr>\n",
       "    <tr>\n",
       "      <th>환경미화원 채용에 관한 질문</th>\n",
       "      <td>민원 내용:환경미화원 채용에 관한 질문환경미화원 채용에 관하여 물어 보고 싶다.다른...</td>\n",
       "      <td>안녕하십니까?먼저, 저희 구정 청소행정에 깊은 애정과 많은 관심을 가져주셔서 감사합...</td>\n",
       "      <td>주민생활지원국 청소과</td>\n",
       "      <td>205</td>\n",
       "    </tr>\n",
       "  </tbody>\n",
       "</table>\n",
       "<p>496 rows × 4 columns</p>\n",
       "</div>"
      ],
      "text/plain": [
       "                                                                                content  \\\n",
       "title                                                                                     \n",
       "주차장이 너무 어두워요                          민원 내용:주차장이  어두워요중구 전동 25328 번지옆 전동쉼터 옆 공영주차장이 ...   \n",
       "뭐에요? 거잠포선착장 쓰레기 그대로잖아요? 하나도 안 되어있네요?  민원 내용:뭐에요? 거잠포선착장 쓰레기 그대로잖아요? 하나도 안 되어있네요? 거기 ...   \n",
       "9100번 광역버스 배차간격 준수 요청 건               민원 내용:9100번 광역버스 배차간격 준수 요청 건집안 사정으로 서구에서 남동구 ...   \n",
       "46번버스 신흥교통 정상이아닌 버스업체                 민원 내용:46번버스 신흥교통 정상이아닌 버스업체46번버스 신흥교통 손님에게 막말하...   \n",
       "신흥교통 46번버스회사 고발합니다                    민원 내용:신흥교통 46번버스회사 고발46번버스이용중 불편사항 해당교통회사 전화문의...   \n",
       "...                                                                                 ...   \n",
       "을왕리해수욕장 식당호객행위 및 주차장 장악               민원 내용:을왕리해수욕장 식당호객행위 및 주차장 장악결혼기념일을 맞아 주말 3월2일...   \n",
       "영마루공원 풋살경기장 이용료 받아 소음방지시설 갖춰 주세요.     민원 내용:영마루공원 풋살경기장 이용료 받아 소음방지시설 갖춰 주세요.항상 구민 복...   \n",
       "관내 보건소 명단 요청합니다.                      민원 내용:관내 보건소 명단 요청.치과기공소 현황 문의 드립니다.의료관련 기관을 검...   \n",
       "교통사고 위험지역                             민원 내용:교통사고 위험지역덕교동에서 공항전망대 방향으로 가는길에 커브길이 많아 사...   \n",
       "환경미화원 채용에 관한 질문                       민원 내용:환경미화원 채용에 관한 질문환경미화원 채용에 관하여 물어 보고 싶다.다른...   \n",
       "\n",
       "                                                                                 answer  \\\n",
       "title                                                                                     \n",
       "주차장이 너무 어두워요                          1. 구정 발전에 관심을 가져주시는 귀하께 감사의 말씀을 드립니다.2. 민원 제기하...   \n",
       "뭐에요? 거잠포선착장 쓰레기 그대로잖아요? 하나도 안 되어있네요?  1. 안녕하십니까? 귀하께서 상담민원을 통해 신청하신 민원에 대한 검토 결과를 다음...   \n",
       "9100번 광역버스 배차간격 준수 요청 건                                                       불편사항이 해결됨   \n",
       "46번버스 신흥교통 정상이아닌 버스업체                 1. 교통 업무에 많은 관심과 애정을 가져주셔서 깊이 감사드립니다. 2. 귀하께서 ...   \n",
       "신흥교통 46번버스회사 고발합니다                    1. 교통 업무에 많은 관심과 애정을 가져주셔서 깊이 감사드립니다. 2. 귀하께서 ...   \n",
       "...                                                                                 ...   \n",
       "을왕리해수욕장 식당호객행위 및 주차장 장악               1. 먼저, 모처럼의 나들이에 을왕리해수욕장 내 호객행위로 인해 심려를 끼쳐 드린 ...   \n",
       "영마루공원 풋살경기장 이용료 받아 소음방지시설 갖춰 주세요.     새올 전자민원창구 민원상담 접수에 따라 붙임과 같이 답변하고자 합니다.붙 임 1. ...   \n",
       "관내 보건소 명단 요청합니다.                      ○ 저희 보건행정 업무에 관심 가져 주신 점 감사드리며, 귀하께서 제기한 민원에 대...   \n",
       "교통사고 위험지역                             귀하의 가정에 평화와 행복이 가득하시길 기원드리며, 건의하신 민원에 대해 답변드리겠...   \n",
       "환경미화원 채용에 관한 질문                       안녕하십니까?먼저, 저희 구정 청소행정에 깊은 애정과 많은 관심을 가져주셔서 감사합...   \n",
       "\n",
       "                                            depart  tokens  \n",
       "title                                                       \n",
       "주차장이 너무 어두워요                           도시개발국 교통운수과      85  \n",
       "뭐에요? 거잠포선착장 쓰레기 그대로잖아요? 하나도 안 되어있네요?  국제도시건설국 농수산과    1097  \n",
       "9100번 광역버스 배차간격 준수 요청 건                도시개발국 교통운수과     555  \n",
       "46번버스 신흥교통 정상이아닌 버스업체                  도시개발국 교통운수과     236  \n",
       "신흥교통 46번버스회사 고발합니다                     도시개발국 교통운수과     178  \n",
       "...                                            ...     ...  \n",
       "을왕리해수욕장 식당호객행위 및 주차장 장악                      용유출장소     300  \n",
       "영마루공원 풋살경기장 이용료 받아 소음방지시설 갖춰 주세요.          홍보체육진흥실     506  \n",
       "관내 보건소 명단 요청합니다.                         보건소 건강증진과     253  \n",
       "교통사고 위험지역                                    용유출장소     172  \n",
       "환경미화원 채용에 관한 질문                        주민생활지원국 청소과     205  \n",
       "\n",
       "[496 rows x 4 columns]"
      ]
     },
     "execution_count": 16,
     "metadata": {},
     "output_type": "execute_result"
    }
   ],
   "source": [
    "#토큰수1200개 이상 삭제\n",
    "df = df[df['tokens'] <= 1200]\n",
    "df"
   ]
  },
  {
   "cell_type": "code",
   "execution_count": 17,
   "id": "f2c635b3",
   "metadata": {},
   "outputs": [
    {
     "data": {
      "text/html": [
       "<div>\n",
       "<style scoped>\n",
       "    .dataframe tbody tr th:only-of-type {\n",
       "        vertical-align: middle;\n",
       "    }\n",
       "\n",
       "    .dataframe tbody tr th {\n",
       "        vertical-align: top;\n",
       "    }\n",
       "\n",
       "    .dataframe thead th {\n",
       "        text-align: right;\n",
       "    }\n",
       "</style>\n",
       "<table border=\"1\" class=\"dataframe\">\n",
       "  <thead>\n",
       "    <tr style=\"text-align: right;\">\n",
       "      <th></th>\n",
       "      <th>content</th>\n",
       "      <th>answer</th>\n",
       "      <th>depart</th>\n",
       "      <th>tokens</th>\n",
       "    </tr>\n",
       "    <tr>\n",
       "      <th>title</th>\n",
       "      <th></th>\n",
       "      <th></th>\n",
       "      <th></th>\n",
       "      <th></th>\n",
       "    </tr>\n",
       "  </thead>\n",
       "  <tbody>\n",
       "    <tr>\n",
       "      <th>주차장이 너무 어두워요</th>\n",
       "      <td>민원 내용:주차장이  어두워요중구 전동 25328 번지옆 전동쉼터 옆 공영주차장이 ...</td>\n",
       "      <td>1. 구정 발전에 관심을 가져주시는 귀하께 감사의 말씀을 드립니다.2. 민원 제기하...</td>\n",
       "      <td>도시개발국 교통운수과</td>\n",
       "      <td>85</td>\n",
       "    </tr>\n",
       "    <tr>\n",
       "      <th>9100번 광역버스 배차간격 준수 요청 건</th>\n",
       "      <td>민원 내용:9100번 광역버스 배차간격 준수 요청 건집안 사정으로 서구에서 남동구 ...</td>\n",
       "      <td>불편사항이 해결됨</td>\n",
       "      <td>도시개발국 교통운수과</td>\n",
       "      <td>555</td>\n",
       "    </tr>\n",
       "    <tr>\n",
       "      <th>46번버스 신흥교통 정상이아닌 버스업체</th>\n",
       "      <td>민원 내용:46번버스 신흥교통 정상이아닌 버스업체46번버스 신흥교통 손님에게 막말하...</td>\n",
       "      <td>1. 교통 업무에 많은 관심과 애정을 가져주셔서 깊이 감사드립니다. 2. 귀하께서 ...</td>\n",
       "      <td>도시개발국 교통운수과</td>\n",
       "      <td>236</td>\n",
       "    </tr>\n",
       "    <tr>\n",
       "      <th>신흥교통 46번버스회사 고발합니다</th>\n",
       "      <td>민원 내용:신흥교통 46번버스회사 고발46번버스이용중 불편사항 해당교통회사 전화문의...</td>\n",
       "      <td>1. 교통 업무에 많은 관심과 애정을 가져주셔서 깊이 감사드립니다. 2. 귀하께서 ...</td>\n",
       "      <td>도시개발국 교통운수과</td>\n",
       "      <td>178</td>\n",
       "    </tr>\n",
       "    <tr>\n",
       "      <th>인천항 연안여객 터미널 도서 주민 주차하기 너무 불편합니다.</th>\n",
       "      <td>민원 내용:인천항 연안여객 터미널 도서 주민 주차하기  불편.옹진군 도서주민이인천항...</td>\n",
       "      <td>1. 평소 구정발전을 위해 관심 가져주시는 귀하께 깊은 감사를 드립니다.2. 귀하께...</td>\n",
       "      <td>도시개발국 교통운수과</td>\n",
       "      <td>454</td>\n",
       "    </tr>\n",
       "    <tr>\n",
       "      <th>...</th>\n",
       "      <td>...</td>\n",
       "      <td>...</td>\n",
       "      <td>...</td>\n",
       "      <td>...</td>\n",
       "    </tr>\n",
       "    <tr>\n",
       "      <th>신흥동2가 불법주차신고</th>\n",
       "      <td>민원 내용:신흥동2가 불법주차신고신흥도2가 헬로우 스프엔커피점앞 횡단보도및자전거도로...</td>\n",
       "      <td>1. 구정 발전을 위해 관심을 가져 주신데 대해 감사드립니다.     2. 【생활불...</td>\n",
       "      <td>도시개발국 교통운수과</td>\n",
       "      <td>73</td>\n",
       "    </tr>\n",
       "    <tr>\n",
       "      <th>인천기독병원 응급실앞 불법주차신고</th>\n",
       "      <td>민원 내용:인천기독병원 응급실앞 불법주차신고이 스타렉스 불법주차때매 119구급차량이...</td>\n",
       "      <td>어이가없네요 응급실앞 불법주차한차를 봐주다니 응급환자오면 불법주차때매 죽을수도있다는...</td>\n",
       "      <td>도시개발국 교통운수과</td>\n",
       "      <td>119</td>\n",
       "    </tr>\n",
       "    <tr>\n",
       "      <th>율목동 서해대로483번길 여전히 인도 주차개선 안되고있음</th>\n",
       "      <td>민원 내용:율목동 서해대로483번길 여전히 인도 주차개선 안되고있음주차 개선했주다면...</td>\n",
       "      <td>1. 구정 발전을 위해 관심을 가져 주신데 대해 감사드립니다.     2. 귀하께서...</td>\n",
       "      <td>도시개발국 교통운수과</td>\n",
       "      <td>147</td>\n",
       "    </tr>\n",
       "    <tr>\n",
       "      <th>불이 켜져있었으면 합니다.</th>\n",
       "      <td>민원 내용:불이 켜져있었으면 .월미로 대한제당 버스정거장이 요즘 초저녁임에도 어둡다...</td>\n",
       "      <td>새올전자민원-201701051602321455 (2017.1.5.) 호와 관련하여 ...</td>\n",
       "      <td>도시개발국 교통운수과</td>\n",
       "      <td>121</td>\n",
       "    </tr>\n",
       "    <tr>\n",
       "      <th>과속방지턱 및 주차방지시설 설치 요청</th>\n",
       "      <td>민원 내용:과속방지턱 및 주차방지시설 설치 요청구민의 위한 노고에 감사 드립니다. ...</td>\n",
       "      <td>안녕하세요교통운수과 김석환입니다.과속방지턱의 경우는 건설과와 협의 후 설치가 가능하...</td>\n",
       "      <td>도시개발국 교통운수과</td>\n",
       "      <td>631</td>\n",
       "    </tr>\n",
       "  </tbody>\n",
       "</table>\n",
       "<p>70 rows × 4 columns</p>\n",
       "</div>"
      ],
      "text/plain": [
       "                                                                             content  \\\n",
       "title                                                                                  \n",
       "주차장이 너무 어두워요                       민원 내용:주차장이  어두워요중구 전동 25328 번지옆 전동쉼터 옆 공영주차장이 ...   \n",
       "9100번 광역버스 배차간격 준수 요청 건            민원 내용:9100번 광역버스 배차간격 준수 요청 건집안 사정으로 서구에서 남동구 ...   \n",
       "46번버스 신흥교통 정상이아닌 버스업체              민원 내용:46번버스 신흥교통 정상이아닌 버스업체46번버스 신흥교통 손님에게 막말하...   \n",
       "신흥교통 46번버스회사 고발합니다                 민원 내용:신흥교통 46번버스회사 고발46번버스이용중 불편사항 해당교통회사 전화문의...   \n",
       "인천항 연안여객 터미널 도서 주민 주차하기 너무 불편합니다.  민원 내용:인천항 연안여객 터미널 도서 주민 주차하기  불편.옹진군 도서주민이인천항...   \n",
       "...                                                                              ...   \n",
       "신흥동2가 불법주차신고                       민원 내용:신흥동2가 불법주차신고신흥도2가 헬로우 스프엔커피점앞 횡단보도및자전거도로...   \n",
       "인천기독병원 응급실앞 불법주차신고                 민원 내용:인천기독병원 응급실앞 불법주차신고이 스타렉스 불법주차때매 119구급차량이...   \n",
       "율목동 서해대로483번길 여전히 인도 주차개선 안되고있음    민원 내용:율목동 서해대로483번길 여전히 인도 주차개선 안되고있음주차 개선했주다면...   \n",
       "불이 켜져있었으면 합니다.                     민원 내용:불이 켜져있었으면 .월미로 대한제당 버스정거장이 요즘 초저녁임에도 어둡다...   \n",
       "과속방지턱 및 주차방지시설 설치 요청               민원 내용:과속방지턱 및 주차방지시설 설치 요청구민의 위한 노고에 감사 드립니다. ...   \n",
       "\n",
       "                                                                              answer  \\\n",
       "title                                                                                  \n",
       "주차장이 너무 어두워요                       1. 구정 발전에 관심을 가져주시는 귀하께 감사의 말씀을 드립니다.2. 민원 제기하...   \n",
       "9100번 광역버스 배차간격 준수 요청 건                                                    불편사항이 해결됨   \n",
       "46번버스 신흥교통 정상이아닌 버스업체              1. 교통 업무에 많은 관심과 애정을 가져주셔서 깊이 감사드립니다. 2. 귀하께서 ...   \n",
       "신흥교통 46번버스회사 고발합니다                 1. 교통 업무에 많은 관심과 애정을 가져주셔서 깊이 감사드립니다. 2. 귀하께서 ...   \n",
       "인천항 연안여객 터미널 도서 주민 주차하기 너무 불편합니다.  1. 평소 구정발전을 위해 관심 가져주시는 귀하께 깊은 감사를 드립니다.2. 귀하께...   \n",
       "...                                                                              ...   \n",
       "신흥동2가 불법주차신고                       1. 구정 발전을 위해 관심을 가져 주신데 대해 감사드립니다.     2. 【생활불...   \n",
       "인천기독병원 응급실앞 불법주차신고                 어이가없네요 응급실앞 불법주차한차를 봐주다니 응급환자오면 불법주차때매 죽을수도있다는...   \n",
       "율목동 서해대로483번길 여전히 인도 주차개선 안되고있음    1. 구정 발전을 위해 관심을 가져 주신데 대해 감사드립니다.     2. 귀하께서...   \n",
       "불이 켜져있었으면 합니다.                     새올전자민원-201701051602321455 (2017.1.5.) 호와 관련하여 ...   \n",
       "과속방지턱 및 주차방지시설 설치 요청               안녕하세요교통운수과 김석환입니다.과속방지턱의 경우는 건설과와 협의 후 설치가 가능하...   \n",
       "\n",
       "                                        depart  tokens  \n",
       "title                                                   \n",
       "주차장이 너무 어두워요                       도시개발국 교통운수과      85  \n",
       "9100번 광역버스 배차간격 준수 요청 건            도시개발국 교통운수과     555  \n",
       "46번버스 신흥교통 정상이아닌 버스업체              도시개발국 교통운수과     236  \n",
       "신흥교통 46번버스회사 고발합니다                 도시개발국 교통운수과     178  \n",
       "인천항 연안여객 터미널 도서 주민 주차하기 너무 불편합니다.  도시개발국 교통운수과     454  \n",
       "...                                        ...     ...  \n",
       "신흥동2가 불법주차신고                       도시개발국 교통운수과      73  \n",
       "인천기독병원 응급실앞 불법주차신고                 도시개발국 교통운수과     119  \n",
       "율목동 서해대로483번길 여전히 인도 주차개선 안되고있음    도시개발국 교통운수과     147  \n",
       "불이 켜져있었으면 합니다.                     도시개발국 교통운수과     121  \n",
       "과속방지턱 및 주차방지시설 설치 요청               도시개발국 교통운수과     631  \n",
       "\n",
       "[70 rows x 4 columns]"
      ]
     },
     "execution_count": 17,
     "metadata": {},
     "output_type": "execute_result"
    }
   ],
   "source": [
    "trans = df[df['depart'] == '도시개발국 교통운수과']\n",
    "trans"
   ]
  },
  {
   "cell_type": "code",
   "execution_count": 199,
   "id": "b35d44c5",
   "metadata": {
    "scrolled": true
   },
   "outputs": [
    {
     "data": {
      "text/html": [
       "<div>\n",
       "<style scoped>\n",
       "    .dataframe tbody tr th:only-of-type {\n",
       "        vertical-align: middle;\n",
       "    }\n",
       "\n",
       "    .dataframe tbody tr th {\n",
       "        vertical-align: top;\n",
       "    }\n",
       "\n",
       "    .dataframe thead th {\n",
       "        text-align: right;\n",
       "    }\n",
       "</style>\n",
       "<table border=\"1\" class=\"dataframe\">\n",
       "  <thead>\n",
       "    <tr style=\"text-align: right;\">\n",
       "      <th></th>\n",
       "      <th>content</th>\n",
       "      <th>answer</th>\n",
       "      <th>depart</th>\n",
       "      <th>tokens</th>\n",
       "    </tr>\n",
       "    <tr>\n",
       "      <th>title</th>\n",
       "      <th></th>\n",
       "      <th></th>\n",
       "      <th></th>\n",
       "      <th></th>\n",
       "    </tr>\n",
       "  </thead>\n",
       "  <tbody>\n",
       "    <tr>\n",
       "      <th>월미도 어느 식당의 바가지 요금..</th>\n",
       "      <td>민원 내용:월미도 어느 식당의 바가지 요금..오늘 휴일이라 아이 데리고 월미도에갔다...</td>\n",
       "      <td>새올민원상담란으로 접수된 민원(접수번호: 6091)에 대하여 다음과 같이 답변하고자...</td>\n",
       "      <td>주민생활지원국 위생과</td>\n",
       "      <td>1178</td>\n",
       "    </tr>\n",
       "    <tr>\n",
       "      <th>인천유림노르웨이숲에듀오션 공사 시작된건가요?</th>\n",
       "      <td>민원 내용:인천유림노르웨이숲에듀오션 공사 시작된건가요?1. 20191127에 신청한...</td>\n",
       "      <td>1. 귀하의 무궁한 발전을 기원합니다.2. 귀하께서 접수하신 「인천유림노르웨이숲에듀...</td>\n",
       "      <td>도시개발국 건축과</td>\n",
       "      <td>1177</td>\n",
       "    </tr>\n",
       "    <tr>\n",
       "      <th>건설현장으로인해 집이무너지게 생겼어요</th>\n",
       "      <td>민원 내용:건설현장으로인해 집이무너지게 생겼어요건설과에 문의드린바휴대폰번호도알려드렸...</td>\n",
       "      <td>1. 평소 구정발전에 많은 관심을 가져 주심에 감사드립니다.2. 우리 구 신흥동1가...</td>\n",
       "      <td>도시개발국 건축과</td>\n",
       "      <td>1160</td>\n",
       "    </tr>\n",
       "    <tr>\n",
       "      <th>복지정책을역행하는공무원!</th>\n",
       "      <td>민원 내용:복지정책을역행하는공무원!지금부터적는게 제가격은 황당한일입니다...오늘 어...</td>\n",
       "      <td>운서동 사회복지 담당 정종민입니다. 우선 민원처리 과정에서 불편을 끼쳐드려 죄송합니...</td>\n",
       "      <td>운서동</td>\n",
       "      <td>1145</td>\n",
       "    </tr>\n",
       "    <tr>\n",
       "      <th>인하대병원 옆의 정석빌딩 사설주차장의 개선이 필요합니다.</th>\n",
       "      <td>민원 내용:인하대병원 옆의 정석빌딩 사설주차장의 개선이 필요.업무보느라 고생 많으십...</td>\n",
       "      <td>1. 평소 구정발전을 위해 관심 가져주시는 귀하께 깊은 감사를 드립니다.2. 귀하께...</td>\n",
       "      <td>도시개발국 교통운수과</td>\n",
       "      <td>1101</td>\n",
       "    </tr>\n",
       "    <tr>\n",
       "      <th>...</th>\n",
       "      <td>...</td>\n",
       "      <td>...</td>\n",
       "      <td>...</td>\n",
       "      <td>...</td>\n",
       "    </tr>\n",
       "    <tr>\n",
       "      <th>아파트관리소장의 관리업무 지도 감독 요청</th>\n",
       "      <td>민원 내용:아파트관리소장의 관리업무 지도 감독 요청첨부화일을 참조 바랍니다.</td>\n",
       "      <td>1. 귀하께서 국민신문고로 접수하신 민원사항에 대하여 공동주택팀 관리업무를 담당하고...</td>\n",
       "      <td>도시개발국 건축과</td>\n",
       "      <td>46</td>\n",
       "    </tr>\n",
       "    <tr>\n",
       "      <th>학교앞 담배꽁초</th>\n",
       "      <td>민원 내용:학교앞 담배꽁초학교앞 담배꽁초 문제 해결해주세요</td>\n",
       "      <td>담배 없는 우리지역 만들기에 관심을 가져 주셔서 감사합니다귀하께서 제보하신 학교앞 ...</td>\n",
       "      <td>보건소 건강증진과</td>\n",
       "      <td>42</td>\n",
       "    </tr>\n",
       "    <tr>\n",
       "      <th>화물운송회사 횡포에 대한 민원청구</th>\n",
       "      <td>민원 내용:화물운송회사 횡포에 대한 민원청구</td>\n",
       "      <td>항상 구정업무에 관심을 가져주셔서 대단히 감사합니다.1. 지입차주께서 2007년부터...</td>\n",
       "      <td>도시개발국 교통운수과</td>\n",
       "      <td>31</td>\n",
       "    </tr>\n",
       "    <tr>\n",
       "      <th>32697 답변에 대한 이의제기</th>\n",
       "      <td>민원 내용:32697 답변에 대한 이의제기첨부서류 참조</td>\n",
       "      <td>2018. 3. 20. 접수된 새올 상담민원에 대하여 붙임과 같이 답변하고자 합니다...</td>\n",
       "      <td>도시개발국 교통운수과</td>\n",
       "      <td>28</td>\n",
       "    </tr>\n",
       "    <tr>\n",
       "      <th>중구시설관리공단 기간제 관련 청원</th>\n",
       "      <td>민원 내용:중구시설관리공단 기간제 관련 청원</td>\n",
       "      <td>○ 건의사항 1. 추경예산으로 공단 비정규직 44명의 퇴직금 예산이 반영될 수 있도...</td>\n",
       "      <td>기획감사실</td>\n",
       "      <td>27</td>\n",
       "    </tr>\n",
       "  </tbody>\n",
       "</table>\n",
       "<p>496 rows × 4 columns</p>\n",
       "</div>"
      ],
      "text/plain": [
       "                                                                           content  \\\n",
       "title                                                                                \n",
       "월미도 어느 식당의 바가지 요금..              민원 내용:월미도 어느 식당의 바가지 요금..오늘 휴일이라 아이 데리고 월미도에갔다...   \n",
       "인천유림노르웨이숲에듀오션 공사 시작된건가요?         민원 내용:인천유림노르웨이숲에듀오션 공사 시작된건가요?1. 20191127에 신청한...   \n",
       "건설현장으로인해 집이무너지게 생겼어요             민원 내용:건설현장으로인해 집이무너지게 생겼어요건설과에 문의드린바휴대폰번호도알려드렸...   \n",
       "복지정책을역행하는공무원!                    민원 내용:복지정책을역행하는공무원!지금부터적는게 제가격은 황당한일입니다...오늘 어...   \n",
       "인하대병원 옆의 정석빌딩 사설주차장의 개선이 필요합니다.  민원 내용:인하대병원 옆의 정석빌딩 사설주차장의 개선이 필요.업무보느라 고생 많으십...   \n",
       "...                                                                            ...   \n",
       "아파트관리소장의 관리업무 지도 감독 요청                 민원 내용:아파트관리소장의 관리업무 지도 감독 요청첨부화일을 참조 바랍니다.    \n",
       "학교앞 담배꽁초                                          민원 내용:학교앞 담배꽁초학교앞 담배꽁초 문제 해결해주세요   \n",
       "화물운송회사 횡포에 대한 민원청구                                        민원 내용:화물운송회사 횡포에 대한 민원청구   \n",
       "32697 답변에 대한 이의제기                                  민원 내용:32697 답변에 대한 이의제기첨부서류 참조    \n",
       "중구시설관리공단 기간제 관련 청원                                        민원 내용:중구시설관리공단 기간제 관련 청원   \n",
       "\n",
       "                                                                            answer  \\\n",
       "title                                                                                \n",
       "월미도 어느 식당의 바가지 요금..              새올민원상담란으로 접수된 민원(접수번호: 6091)에 대하여 다음과 같이 답변하고자...   \n",
       "인천유림노르웨이숲에듀오션 공사 시작된건가요?         1. 귀하의 무궁한 발전을 기원합니다.2. 귀하께서 접수하신 「인천유림노르웨이숲에듀...   \n",
       "건설현장으로인해 집이무너지게 생겼어요             1. 평소 구정발전에 많은 관심을 가져 주심에 감사드립니다.2. 우리 구 신흥동1가...   \n",
       "복지정책을역행하는공무원!                    운서동 사회복지 담당 정종민입니다. 우선 민원처리 과정에서 불편을 끼쳐드려 죄송합니...   \n",
       "인하대병원 옆의 정석빌딩 사설주차장의 개선이 필요합니다.  1. 평소 구정발전을 위해 관심 가져주시는 귀하께 깊은 감사를 드립니다.2. 귀하께...   \n",
       "...                                                                            ...   \n",
       "아파트관리소장의 관리업무 지도 감독 요청           1. 귀하께서 국민신문고로 접수하신 민원사항에 대하여 공동주택팀 관리업무를 담당하고...   \n",
       "학교앞 담배꽁초                         담배 없는 우리지역 만들기에 관심을 가져 주셔서 감사합니다귀하께서 제보하신 학교앞 ...   \n",
       "화물운송회사 횡포에 대한 민원청구               항상 구정업무에 관심을 가져주셔서 대단히 감사합니다.1. 지입차주께서 2007년부터...   \n",
       "32697 답변에 대한 이의제기                2018. 3. 20. 접수된 새올 상담민원에 대하여 붙임과 같이 답변하고자 합니다...   \n",
       "중구시설관리공단 기간제 관련 청원               ○ 건의사항 1. 추경예산으로 공단 비정규직 44명의 퇴직금 예산이 반영될 수 있도...   \n",
       "\n",
       "                                      depart  tokens  \n",
       "title                                                 \n",
       "월미도 어느 식당의 바가지 요금..              주민생활지원국 위생과    1178  \n",
       "인천유림노르웨이숲에듀오션 공사 시작된건가요?           도시개발국 건축과    1177  \n",
       "건설현장으로인해 집이무너지게 생겼어요               도시개발국 건축과    1160  \n",
       "복지정책을역행하는공무원!                            운서동    1145  \n",
       "인하대병원 옆의 정석빌딩 사설주차장의 개선이 필요합니다.  도시개발국 교통운수과    1101  \n",
       "...                                      ...     ...  \n",
       "아파트관리소장의 관리업무 지도 감독 요청             도시개발국 건축과      46  \n",
       "학교앞 담배꽁초                           보건소 건강증진과      42  \n",
       "화물운송회사 횡포에 대한 민원청구               도시개발국 교통운수과      31  \n",
       "32697 답변에 대한 이의제기                도시개발국 교통운수과      28  \n",
       "중구시설관리공단 기간제 관련 청원                     기획감사실      27  \n",
       "\n",
       "[496 rows x 4 columns]"
      ]
     },
     "execution_count": 199,
     "metadata": {},
     "output_type": "execute_result"
    }
   ],
   "source": [
    "sort_df=df.sort_values(by='tokens', ascending=False)\n",
    "sort_df"
   ]
  },
  {
   "cell_type": "code",
   "execution_count": 200,
   "id": "ca083612",
   "metadata": {},
   "outputs": [
    {
     "data": {
      "text/plain": [
       "1069"
      ]
     },
     "execution_count": 200,
     "metadata": {},
     "output_type": "execute_result"
    }
   ],
   "source": [
    "sort_df.iloc[10]['tokens']"
   ]
  },
  {
   "cell_type": "code",
   "execution_count": 18,
   "id": "2153cd4f",
   "metadata": {},
   "outputs": [
    {
     "data": {
      "text/plain": [
       "26898"
      ]
     },
     "execution_count": 18,
     "metadata": {},
     "output_type": "execute_result"
    }
   ],
   "source": [
    "trans['tokens'].sum()"
   ]
  },
  {
   "cell_type": "code",
   "execution_count": 19,
   "id": "887806cd",
   "metadata": {},
   "outputs": [],
   "source": [
    "#자연어->embedding벡터\n",
    "##embedding 모델 : text-embedding-ada-00\n",
    "\n",
    "COMPLETIONS_MODEL = \"gpt-3.5-turbo\"\n",
    "EMBEDDING_MODEL = \"text-embedding-ada-002\"\n",
    "\n",
    "def get_embedding(text: str, model: str=EMBEDDING_MODEL) -> list[float]:\n",
    "    result = openai.Embedding.create(\n",
    "      model=model,\n",
    "      input=text\n",
    "    )\n",
    "    return result[\"data\"][0][\"embedding\"]\n",
    "\n",
    "def compute_doc_embeddings(df: pd.DataFrame) -> dict[tuple[str, str], list[float]]:\n",
    "    return {\n",
    "        idx: get_embedding(r.content) for idx, r in df.iterrows()\n",
    "        # index는 그대로 유지하고 content에 있는 내용만 embedding vector로 바꾼 새로운 데이터 프레임 생성\n",
    "    }"
   ]
  },
  {
   "cell_type": "code",
   "execution_count": 104,
   "id": "f7c49e41",
   "metadata": {},
   "outputs": [
    {
     "ename": "RateLimitError",
     "evalue": "Rate limit reached for default-global-with-image-limits in organization org-cnv7grROqpjupKgCshyrU34X on requests per min. Limit: 60 / min. Please try again in 1s. Contact support@openai.com if you continue to have issues. Please add a payment method to your account to increase your rate limit. Visit https://platform.openai.com/account/billing to add a payment method.",
     "output_type": "error",
     "traceback": [
      "\u001b[1;31m---------------------------------------------------------------------------\u001b[0m",
      "\u001b[1;31mRateLimitError\u001b[0m                            Traceback (most recent call last)",
      "\u001b[1;32m~\\AppData\\Local\\Temp\\ipykernel_844\\480003486.py\u001b[0m in \u001b[0;36m<module>\u001b[1;34m\u001b[0m\n\u001b[1;32m----> 1\u001b[1;33m \u001b[0mdocument_embeddings2\u001b[0m \u001b[1;33m=\u001b[0m \u001b[0mcompute_doc_embeddings\u001b[0m\u001b[1;33m(\u001b[0m\u001b[0mdf\u001b[0m\u001b[1;33m)\u001b[0m\u001b[1;33m\u001b[0m\u001b[1;33m\u001b[0m\u001b[0m\n\u001b[0m",
      "\u001b[1;32m~\\AppData\\Local\\Temp\\ipykernel_844\\3241401300.py\u001b[0m in \u001b[0;36mcompute_doc_embeddings\u001b[1;34m(df)\u001b[0m\n\u001b[0;32m     13\u001b[0m \u001b[1;33m\u001b[0m\u001b[0m\n\u001b[0;32m     14\u001b[0m \u001b[1;32mdef\u001b[0m \u001b[0mcompute_doc_embeddings\u001b[0m\u001b[1;33m(\u001b[0m\u001b[0mdf\u001b[0m\u001b[1;33m:\u001b[0m \u001b[0mpd\u001b[0m\u001b[1;33m.\u001b[0m\u001b[0mDataFrame\u001b[0m\u001b[1;33m)\u001b[0m \u001b[1;33m->\u001b[0m \u001b[0mdict\u001b[0m\u001b[1;33m[\u001b[0m\u001b[0mtuple\u001b[0m\u001b[1;33m[\u001b[0m\u001b[0mstr\u001b[0m\u001b[1;33m,\u001b[0m \u001b[0mstr\u001b[0m\u001b[1;33m]\u001b[0m\u001b[1;33m,\u001b[0m \u001b[0mlist\u001b[0m\u001b[1;33m[\u001b[0m\u001b[0mfloat\u001b[0m\u001b[1;33m]\u001b[0m\u001b[1;33m]\u001b[0m\u001b[1;33m:\u001b[0m\u001b[1;33m\u001b[0m\u001b[1;33m\u001b[0m\u001b[0m\n\u001b[1;32m---> 15\u001b[1;33m     return {\n\u001b[0m\u001b[0;32m     16\u001b[0m         \u001b[0midx\u001b[0m\u001b[1;33m:\u001b[0m \u001b[0mget_embedding\u001b[0m\u001b[1;33m(\u001b[0m\u001b[0mr\u001b[0m\u001b[1;33m.\u001b[0m\u001b[0mcontent\u001b[0m\u001b[1;33m)\u001b[0m \u001b[1;32mfor\u001b[0m \u001b[0midx\u001b[0m\u001b[1;33m,\u001b[0m \u001b[0mr\u001b[0m \u001b[1;32min\u001b[0m \u001b[0mdf\u001b[0m\u001b[1;33m.\u001b[0m\u001b[0miterrows\u001b[0m\u001b[1;33m(\u001b[0m\u001b[1;33m)\u001b[0m\u001b[1;33m\u001b[0m\u001b[1;33m\u001b[0m\u001b[0m\n\u001b[0;32m     17\u001b[0m         \u001b[1;31m# index는 그대로 유지하고 content에 있는 내용만 embedding vector로 바꾼 새로운 데이터 프레임 생성\u001b[0m\u001b[1;33m\u001b[0m\u001b[1;33m\u001b[0m\u001b[0m\n",
      "\u001b[1;32m~\\AppData\\Local\\Temp\\ipykernel_844\\3241401300.py\u001b[0m in \u001b[0;36m<dictcomp>\u001b[1;34m(.0)\u001b[0m\n\u001b[0;32m     14\u001b[0m \u001b[1;32mdef\u001b[0m \u001b[0mcompute_doc_embeddings\u001b[0m\u001b[1;33m(\u001b[0m\u001b[0mdf\u001b[0m\u001b[1;33m:\u001b[0m \u001b[0mpd\u001b[0m\u001b[1;33m.\u001b[0m\u001b[0mDataFrame\u001b[0m\u001b[1;33m)\u001b[0m \u001b[1;33m->\u001b[0m \u001b[0mdict\u001b[0m\u001b[1;33m[\u001b[0m\u001b[0mtuple\u001b[0m\u001b[1;33m[\u001b[0m\u001b[0mstr\u001b[0m\u001b[1;33m,\u001b[0m \u001b[0mstr\u001b[0m\u001b[1;33m]\u001b[0m\u001b[1;33m,\u001b[0m \u001b[0mlist\u001b[0m\u001b[1;33m[\u001b[0m\u001b[0mfloat\u001b[0m\u001b[1;33m]\u001b[0m\u001b[1;33m]\u001b[0m\u001b[1;33m:\u001b[0m\u001b[1;33m\u001b[0m\u001b[1;33m\u001b[0m\u001b[0m\n\u001b[0;32m     15\u001b[0m     return {\n\u001b[1;32m---> 16\u001b[1;33m         \u001b[0midx\u001b[0m\u001b[1;33m:\u001b[0m \u001b[0mget_embedding\u001b[0m\u001b[1;33m(\u001b[0m\u001b[0mr\u001b[0m\u001b[1;33m.\u001b[0m\u001b[0mcontent\u001b[0m\u001b[1;33m)\u001b[0m \u001b[1;32mfor\u001b[0m \u001b[0midx\u001b[0m\u001b[1;33m,\u001b[0m \u001b[0mr\u001b[0m \u001b[1;32min\u001b[0m \u001b[0mdf\u001b[0m\u001b[1;33m.\u001b[0m\u001b[0miterrows\u001b[0m\u001b[1;33m(\u001b[0m\u001b[1;33m)\u001b[0m\u001b[1;33m\u001b[0m\u001b[1;33m\u001b[0m\u001b[0m\n\u001b[0m\u001b[0;32m     17\u001b[0m         \u001b[1;31m# index는 그대로 유지하고 content에 있는 내용만 embedding vector로 바꾼 새로운 데이터 프레임 생성\u001b[0m\u001b[1;33m\u001b[0m\u001b[1;33m\u001b[0m\u001b[0m\n\u001b[0;32m     18\u001b[0m     }\n",
      "\u001b[1;32m~\\AppData\\Local\\Temp\\ipykernel_844\\3241401300.py\u001b[0m in \u001b[0;36mget_embedding\u001b[1;34m(text, model)\u001b[0m\n\u001b[0;32m      6\u001b[0m \u001b[1;33m\u001b[0m\u001b[0m\n\u001b[0;32m      7\u001b[0m \u001b[1;32mdef\u001b[0m \u001b[0mget_embedding\u001b[0m\u001b[1;33m(\u001b[0m\u001b[0mtext\u001b[0m\u001b[1;33m:\u001b[0m \u001b[0mstr\u001b[0m\u001b[1;33m,\u001b[0m \u001b[0mmodel\u001b[0m\u001b[1;33m:\u001b[0m \u001b[0mstr\u001b[0m\u001b[1;33m=\u001b[0m\u001b[0mEMBEDDING_MODEL\u001b[0m\u001b[1;33m)\u001b[0m \u001b[1;33m->\u001b[0m \u001b[0mlist\u001b[0m\u001b[1;33m[\u001b[0m\u001b[0mfloat\u001b[0m\u001b[1;33m]\u001b[0m\u001b[1;33m:\u001b[0m\u001b[1;33m\u001b[0m\u001b[1;33m\u001b[0m\u001b[0m\n\u001b[1;32m----> 8\u001b[1;33m     result = openai.Embedding.create(\n\u001b[0m\u001b[0;32m      9\u001b[0m       \u001b[0mmodel\u001b[0m\u001b[1;33m=\u001b[0m\u001b[0mmodel\u001b[0m\u001b[1;33m,\u001b[0m\u001b[1;33m\u001b[0m\u001b[1;33m\u001b[0m\u001b[0m\n\u001b[0;32m     10\u001b[0m       \u001b[0minput\u001b[0m\u001b[1;33m=\u001b[0m\u001b[0mtext\u001b[0m\u001b[1;33m\u001b[0m\u001b[1;33m\u001b[0m\u001b[0m\n",
      "\u001b[1;32m~\\anaconda3\\lib\\site-packages\\openai\\api_resources\\embedding.py\u001b[0m in \u001b[0;36mcreate\u001b[1;34m(cls, *args, **kwargs)\u001b[0m\n\u001b[0;32m     31\u001b[0m         \u001b[1;32mwhile\u001b[0m \u001b[1;32mTrue\u001b[0m\u001b[1;33m:\u001b[0m\u001b[1;33m\u001b[0m\u001b[1;33m\u001b[0m\u001b[0m\n\u001b[0;32m     32\u001b[0m             \u001b[1;32mtry\u001b[0m\u001b[1;33m:\u001b[0m\u001b[1;33m\u001b[0m\u001b[1;33m\u001b[0m\u001b[0m\n\u001b[1;32m---> 33\u001b[1;33m                 \u001b[0mresponse\u001b[0m \u001b[1;33m=\u001b[0m \u001b[0msuper\u001b[0m\u001b[1;33m(\u001b[0m\u001b[1;33m)\u001b[0m\u001b[1;33m.\u001b[0m\u001b[0mcreate\u001b[0m\u001b[1;33m(\u001b[0m\u001b[1;33m*\u001b[0m\u001b[0margs\u001b[0m\u001b[1;33m,\u001b[0m \u001b[1;33m**\u001b[0m\u001b[0mkwargs\u001b[0m\u001b[1;33m)\u001b[0m\u001b[1;33m\u001b[0m\u001b[1;33m\u001b[0m\u001b[0m\n\u001b[0m\u001b[0;32m     34\u001b[0m \u001b[1;33m\u001b[0m\u001b[0m\n\u001b[0;32m     35\u001b[0m                 \u001b[1;31m# If a user specifies base64, we'll just return the encoded string.\u001b[0m\u001b[1;33m\u001b[0m\u001b[1;33m\u001b[0m\u001b[0m\n",
      "\u001b[1;32m~\\anaconda3\\lib\\site-packages\\openai\\api_resources\\abstract\\engine_api_resource.py\u001b[0m in \u001b[0;36mcreate\u001b[1;34m(cls, api_key, api_base, api_type, request_id, api_version, organization, **params)\u001b[0m\n\u001b[0;32m    151\u001b[0m         )\n\u001b[0;32m    152\u001b[0m \u001b[1;33m\u001b[0m\u001b[0m\n\u001b[1;32m--> 153\u001b[1;33m         response, _, api_key = requestor.request(\n\u001b[0m\u001b[0;32m    154\u001b[0m             \u001b[1;34m\"post\"\u001b[0m\u001b[1;33m,\u001b[0m\u001b[1;33m\u001b[0m\u001b[1;33m\u001b[0m\u001b[0m\n\u001b[0;32m    155\u001b[0m             \u001b[0murl\u001b[0m\u001b[1;33m,\u001b[0m\u001b[1;33m\u001b[0m\u001b[1;33m\u001b[0m\u001b[0m\n",
      "\u001b[1;32m~\\anaconda3\\lib\\site-packages\\openai\\api_requestor.py\u001b[0m in \u001b[0;36mrequest\u001b[1;34m(self, method, url, params, headers, files, stream, request_id, request_timeout)\u001b[0m\n\u001b[0;32m    224\u001b[0m             \u001b[0mrequest_timeout\u001b[0m\u001b[1;33m=\u001b[0m\u001b[0mrequest_timeout\u001b[0m\u001b[1;33m,\u001b[0m\u001b[1;33m\u001b[0m\u001b[1;33m\u001b[0m\u001b[0m\n\u001b[0;32m    225\u001b[0m         )\n\u001b[1;32m--> 226\u001b[1;33m         \u001b[0mresp\u001b[0m\u001b[1;33m,\u001b[0m \u001b[0mgot_stream\u001b[0m \u001b[1;33m=\u001b[0m \u001b[0mself\u001b[0m\u001b[1;33m.\u001b[0m\u001b[0m_interpret_response\u001b[0m\u001b[1;33m(\u001b[0m\u001b[0mresult\u001b[0m\u001b[1;33m,\u001b[0m \u001b[0mstream\u001b[0m\u001b[1;33m)\u001b[0m\u001b[1;33m\u001b[0m\u001b[1;33m\u001b[0m\u001b[0m\n\u001b[0m\u001b[0;32m    227\u001b[0m         \u001b[1;32mreturn\u001b[0m \u001b[0mresp\u001b[0m\u001b[1;33m,\u001b[0m \u001b[0mgot_stream\u001b[0m\u001b[1;33m,\u001b[0m \u001b[0mself\u001b[0m\u001b[1;33m.\u001b[0m\u001b[0mapi_key\u001b[0m\u001b[1;33m\u001b[0m\u001b[1;33m\u001b[0m\u001b[0m\n\u001b[0;32m    228\u001b[0m \u001b[1;33m\u001b[0m\u001b[0m\n",
      "\u001b[1;32m~\\anaconda3\\lib\\site-packages\\openai\\api_requestor.py\u001b[0m in \u001b[0;36m_interpret_response\u001b[1;34m(self, result, stream)\u001b[0m\n\u001b[0;32m    618\u001b[0m         \u001b[1;32melse\u001b[0m\u001b[1;33m:\u001b[0m\u001b[1;33m\u001b[0m\u001b[1;33m\u001b[0m\u001b[0m\n\u001b[0;32m    619\u001b[0m             return (\n\u001b[1;32m--> 620\u001b[1;33m                 self._interpret_response_line(\n\u001b[0m\u001b[0;32m    621\u001b[0m                     \u001b[0mresult\u001b[0m\u001b[1;33m.\u001b[0m\u001b[0mcontent\u001b[0m\u001b[1;33m.\u001b[0m\u001b[0mdecode\u001b[0m\u001b[1;33m(\u001b[0m\u001b[1;34m\"utf-8\"\u001b[0m\u001b[1;33m)\u001b[0m\u001b[1;33m,\u001b[0m\u001b[1;33m\u001b[0m\u001b[1;33m\u001b[0m\u001b[0m\n\u001b[0;32m    622\u001b[0m                     \u001b[0mresult\u001b[0m\u001b[1;33m.\u001b[0m\u001b[0mstatus_code\u001b[0m\u001b[1;33m,\u001b[0m\u001b[1;33m\u001b[0m\u001b[1;33m\u001b[0m\u001b[0m\n",
      "\u001b[1;32m~\\anaconda3\\lib\\site-packages\\openai\\api_requestor.py\u001b[0m in \u001b[0;36m_interpret_response_line\u001b[1;34m(self, rbody, rcode, rheaders, stream)\u001b[0m\n\u001b[0;32m    681\u001b[0m         \u001b[0mstream_error\u001b[0m \u001b[1;33m=\u001b[0m \u001b[0mstream\u001b[0m \u001b[1;32mand\u001b[0m \u001b[1;34m\"error\"\u001b[0m \u001b[1;32min\u001b[0m \u001b[0mresp\u001b[0m\u001b[1;33m.\u001b[0m\u001b[0mdata\u001b[0m\u001b[1;33m\u001b[0m\u001b[1;33m\u001b[0m\u001b[0m\n\u001b[0;32m    682\u001b[0m         \u001b[1;32mif\u001b[0m \u001b[0mstream_error\u001b[0m \u001b[1;32mor\u001b[0m \u001b[1;32mnot\u001b[0m \u001b[1;36m200\u001b[0m \u001b[1;33m<=\u001b[0m \u001b[0mrcode\u001b[0m \u001b[1;33m<\u001b[0m \u001b[1;36m300\u001b[0m\u001b[1;33m:\u001b[0m\u001b[1;33m\u001b[0m\u001b[1;33m\u001b[0m\u001b[0m\n\u001b[1;32m--> 683\u001b[1;33m             raise self.handle_error_response(\n\u001b[0m\u001b[0;32m    684\u001b[0m                 \u001b[0mrbody\u001b[0m\u001b[1;33m,\u001b[0m \u001b[0mrcode\u001b[0m\u001b[1;33m,\u001b[0m \u001b[0mresp\u001b[0m\u001b[1;33m.\u001b[0m\u001b[0mdata\u001b[0m\u001b[1;33m,\u001b[0m \u001b[0mrheaders\u001b[0m\u001b[1;33m,\u001b[0m \u001b[0mstream_error\u001b[0m\u001b[1;33m=\u001b[0m\u001b[0mstream_error\u001b[0m\u001b[1;33m\u001b[0m\u001b[1;33m\u001b[0m\u001b[0m\n\u001b[0;32m    685\u001b[0m             )\n",
      "\u001b[1;31mRateLimitError\u001b[0m: Rate limit reached for default-global-with-image-limits in organization org-cnv7grROqpjupKgCshyrU34X on requests per min. Limit: 60 / min. Please try again in 1s. Contact support@openai.com if you continue to have issues. Please add a payment method to your account to increase your rate limit. Visit https://platform.openai.com/account/billing to add a payment method."
     ]
    }
   ],
   "source": [
    "document_embeddings2 = compute_doc_embeddings(trans)"
   ]
  },
  {
   "cell_type": "code",
   "execution_count": 45,
   "id": "f9d15233",
   "metadata": {},
   "outputs": [],
   "source": [
    "def load_embeddings(fname: str) -> dict[tuple[str, str], list[float]]:\n",
    "    \"\"\"\n",
    "    Read the document embeddings and their keys from a CSV.\n",
    "    \n",
    "    fname is the path to a CSV with exactly these named columns: \n",
    "        \"title\", \"heading\", \"0\", \"1\", ... up to the length of the embedding vectors.\n",
    "    \"\"\"\n",
    "    \n",
    "    df = pd.read_csv(fname, header=0)\n",
    "    max_dim = max([int(c) for c in df.columns if c != \"title\" and c != \"heading\"])\n",
    "    return {\n",
    "           (r.title, r.heading): [r[str(i)] for i in range(max_dim + 1)] for _, r in df.iterrows()\n",
    "    }"
   ]
  },
  {
   "cell_type": "code",
   "execution_count": null,
   "id": "f0ce2e4c",
   "metadata": {},
   "outputs": [],
   "source": [
    "# embedding example\n",
    "example_entry = list(document_embeddings.items())[0]\n",
    "print(f\"{example_entry[0]} : {example_entry[1][:5]}... ({len(example_entry[1])} entries)\")"
   ]
  },
  {
   "cell_type": "markdown",
   "id": "617bb1c6",
   "metadata": {},
   "source": [
    "---"
   ]
  },
  {
   "cell_type": "markdown",
   "id": "c409dd5d",
   "metadata": {},
   "source": [
    "# ChapGPT이용"
   ]
  },
  {
   "cell_type": "markdown",
   "id": "a845f068",
   "metadata": {},
   "source": [
    "- 3개의 chatgpt이용\n",
    "      - 1개는 민원을 요약하는 것\n",
    "      - 1개는 비슷한 유형의 민원을 찾는 것-> 답변생성과 부서추천\n",
    "           -embedding을 기반으로 유사도를 계산해 비슷한 민원의 정보를 가져옴\n",
    "           -민원 답변과 부서도 함께 loading\n",
    "      - 1개는 비슷한 유형의 민원과의 비슷한 패턴으로 답변 생성"
   ]
  },
  {
   "cell_type": "markdown",
   "id": "fb7bc420",
   "metadata": {},
   "source": [
    "## 1.민원 요약"
   ]
  },
  {
   "cell_type": "markdown",
   "id": "cbda7467",
   "metadata": {},
   "source": [
    "### 필요한 prompt 형태 설정\n",
    "\n",
    "- 요약의 경우, \n",
    "       민원내용: \"새로운 민원 input\"\n",
    "       상황: \"###\"\n",
    "       요약: \"###\""
   ]
  },
  {
   "cell_type": "code",
   "execution_count": 35,
   "id": "a9c65469",
   "metadata": {},
   "outputs": [],
   "source": [
    "def print_summary(msg):\n",
    "    completion = openai.ChatCompletion.create(\n",
    "                    model=\"gpt-3.5-turbo\",\n",
    "                    messages=msg\n",
    "                    )\n",
    "    return completion['choices'][0]['message']['content']"
   ]
  },
  {
   "cell_type": "code",
   "execution_count": 36,
   "id": "a3bb9861",
   "metadata": {},
   "outputs": [
    {
     "data": {
      "text/plain": [
       "'\\nmessages = [\\n    {\"role\": \"system\", \"content\": \"You are a bot that summarizes the complaints in Jung-gu, Incheon. summarize the situation and content of the new complaint\"},\\n    {\"role\": \"user\", \"content\": \"If I give you the contents of the complaint, present the situation and summary of the complaint.\"}\\n]\\n\\n\\nprint_msg(messages)\\n'"
      ]
     },
     "execution_count": 36,
     "metadata": {},
     "output_type": "execute_result"
    }
   ],
   "source": [
    "\"\"\"\n",
    "messages = [\n",
    "    {\"role\": \"system\", \"content\": \"You are a bot that summarizes the complaints in Jung-gu, Incheon. summarize the situation and content of the new complaint\"},\n",
    "    {\"role\": \"user\", \"content\": \"If I give you the contents of the complaint, present the situation and summary of the complaint.\"}\n",
    "]\n",
    "\n",
    "\n",
    "print_msg(messages)\n",
    "\"\"\""
   ]
  },
  {
   "cell_type": "code",
   "execution_count": 42,
   "id": "0fe89840",
   "metadata": {},
   "outputs": [
    {
     "name": "stdout",
     "output_type": "stream",
     "text": [
      "새로운 민원: 중구에 실미유원지 해수욕장 폐쇄라는 안내를 봤는데요저녁시간에 텐트치고 고기구어먹는거는 감독안하시나요그런게 다 코로나19 방역에 문제가 될 수 있는거 아닐까요관리하시는 분들 퇴근하시면 아예 문을 잠그시던가 해야지 그게  제대로 이루어지고 있는 폐쇄조치인지 의문스럽고 잠깐이라도 방역수칙 지키며 찾아가는 사람으로서 불안감을 떨칠 수가 없습니다 안그래도 잠깐 갔을 때 저녁시간엔 어떻게 되는 것일까 궁금하고 걱정되긴 했었는데 텐트치고 상피는 사람 눈으로도 보고sns를 보니 누가봐도  폐쇄한 해수욕장 이라고 생각할 수 없겠어요정확한 방역수칙을 지키는 사람으로서 아주 불안한 한 마음에 그냥 넘어갈 수 없어 신고합니다 중구에 실미유원지 해수욕장 폐쇄라는 안내를 봤는데요저녁시간에 텐트치고 고기구어먹는거는 감독안하시나요그런게 다 코로나19 방역에 문제가 될 수 있는거 아닐까요관리하시는 분들 퇴근하시면 아예 문을 잠그시던가 해야지 그게  제대로 이루어지고 있는 폐쇄조치인지 의문스럽고 잠깐이라도 방역수칙 지키며 찾아가는 사람으로서 불안감을 떨칠 수가 없습니다 안그래도 잠깐 갔을 때 저녁시간엔 어떻게 되는 것일까 궁금하고 걱정되긴 했었는데 텐트치고 상피는 사람 눈으로도 보고sns를 보니 누가봐도  폐쇄한 해수욕장 이라고 생각할 수 없겠어요정확한 방역수칙을 지키는 사람으로서 아주 불안한 한 마음에 그냥 넘어갈 수 없어 신고합니다\n"
     ]
    }
   ],
   "source": [
    "query = input(\"새로운 민원: \")"
   ]
  },
  {
   "cell_type": "code",
   "execution_count": 41,
   "id": "020a5dc4",
   "metadata": {
    "scrolled": true
   },
   "outputs": [
    {
     "data": {
      "text/plain": [
       "'중구에 위치한 실미유원지 해수욕장의 폐쇄 조치가 제대로 이루어지고 있는지 의문을 제기하는 새로운 민원이 제출되었다. 텐트를 설치하고 고기를 구워 먹는 등 방역수칙을 지키지 않는 행위가 빈번히 일어나고 있어 걱정과 불안감을 느끼는 시민들의 목소리가 높아지고 있다는 것이다.'"
      ]
     },
     "execution_count": 41,
     "metadata": {},
     "output_type": "execute_result"
    }
   ],
   "source": [
    "messages = [\n",
    "    {\"role\": \"system\", \"content\": \"You are a bot that summarizes the complaints in Jung-gu, Incheon. summarize the situation and content of the new complaint. 모든 대답은 한글로.\"},\n",
    "    {\"role\": \"user\", \"content\" :\"새로운 민원:{} \\n상황: \\n요약:\\n상황과 요약을 작성해\".format(query)}\n",
    "]\n",
    "\n",
    "\n",
    "print_summary(messages)"
   ]
  },
  {
   "cell_type": "markdown",
   "id": "5e4a0d19",
   "metadata": {},
   "source": [
    "## 2. 민원답변 생성"
   ]
  },
  {
   "cell_type": "markdown",
   "id": "9f785403",
   "metadata": {},
   "source": [
    "### 임베딩"
   ]
  },
  {
   "cell_type": "code",
   "execution_count": 7,
   "id": "b4e49cff",
   "metadata": {},
   "outputs": [],
   "source": [
    "#SentenceTransformer 모델 이용\n",
    "from sentence_transformers import SentenceTransformer\n",
    "model = SentenceTransformer('paraphrase-distilroberta-base-v2')"
   ]
  },
  {
   "cell_type": "code",
   "execution_count": 8,
   "id": "1c693619",
   "metadata": {
    "scrolled": false
   },
   "outputs": [
    {
     "data": {
      "text/html": [
       "<div>\n",
       "<style scoped>\n",
       "    .dataframe tbody tr th:only-of-type {\n",
       "        vertical-align: middle;\n",
       "    }\n",
       "\n",
       "    .dataframe tbody tr th {\n",
       "        vertical-align: top;\n",
       "    }\n",
       "\n",
       "    .dataframe thead th {\n",
       "        text-align: right;\n",
       "    }\n",
       "</style>\n",
       "<table border=\"1\" class=\"dataframe\">\n",
       "  <thead>\n",
       "    <tr style=\"text-align: right;\">\n",
       "      <th></th>\n",
       "      <th>title</th>\n",
       "      <th>content</th>\n",
       "      <th>depart</th>\n",
       "      <th>hf_embeddings</th>\n",
       "    </tr>\n",
       "  </thead>\n",
       "  <tbody>\n",
       "    <tr>\n",
       "      <th>0</th>\n",
       "      <td>주차장이 너무 어두워요</td>\n",
       "      <td>민원 제목:주차장이 너무 어두워요\\n 민원 내용:중구 전동 25328 번지옆  전동...</td>\n",
       "      <td>도시재생국 교통운수과</td>\n",
       "      <td>[-5.35281181e-01  2.37762824e-01 -2.85491236e-...</td>\n",
       "    </tr>\n",
       "    <tr>\n",
       "      <th>1</th>\n",
       "      <td>뭐에요? 거잠포선착장 쓰레기 그대로잖아요? 하나도 안 되어있네요?</td>\n",
       "      <td>민원 제목:뭐에요? 거잠포선착장 쓰레기 그대로잖아요? 하나도 안 되어있네요?\\n 민...</td>\n",
       "      <td>국제도시건설국 농수산과</td>\n",
       "      <td>[-6.08929753e-01  1.08436748e-01 -1.65535067e-...</td>\n",
       "    </tr>\n",
       "    <tr>\n",
       "      <th>2</th>\n",
       "      <td>9100번 광역버스 배차간격 준수 요청 건</td>\n",
       "      <td>민원 제목:9100번 광역버스 배차간격 준수 요청 건\\n 민원 내용:집안 사정으로 ...</td>\n",
       "      <td>도시재생국 교통운수과</td>\n",
       "      <td>[-4.80863005e-01  1.58284277e-01  1.40753791e-...</td>\n",
       "    </tr>\n",
       "    <tr>\n",
       "      <th>3</th>\n",
       "      <td>46번버스 신흥교통 정상이아닌 버스업체</td>\n",
       "      <td>민원 제목:46번버스 신흥교통 정상이아닌 버스업체\\n 민원 내용:46번버스 신흥교통...</td>\n",
       "      <td>도시재생국 교통운수과</td>\n",
       "      <td>[-3.78309190e-01  5.16959392e-02  1.14686184e-...</td>\n",
       "    </tr>\n",
       "    <tr>\n",
       "      <th>4</th>\n",
       "      <td>살려주세요 제발 요즘 가게 망하게 만드는 일들만 일어나네요..제발요(영종도 호텔)</td>\n",
       "      <td>민원 제목:살려주세요 제발 요즘 가게 망하게 만드는 일들만 일어나네요..제발요(영종...</td>\n",
       "      <td>국제도시건설국 도시공원과</td>\n",
       "      <td>[-4.00836587e-01  1.59474164e-01  5.24328053e-...</td>\n",
       "    </tr>\n",
       "  </tbody>\n",
       "</table>\n",
       "</div>"
      ],
      "text/plain": [
       "                                           title  \\\n",
       "0                                   주차장이 너무 어두워요   \n",
       "1           뭐에요? 거잠포선착장 쓰레기 그대로잖아요? 하나도 안 되어있네요?   \n",
       "2                        9100번 광역버스 배차간격 준수 요청 건   \n",
       "3                          46번버스 신흥교통 정상이아닌 버스업체   \n",
       "4  살려주세요 제발 요즘 가게 망하게 만드는 일들만 일어나네요..제발요(영종도 호텔)   \n",
       "\n",
       "                                             content         depart  \\\n",
       "0  민원 제목:주차장이 너무 어두워요\\n 민원 내용:중구 전동 25328 번지옆  전동...    도시재생국 교통운수과   \n",
       "1  민원 제목:뭐에요? 거잠포선착장 쓰레기 그대로잖아요? 하나도 안 되어있네요?\\n 민...   국제도시건설국 농수산과   \n",
       "2  민원 제목:9100번 광역버스 배차간격 준수 요청 건\\n 민원 내용:집안 사정으로 ...    도시재생국 교통운수과   \n",
       "3  민원 제목:46번버스 신흥교통 정상이아닌 버스업체\\n 민원 내용:46번버스 신흥교통...    도시재생국 교통운수과   \n",
       "4  민원 제목:살려주세요 제발 요즘 가게 망하게 만드는 일들만 일어나네요..제발요(영종...  국제도시건설국 도시공원과   \n",
       "\n",
       "                                       hf_embeddings  \n",
       "0  [-5.35281181e-01  2.37762824e-01 -2.85491236e-...  \n",
       "1  [-6.08929753e-01  1.08436748e-01 -1.65535067e-...  \n",
       "2  [-4.80863005e-01  1.58284277e-01  1.40753791e-...  \n",
       "3  [-3.78309190e-01  5.16959392e-02  1.14686184e-...  \n",
       "4  [-4.00836587e-01  1.59474164e-01  5.24328053e-...  "
      ]
     },
     "execution_count": 8,
     "metadata": {},
     "output_type": "execute_result"
    }
   ],
   "source": [
    "#임베딩벡터 df 불러오기\n",
    "minwon_embedding = pd.read_csv('minwon_metadata_hfem.csv', header=0,index_col=None)\n",
    "minwon_embedding.head()"
   ]
  },
  {
   "cell_type": "code",
   "execution_count": null,
   "id": "f068f716",
   "metadata": {},
   "outputs": [],
   "source": [
    "def compute_doc_embeddings(df: pd.DataFrame) -> dict[tuple[str, str], list[float]]:\n",
    "    return {\n",
    "        idx: get_embedding(r.combined) for idx, r in df.iterrows()\n",
    "        # index는 그대로 유지하고 combined에 있는 내용만 embedding vector로 바꾼 새로운 데이터 프레임 생성\n",
    "    }"
   ]
  },
  {
   "cell_type": "code",
   "execution_count": 11,
   "id": "0a875e38",
   "metadata": {
    "scrolled": false
   },
   "outputs": [],
   "source": [
    "import pandas as pd\n",
    "from sentence_transformers import SentenceTransformer\n",
    "from sklearn.metrics.pairwise import cosine_similarity\n",
    "\n",
    "# 데이터 불러오기\n",
    "data = pd.read_csv('minwon.csv', sep=\",\")\n",
    "\n",
    "# 모델 불러오기\n",
    "model = SentenceTransformer('paraphrase-distilroberta-base-v2')\n",
    "\n",
    "# content 컬럼 벡터화\n",
    "data['content_embedding'] = list(model.encode(data['content']))\n"
   ]
  },
  {
   "cell_type": "code",
   "execution_count": 10,
   "id": "7d271ecf",
   "metadata": {},
   "outputs": [],
   "source": [
    "data.to_csv('minwon_hfem.csv',encoding='utf-8-sig',index=False)"
   ]
  },
  {
   "cell_type": "code",
   "execution_count": null,
   "id": "53e86b6f",
   "metadata": {},
   "outputs": [],
   "source": []
  },
  {
   "cell_type": "code",
   "execution_count": 7,
   "id": "d643317a",
   "metadata": {},
   "outputs": [
    {
     "name": "stdout",
     "output_type": "stream",
     "text": [
      "새로운 민원: 쓰레기 무단 투기 검사\n"
     ]
    }
   ],
   "source": [
    "# 새로운 민원 입력받기\n",
    "new_complaint = input(\"새로운 민원: \")\n",
    "\n",
    "# 새로운 민원 벡터화\n",
    "new_complaint_vec = model.encode([new_complaint])\n",
    "\n",
    "# 코사인 유사도 계산\n",
    "similarity_scores = cosine_similarity(new_complaint_vec, list(data['content_embedding']))[0]\n",
    "\n",
    "# 유사도가 높은 민원 3개 불러오기\n",
    "top_indices = similarity_scores.argsort()[::-1][:5]\n",
    "top_complaints = data.iloc[top_indices]"
   ]
  },
  {
   "cell_type": "code",
   "execution_count": 8,
   "id": "81e8e15f",
   "metadata": {},
   "outputs": [
    {
     "name": "stdout",
     "output_type": "stream",
     "text": [
      "새로운 민원과 유사한 민원 Top 3:\n",
      "새로운 민원 :쓰레기 무단 투기 검사\n",
      "98. 민원 제목:신흥동 해광사 옆 계단에 가로등 설치 요구\n",
      " 민원 내용:해광사 옆 공사관계로 통행로인 해광사 옆 계단이 너무 어둡습니다 안전한 통행을 위해서 임시가로등이라도 설치해 주기를 바랍니다\n",
      " 민원 답변\n",
      ": 보안등 2개가 설치되어 매우 밝아졌습니다. 만족합니다. (유사도: 0.84)\n",
      "-------------------------------------------------------------\n",
      "새로운 민원 :쓰레기 무단 투기 검사\n",
      "708. 민원 제목:공항신도시 쓰레기 투기 관련 조치요청\n",
      " 민원 내용:영종도 공항신도시 거주민입니다공항신도시 내의 쓰레기 투기와 관련한 민원입니다쓰레기를 버리는 장소가 아닌 곳에 많은 쓰레기가 지속적으로 투기되고 있습니다이로 인해 통행에 불편을 주어 시민안전을 저해하고 있고 위생 및 미관상 좋지 않고 더럽고 관리되지 않는 곳이라는 이미지를 주고 있습니다인터넷 다음wwwdaumnet 지도 서비스 로드뷰를 통해서 같은 장소를 확인해 보니 역시 쓰레기가 투기되어 있어 상시적으로 투기되고 관리되지 않는 것으로 보입니다쓰레기가 투기되는 장소를 다음과 같이 알려드리오니 무단으로 쓰레기가 투기되지 않도록 조치하여 주시기 바랍니다1 영종도 공항신도시 소방서 맞은편 주차장 옆 인도2 영종도 공항신도시 외국인특화거리 한복판 세부장소  사진 참조 첨부파일  공항신도시 외국인 특화거리 한복판_20171008jpg공항신도시 소방서 맞은편 주차장 옆 인도_20171008jpg다음 로드뷰 사진jpg\n",
      " 민원 답변\n",
      ": 우리 洞에 관심을 갖고 참여해 주신데 대해 감사드리며, 그로 인해 불편을 드린 점 양해바랍니다.귀하께서 문의하신 불법 쓰레기 투기는 현장을 확인하여 처리하였습니다.추후 청소 현장순찰로 보다 깨끗한 거리가 될 수 있도록 청소환경에 적극 노력하겠습니다. 기타 문의사항이 있으시면 아래 연락처로 문의하여 주시기 바랍니다. 감사합니다* 기타 문의사항 : 운서동 (760-6257) (유사도: 0.83)\n",
      "-------------------------------------------------------------\n",
      "새로운 민원 :쓰레기 무단 투기 검사\n",
      "697. 민원 제목:공사 소음 관련 민원\n",
      " 민원 내용:운남서로 72번길 근처 현재 주택 공사 중입니다하지만 일요일 공휴일에 상관없이 아침 7시만 되면 공사 소음으로 인해 생활불편을 겪고있습니다집안 내부 스마트폰 앱으로 데시벨 측정결과 80데시벨 이상이 나옵니다또한 주변 도로에 공사자재 적치 등으로 인한 교통 미관상 좋지 않습니다행정처분 공사 소음 및 분진 방지를 위한 차단막 추가 설치 조치를 부탁드립니다\n",
      " 민원 답변\n",
      ": 구정발전을 위한 관심과 협조에 감사드리며, 새올전자민원창구 민원상담에 신청하신「공사 소음 관련 민원」에 대하여 다음과 같이 답변 드립니다.  ○ 귀하께서 민원을 제기하신 현장은 환경 관련 신고미만(연면적 1,000㎡미만) 건설현장으로 공사 소음과 관련하여 현장에서 공사 책임자(건축주)를 만나 인근 주민의 생활불편 내용을 설명하고 일요일, 공휴일은 가급적 소음발생 작업을 자제토록 안내하였음을 알려드립니다.    ○ 아울러, 동 사항과 관련하여 추가 문의사항이 있으시면 중구청 친환경조성과(☎760-7737)로 연락주시면 성심 성의껏 답변 드리도록 하겠습니다. 감사합니다.  끝. (유사도: 0.83)\n",
      "-------------------------------------------------------------\n",
      "새로운 민원 :쓰레기 무단 투기 검사\n",
      "1014. 민원 제목:쓰레기 수거가 제대로 되지 않습니다.\n",
      " 민원 내용:내동교회에서 신포동 내려가는 담벼락에 위치한 자유공원로 27번길 표지판이 걸려있는 전봇대 밑입니다 일요일 저녁 종량제봉투 쓰레기를 버렸고 월요일 새벽에 수거가 되야하는데 어제도 그렇고 오늘아침 나오는 길에 보니 그대로 있더군요동네에 길고양이들이 물어 뜯어 놓고 쓰레기가 나뒹굴고 있습니다 몇차례 같은건으로 게시판에도 건의드렸었고 전화상으로도 건의 드린적이 있습니다 저희 집 앞에만 왜 수거가 제대로 되질 않고 지나치시는지 묻고 싶습니다 한두번도 아니고 쓰레기를 버릴때마다 전화드려서 수거요청을 해야 처리가 되는것인지요새벽에 쓰레기 수거가 제대로 되지 않으면 그곳이 쓰레기 버리는 곳인줄 알고 자유공원 오르고 내리는 사람들이 또 쓰레기를 버려서 쓰레기 더미가 생깁니다 제발 수거 미루지 말아주시기 바랍니다 또한 지금 있는 쓰레기는 바로 처리 부탁드립니다\n",
      " 민원 답변\n",
      ": 1. 구정 발전에 관심을 가져주시는 귀하께 감사를 드립니다.      2.. 인천 중구 자유공원로 27번길 내동교회 담장 아래  쓰레기 수거 문제는 쓰레기 수거업체에 연락하여 즉시즉시 수거토록 하였으며 우리구 청소과에서도 수시로 순찰을 통하여 쓰레기가 이 삼일씩 방치되는 일이 없도록 하겠습니다.      3. 쓰레기 지연처리로 인하여 불편을 드린 점 다시 한번 사과 드립니다.  감사합니다. 붙임 : 2014년4월24일-a0-민원상담목록번호8307 (유사도: 0.83)\n",
      "-------------------------------------------------------------\n",
      "새로운 민원 :쓰레기 무단 투기 검사\n",
      "425. 민원 제목:공사장 관리감독 강화를 간곡히 부탁드립니다\n",
      " 민원 내용:수 신  인천광역시 중구청참 조  홍인성 중구청장님 귀하발 신  신동방무역 홍광호대표1 불철주야 구민의 행복과 안전을 위해 노력하시는 홍인성 중구청장님과 직원분들의 노고에 깊이 감사 드립니다2 상기 본인은 인천광역시 중구 서해대로 449번길 49신흥동 1가 843에 소재하여 현재 해외 수출입 업무을 하고 있습니다현재 당사 주소지 주위로 혜경스테이 건설공사의 불법주정차 쓰레기 무단투기 건설현장의 소음 및 진동 분진으로 인해 정신적 물질적 피해가 발생하고 있습니다첨부사진은 당사 사무실 주위로 공사관계자인부 공사직원 공사차량의 불법주정차로 인해 수개월째 우회하여 돌아오고 있고 거래업체에서 당사 방문시에도 도로를 막고있어 거래처로부터 불편하다고 항의도 받고 공사관계자의 불법주차로 인해주차할곳을 찾질못해 손님이 오셔도 제대로 된 미팅시간을 갖지못하여 신뢰를 잃어가고 있습니다또한 2008년부터 현재 소재지에서 사업을 이어가고 있었으며 그간 보안상태가 좋았으나 공사장가림막 설치를 한 앞부분 당사 창문을 뜯고 도둑이 들어 금전적인 피해도 발행하여 인천 중부경찰서에 신고를 하였으나 법인검거는 현재까지는 못하고 있습니다도둑이 들어 피해본 금액은 당사가 안고가야 할 부분이나 수개월째 혜경스테이 공사로 인한 공사장 소음 분진 진동 불법주정차 쓰레기무단투기 등으로 인한 그 피해는 현재까지도 계속되고 있고 엄청난 정신적 스트레스를 받고 있습니다이에 조속한 민원이 해결될수 있도록 인천광역시 중구청에서는 관리감독을 강화 해주실것을 간곡히 부탁드립니다3 감사합니다 첨부파일  쓰레기 무단투기  사진jpg공사관계자 불법주차 사진jpg\n",
      " 민원 답변\n",
      ": 새올상담민원에 대하여 아래와 같이 답변하고자 합니다.1. 안녕하십니까? 우리 구정에 관심을 가지시고 의견을 주셔서 감사 드립니다.2. 불법주정차 금지구역은 도로교통법 제32조 ~ 제34조의 2에 따라 주정차 금지구역으로 지정된 곳에 한하여 단속을 실시하고 있으며 주정차금지구역은 황색실선으로 노면표시를 하도록 도로교통법에서 규정하고 있습니다. 해당 공사구간 주변도로는 흰색실선으로 주정차 단속구역이 아닙니다. 도로교통법 상 위임받은 불법주정차 단속의 경우 제한된 불법주정차 금지구역 외에는 단속을 실시할 수 없습니다만, 통행에 방해를 초래하는 주정차의 경우 지속적인 지도 및 계도를 실시할 수 있도록 하겠습니다.3. 기타 궁금하신 점이 있으시면 중구청 교통운수과(☏ 760-7684)로 연락주시면 성심성의껏 답변드리겠습니다. 감사합니다.붙임  새올상담민원 1부.  끝. (유사도: 0.83)\n",
      "-------------------------------------------------------------\n"
     ]
    }
   ],
   "source": [
    "# 결과 출력하기\n",
    "print(\"새로운 민원과 유사한 민원 Top 3:\")\n",
    "for i, row in top_complaints.iterrows():\n",
    "    print(\"새로운 민원 :{}\".format(new_complaint))\n",
    "    print(f\"{i+1}. {row['content']} (유사도: {similarity_scores[i]:.2f})\")\n",
    "    print(\"-------------------------------------------------------------\")\n"
   ]
  },
  {
   "cell_type": "code",
   "execution_count": null,
   "id": "b534aec6",
   "metadata": {},
   "outputs": [],
   "source": [
    "#BERT기반->bert-base-uncased\n",
    "from transformers import AutoTokenizer, AutoModel\n",
    "import torch.nn.functional as F\n",
    "\n",
    "# BERT 모델과 토크나이저 로드\n",
    "tokenizer = AutoTokenizer.from_pretrained(\"bert-base-uncased\")\n",
    "model = AutoModel.from_pretrained(\"bert-base-uncased\")\n",
    "\n",
    "# 문장 입력받기\n",
    "sentence1 = \"The quick brown fox jumps over the lazy dog\"\n",
    "sentence2 = \"A quick brown fox jumps over a lazy dog\"\n",
    "\n",
    "# 토큰화 및 인코딩\n",
    "inputs1 = tokenizer.encode_plus(sentence1, add_special_tokens=True, return_tensors='pt')\n",
    "inputs2 = tokenizer.encode_plus(sentence2, add_special_tokens=True, return_tensors='pt')\n",
    "\n",
    "# 문장 임베딩 벡터 생성\n",
    "with torch.no_grad():\n",
    "    embeddings1 = model(inputs1['input_ids'], token_type_ids=None)[0].mean(dim=1)\n",
    "    embeddings2 = model(inputs2['input_ids'], token_type_ids=None)[0].mean(dim=1)\n",
    "\n",
    "# 코사인 유사도 계산\n",
    "similarity = F.cosine_similarity(embeddings1, embeddings2)\n",
    "print(similarity.item())\n"
   ]
  },
  {
   "cell_type": "code",
   "execution_count": 1,
   "id": "99223ea0",
   "metadata": {},
   "outputs": [
    {
     "ename": "NameError",
     "evalue": "name 'data' is not defined",
     "output_type": "error",
     "traceback": [
      "\u001b[1;31m---------------------------------------------------------------------------\u001b[0m",
      "\u001b[1;31mNameError\u001b[0m                                 Traceback (most recent call last)",
      "\u001b[1;32m~\\AppData\\Local\\Temp\\ipykernel_844\\391604064.py\u001b[0m in \u001b[0;36m<module>\u001b[1;34m\u001b[0m\n\u001b[1;32m----> 1\u001b[1;33m \u001b[0mdata\u001b[0m\u001b[1;33m\u001b[0m\u001b[1;33m\u001b[0m\u001b[0m\n\u001b[0m",
      "\u001b[1;31mNameError\u001b[0m: name 'data' is not defined"
     ]
    }
   ],
   "source": [
    "data"
   ]
  },
  {
   "cell_type": "code",
   "execution_count": 69,
   "id": "2f0d24db",
   "metadata": {},
   "outputs": [],
   "source": [
    "# 새로운 민원과 유사한 민원 찾기\n",
    "def find_similar_complaints(new_complaint, data, model, num_similar_complaints=3):\n",
    "    # 새로운 민원과 데이터 프레임의 민원들을 벡터화\n",
    "    new_complaint_vec = vectorize_text(new_complaint, model)\n",
    "    data_vec = vectorize_df(data, model)\n",
    "    #data_vec=minwon_embedding['hf_embeddings'].tolist()\n",
    "    \n",
    "\n",
    "    # 유사도 계산하기\n",
    "    similarity_scores = cosine_similarity([new_complaint_vec], data_vec)[0]\n",
    "\n",
    "    # 유사도가 높은 민원 추출하기\n",
    "    top_indices = similarity_scores.argsort()[::-1][:num_similar_complaints]\n",
    "    top_complaints = minwon_embedding.iloc[top_indices]\n",
    "\n",
    "    # 결과 출력하기\n",
    "    print(\"새로운 민원과 유사한 민원 Top 3:\")\n",
    "    for i, row in top_complaints.iterrows():\n",
    "        print(f\"{i+1}. {row['content']} (유사도: {similarity_scores[i]:.2f})\")\n",
    "    \n",
    "    return top_complaints\n"
   ]
  },
  {
   "cell_type": "code",
   "execution_count": 71,
   "id": "b5264eb3",
   "metadata": {},
   "outputs": [
    {
     "ename": "NameError",
     "evalue": "name 'vectorize_text' is not defined",
     "output_type": "error",
     "traceback": [
      "\u001b[1;31m---------------------------------------------------------------------------\u001b[0m",
      "\u001b[1;31mNameError\u001b[0m                                 Traceback (most recent call last)",
      "\u001b[1;32m~\\AppData\\Local\\Temp\\ipykernel_21024\\3691192106.py\u001b[0m in \u001b[0;36m<module>\u001b[1;34m\u001b[0m\n\u001b[0;32m      1\u001b[0m \u001b[1;31m# 새로운 민원과 유사한 민원 찾기\u001b[0m\u001b[1;33m\u001b[0m\u001b[1;33m\u001b[0m\u001b[0m\n\u001b[0;32m      2\u001b[0m \u001b[0mnew_complaint\u001b[0m \u001b[1;33m=\u001b[0m \u001b[1;34m\"도로에 구멍이 많아서 차량 운행이 어려워요\"\u001b[0m\u001b[1;33m\u001b[0m\u001b[1;33m\u001b[0m\u001b[0m\n\u001b[1;32m----> 3\u001b[1;33m \u001b[0msimilar_complaints\u001b[0m \u001b[1;33m=\u001b[0m \u001b[0mfind_similar_complaints\u001b[0m\u001b[1;33m(\u001b[0m\u001b[0mnew_complaint\u001b[0m\u001b[1;33m,\u001b[0m \u001b[0mminwon_embedding\u001b[0m\u001b[1;33m,\u001b[0m \u001b[0mmodel\u001b[0m\u001b[1;33m)\u001b[0m\u001b[1;33m\u001b[0m\u001b[1;33m\u001b[0m\u001b[0m\n\u001b[0m",
      "\u001b[1;32m~\\AppData\\Local\\Temp\\ipykernel_21024\\1200406295.py\u001b[0m in \u001b[0;36mfind_similar_complaints\u001b[1;34m(new_complaint, data, model, num_similar_complaints)\u001b[0m\n\u001b[0;32m      2\u001b[0m \u001b[1;32mdef\u001b[0m \u001b[0mfind_similar_complaints\u001b[0m\u001b[1;33m(\u001b[0m\u001b[0mnew_complaint\u001b[0m\u001b[1;33m,\u001b[0m \u001b[0mdata\u001b[0m\u001b[1;33m,\u001b[0m \u001b[0mmodel\u001b[0m\u001b[1;33m,\u001b[0m \u001b[0mnum_similar_complaints\u001b[0m\u001b[1;33m=\u001b[0m\u001b[1;36m3\u001b[0m\u001b[1;33m)\u001b[0m\u001b[1;33m:\u001b[0m\u001b[1;33m\u001b[0m\u001b[1;33m\u001b[0m\u001b[0m\n\u001b[0;32m      3\u001b[0m     \u001b[1;31m# 새로운 민원과 데이터 프레임의 민원들을 벡터화\u001b[0m\u001b[1;33m\u001b[0m\u001b[1;33m\u001b[0m\u001b[0m\n\u001b[1;32m----> 4\u001b[1;33m     \u001b[0mnew_complaint_vec\u001b[0m \u001b[1;33m=\u001b[0m \u001b[0mvectorize_text\u001b[0m\u001b[1;33m(\u001b[0m\u001b[0mnew_complaint\u001b[0m\u001b[1;33m,\u001b[0m \u001b[0mmodel\u001b[0m\u001b[1;33m)\u001b[0m\u001b[1;33m\u001b[0m\u001b[1;33m\u001b[0m\u001b[0m\n\u001b[0m\u001b[0;32m      5\u001b[0m     \u001b[0mdata_vec\u001b[0m \u001b[1;33m=\u001b[0m \u001b[0mvectorize_df\u001b[0m\u001b[1;33m(\u001b[0m\u001b[0mdata\u001b[0m\u001b[1;33m,\u001b[0m \u001b[0mmodel\u001b[0m\u001b[1;33m)\u001b[0m\u001b[1;33m\u001b[0m\u001b[1;33m\u001b[0m\u001b[0m\n\u001b[0;32m      6\u001b[0m     \u001b[1;31m#data_vec=minwon_embedding['hf_embeddings'].tolist()\u001b[0m\u001b[1;33m\u001b[0m\u001b[1;33m\u001b[0m\u001b[0m\n",
      "\u001b[1;31mNameError\u001b[0m: name 'vectorize_text' is not defined"
     ]
    }
   ],
   "source": [
    "# 새로운 민원과 유사한 민원 찾기\n",
    "new_complaint = \"도로에 구멍이 많아서 차량 운행이 어려워요\"\n",
    "similar_complaints = find_similar_complaints(new_complaint, minwon_embedding, model)"
   ]
  },
  {
   "cell_type": "code",
   "execution_count": 61,
   "id": "c431b832",
   "metadata": {},
   "outputs": [],
   "source": [
    "data_vec=minwon_embedding['hf_embeddings'].tolist()"
   ]
  },
  {
   "cell_type": "code",
   "execution_count": 62,
   "id": "e513ae13",
   "metadata": {},
   "outputs": [
    {
     "name": "stdout",
     "output_type": "stream",
     "text": [
      "새로운 민원을 입력하세요: 실미도 짜증\n"
     ]
    }
   ],
   "source": [
    "#새로운 민원 입력\n",
    "new_complaint = input(\"새로운 민원을 입력하세요: \")\n",
    "# 새로운 민원 정제하기\n",
    "new_complaint = new_complaint.strip()\n",
    "new_complaint_vec = model.encode([new_complaint])"
   ]
  },
  {
   "cell_type": "code",
   "execution_count": 63,
   "id": "3d8239bc",
   "metadata": {},
   "outputs": [
    {
     "ename": "ValueError",
     "evalue": "could not convert string to float: '[-5.35281181e-01  2.37762824e-01 -2.85491236e-02  2.46142522e-01\\n  2.37398908e-01  3.60307127e-01  3.82632613e-01 -8.88311677e-03\\n -1.15752764e-01  1.42021462e-01  3.80301833e-01 -1.53642029e-01\\n -1.23459928e-01  2.07639411e-01 -3.63507748e-01 -3.42081755e-01\\n  4.74310040e-01  7.41067231e-02 -3.63065362e-01  4.54661936e-01\\n  8.28482583e-02 -1.14243247e-01 -8.45964968e-01 -3.16479832e-01\\n -5.74448287e-01 -1.91054698e-02 -7.73969531e-01 -5.79280496e-01\\n -5.14554121e-02 -2.47274458e-01 -4.69121903e-01  5.40114120e-02\\n -1.02262706e-01 -1.91872701e-01 -9.15929899e-02 -5.27599990e-01\\n -2.17337832e-01 -3.25925350e-02  5.09218335e-01  8.43315274e-02\\n  1.05539672e-01 -1.58860505e-01  1.44038737e-01  9.47724730e-02\\n -2.55467564e-01  1.05679221e-01 -4.47466433e-01  1.09237373e-01\\n -4.57591772e-01 -5.54057896e-01 -7.63673559e-02 -3.64116281e-01\\n  3.24843377e-02  7.68033639e-02  1.14039890e-01 -3.54275554e-02\\n  1.69224858e-01 -3.71398300e-01 -1.95343882e-01 -2.00728446e-01\\n -6.73607439e-02 -4.09063995e-02 -2.54337341e-01  1.87093288e-01\\n -5.76786995e-01 -1.09228805e-01 -5.14642358e-01  4.79874641e-01\\n  2.62824774e-01  1.33979440e-01  2.45436072e-01 -7.94074237e-01\\n -3.47929895e-01 -1.23226655e+00 -4.06332463e-01  4.21008915e-01\\n -4.75382507e-01  6.46653771e-01 -1.16794713e-01 -4.96865481e-01\\n -3.45074534e-01  7.34431505e-01 -7.04157293e-01 -1.81703031e-01\\n -4.65658784e-01  3.16337436e-01  3.29628199e-01  5.16594248e-03\\n -1.52779236e-01 -5.20793438e-01  3.01384807e-01 -5.25634766e-01\\n  2.75034197e-02  5.28974473e-01  2.29274705e-01 -3.12884361e-01\\n -1.22633331e-01  2.39002779e-01 -4.08689007e-02 -3.05497665e-02\\n  1.98816493e-01  6.82016611e-02  4.85270351e-01 -8.35129380e-01\\n  8.92232880e-02 -3.35297972e-01  5.18972516e-01 -4.91065651e-01\\n -1.28190374e+00  5.12389839e-01 -2.60009319e-01  4.52443868e-01\\n -2.90183723e-02  2.64805168e-01 -2.07166672e-01  1.77961424e-01\\n  1.40930861e-01  8.32510442e-02 -2.54619211e-01  9.58497882e-01\\n  2.50833899e-01  5.39137162e-02  3.44069153e-01  3.91130261e-02\\n  3.35956186e-01  5.49372375e-01  1.33619636e-01 -1.81601495e-01\\n  1.98121965e-02  1.66743338e-01 -3.83754283e-01 -1.04478872e+00\\n -1.75848920e-02 -7.50516713e-01 -2.80174583e-01  1.04766235e-01\\n -3.22237790e-01  1.81625158e-01 -1.03181913e-01 -4.13741022e-01\\n  6.33513331e-01  4.12988156e-01  3.77031237e-01 -6.87923878e-02\\n -7.80258000e-01  3.28187406e-01 -2.73134172e-01 -3.01647097e-01\\n -4.07091260e-01  6.93585873e-02 -1.78364098e-01  3.88357133e-01\\n -1.68632008e-02  3.03132832e-01 -9.89406481e-02  5.66731453e-01\\n  1.01766236e-01 -6.06022514e-02 -5.04362464e-01  1.19954491e+00\\n -5.15786529e-01 -5.64693689e-01 -1.08669244e-01 -7.36823156e-02\\n  6.14260174e-02  3.36193055e-01 -7.13441133e-01  5.71270227e-01\\n  3.34027797e-01  4.84528095e-01 -3.60739082e-02 -1.45649001e-01\\n  1.14457525e-01 -1.16958551e-01  3.35130334e-01 -2.38425851e-01\\n  8.60785842e-02  4.92313594e-01  1.07387796e-01 -6.97631165e-02\\n -3.71501982e-01 -5.64725101e-01 -5.85182160e-02 -2.42386788e-01\\n -1.67098761e-01  9.37358916e-01  1.25063226e-01 -3.91381890e-01\\n -3.33858043e-01  1.18433394e-01  1.59519792e-01 -6.41127229e-02\\n  2.68256813e-02  1.47566482e-01  1.92402408e-01 -1.90671340e-01\\n  4.47028726e-01 -2.03328222e-01 -3.36723655e-01  2.89753109e-01\\n  9.65199023e-02  3.31847489e-01 -2.50298113e-01 -4.71904278e-01\\n  2.77070880e-01 -1.35401532e-01 -1.17338490e+00  7.47752964e-01\\n  1.83032513e-01  1.94042489e-01 -2.50929475e-01  1.96858287e-01\\n -3.29079807e-01 -5.52466154e-01  3.13744336e-01  5.37123561e-01\\n  3.74669254e-01  7.36429632e-01  3.69589418e-01 -2.38209404e-02\\n -4.74591196e-01  5.45069575e-01 -5.22875413e-02 -7.83532083e-01\\n  8.55789259e-02  3.98365498e-01  1.30403981e-01 -5.62478304e-01\\n  2.04054177e-01  5.09674475e-02 -1.42296180e-01 -7.25388050e-01\\n -4.00322944e-01  2.03002438e-01 -2.55897790e-01 -8.62842705e-03\\n  2.43710384e-01  1.48208216e-01  3.68010342e-01 -2.55862653e-01\\n  1.54223919e-01  1.13782600e-01  1.27469391e-01  2.01211050e-01\\n  2.86576509e-01  3.31198692e-01  2.79034413e-02  2.88506359e-01\\n -7.50578716e-02  4.87323225e-01  2.04557016e-01 -9.40495133e-02\\n -1.21259101e-01  1.62332803e-01 -8.42583179e-01 -6.44777343e-02\\n  1.91289291e-01  8.89138505e-02  8.45492855e-02 -3.17568958e-01\\n -2.47314513e-01  5.19413464e-02  3.55168819e-01  5.29620767e-01\\n  8.40413198e-02  4.13943708e-01 -4.39246207e-01 -1.39243186e-01\\n -6.31429791e-01  3.16387534e-01 -2.39795446e-01  1.88558981e-01\\n -2.03334734e-01 -3.68274838e-01 -2.21691892e-01 -1.59268066e-01\\n -5.14167130e-01 -1.45675495e-01  3.32590640e-01 -4.67624307e-01\\n  5.04915714e-01  5.24133742e-01  5.90026438e-01 -7.49139190e-01\\n  4.38992143e-01  5.42978883e-01 -2.30010003e-01  1.58662647e-02\\n -3.36040199e-01  3.04457456e-01  5.39103508e-01 -1.59485757e-01\\n  1.61018036e-02  7.59508729e-01 -6.80169046e-01  1.35205155e-02\\n  2.01821402e-01 -6.54761374e-01 -2.00654566e-01 -1.50937945e-01\\n -7.37823725e-01  2.44507745e-01 -8.22860181e-01 -3.98326933e-01\\n -3.12204286e-03  6.54581785e-01 -4.94631112e-01  5.39517030e-02\\n -2.93914616e-01  2.99953043e-01 -2.22790182e-01  5.12570024e-01\\n  3.44258517e-01  1.37247145e-01  1.89325541e-01 -1.45250440e-01\\n  9.63949978e-01 -7.48255491e-01  5.54573722e-02 -7.99231157e-02\\n -2.24258021e-01 -4.02304471e-01  4.32061367e-02 -2.62046069e-01\\n -4.46835071e-01  2.87154555e-01 -3.03960349e-02  1.66122183e-01\\n  1.90611750e-01  1.17639095e-01  1.75967872e+00 -9.85363573e-02\\n  4.95877057e-01 -3.97415310e-01 -3.48182827e-01 -3.63158703e-01\\n -2.28484020e-01  1.34441316e-01  3.15997958e-01  1.04571082e-01\\n  2.15615481e-01 -5.94216704e-01  2.46066138e-01 -3.70011851e-02\\n -3.74571711e-01  3.89522724e-02 -2.63553441e-01  6.53232485e-02\\n -1.18684787e-02 -1.94588512e-01  3.14726457e-02  8.31587315e-02\\n  3.50577347e-02 -6.19218290e-01 -3.04600328e-01  8.55655789e-01\\n  2.83113837e-01  5.98924577e-01 -3.42819065e-01 -1.19325638e+00\\n -9.59238529e-01  8.59532893e-01 -1.50308728e-01 -3.94029945e-01\\n -1.70802638e-01 -2.15442076e-01  2.03905627e-01 -3.25201154e-01\\n  6.00851001e-03  1.22959226e-01  1.48017988e-01  2.21749678e-01\\n -1.87839389e-01 -4.31526393e-01 -2.53338575e-01 -4.11538124e-01\\n  1.94064721e-01  2.17260607e-02 -1.44619375e-01 -1.17683375e+00\\n  4.02062356e-01 -2.82494426e-01 -3.62765610e-01  7.74497911e-02\\n -1.20058484e-01 -5.62078416e-01  9.45710540e-02  3.24149251e-01\\n -8.32724571e-02  5.32785773e-01  3.95964652e-01  5.37969843e-02\\n -2.12455556e-01 -4.35725786e-02  4.36956882e-02  3.74046504e-01\\n -1.43606976e-01  7.97296286e-01  3.70718181e-01 -1.86621428e-01\\n -2.17818711e-02 -3.00381154e-01 -3.23848993e-01 -7.60220826e-01\\n -4.26791519e-01  4.37487930e-01 -3.02086294e-01 -3.62110853e-01\\n -2.41158396e-01 -1.26804724e-01 -3.80528092e-01  2.04128057e-01\\n -1.05328448e-02 -1.39565498e-01  2.37873733e-01 -3.88896912e-02\\n  1.57166570e-01  5.91762662e-02 -2.05342621e-01  5.93793511e-01\\n -1.11537009e-01  2.84798801e-01  5.09233952e-01 -3.33509415e-01\\n  1.74767926e-01 -2.95085996e-01  2.12619781e-01 -4.44364935e-01\\n -3.72644156e-01  4.24486473e-02  2.86243796e-01  9.32465196e-02\\n -7.09184706e-02 -1.08305894e-01 -1.89573795e-01  3.29794765e-01\\n -2.28495747e-01  2.35699564e-01  9.00980383e-02 -1.01764258e-02\\n  2.81814784e-01  2.71181583e-01  1.72037184e-01 -1.32647127e-01\\n -2.09935680e-01  6.35453403e-01 -4.06657487e-01  2.05864504e-01\\n  3.77487615e-02 -7.25402176e-01 -2.66372174e-01  1.42629333e-02\\n -1.34146243e-01 -6.39981627e-01  7.26164654e-02  1.51563615e-01\\n  2.36629531e-01  5.91968536e-01 -2.09033862e-01  2.01191872e-01\\n  2.01966435e-01  2.66998947e-01  5.54004014e-01  1.55738488e-01\\n  1.23032875e-01 -4.04468119e-01  4.97596025e-01 -4.83375974e-02\\n -4.82301593e-01  3.26119125e-01  4.38759893e-01  4.24348563e-01\\n  3.80748868e-01  1.91527084e-01 -9.18209180e-02  7.43473649e-01\\n  2.71345526e-01 -8.70881788e-03  4.17224169e-01  2.15252414e-01\\n -3.96437436e-01  1.09825991e-01 -3.25073749e-01 -4.09472257e-01\\n -2.75614351e-01  1.68932140e-01 -1.01427436e-01 -6.21723294e-01\\n -3.83966863e-01 -1.18808018e-03  4.18893009e-01 -2.99483806e-01\\n -2.69198656e-01 -5.30316681e-02  9.74035114e-02 -6.84395712e-03\\n -1.27743781e-01  4.97001931e-02  1.85637027e-01  1.71299309e-01\\n -1.59487396e-01  5.43055050e-02  3.95244718e-01  5.81633568e-01\\n  1.66376233e-01 -1.49588838e-01 -4.03777659e-01 -1.24690399e-01\\n  4.68737721e-01 -3.84271257e-02 -2.17500523e-01 -5.55001378e-01\\n -1.86835945e-01 -2.10789189e-01 -9.67973545e-02 -2.94375271e-01\\n -2.49093562e-01 -1.15107790e-01 -3.10324073e-01  5.39097071e-01\\n -5.57398856e-01  2.51838326e-01  7.99499638e-03  1.14473561e-03\\n  3.49443823e-01 -6.13220990e-01  2.57631004e-01  2.54870892e-01\\n -1.90967381e-01 -4.90564853e-01  2.69014895e-01  4.45356756e-01\\n -4.30763245e-01  6.28756821e-01  4.42100644e-01  4.50399220e-01\\n -6.56245410e-01  2.05141738e-01  4.63796675e-01  5.16101718e-01\\n  1.46114931e-01  1.85422048e-01  7.01861084e-02  3.77260834e-01\\n -5.90117693e-01  2.28883430e-01 -2.14784980e-01 -2.32073486e-01\\n -1.64428383e-01 -3.30756903e-01  4.98550683e-01  1.06364286e+00\\n -4.99502897e-01  4.31987852e-01 -2.45573949e-02 -2.82094568e-01\\n  1.90285087e-01  2.21586987e-01  5.37058804e-04 -3.26719761e-01\\n -4.37367022e-01 -1.71545893e-02 -6.97823539e-02  3.19209397e-01\\n  4.57851946e-01 -5.91793001e-01  1.81536283e-02 -2.05688596e-01\\n  3.27207565e-01 -2.45714232e-01  5.00415325e-01 -3.28664482e-01\\n  4.41315234e-01  4.99738127e-01 -5.56550801e-01  9.93449464e-02\\n -1.72458906e-02  3.32139879e-01 -2.01585352e-01  1.72767565e-01\\n  2.28548199e-01  2.43275136e-01 -6.90536350e-02  3.86115946e-02\\n  1.64697282e-02  3.34655881e-01  1.49871334e-01 -3.40892106e-01\\n  1.99466541e-01  1.24385759e-01  5.57527006e-01  1.71866491e-01\\n -4.50000823e-01  3.79695773e-01  2.84505904e-01  5.35729574e-03\\n -8.38871114e-03 -1.84941888e-02  4.53592092e-01 -2.05202222e-01\\n  5.18448830e-01 -9.68455970e-02  7.03221709e-02 -2.60319948e-01\\n -5.13845146e-01  7.51230791e-02  1.65726572e-01 -2.50181824e-01\\n -2.08423510e-01 -4.15840507e-01 -3.54818135e-01 -8.36503804e-02\\n -2.61330366e-01 -2.75001615e-01 -2.20325068e-01  5.50455630e-01\\n  1.82131957e-02  9.10049528e-02 -3.37961882e-01 -6.76496506e-01\\n -9.13596712e-03  1.97716057e-02 -1.94001034e-01  1.43278137e-01\\n  2.44521648e-01  8.18208158e-01 -1.41141866e-03 -2.33274698e-01\\n -6.34640530e-02 -2.83599138e-01 -2.55970240e-01  1.43637997e-03\\n -4.49883550e-01 -2.19058752e-01  5.18811978e-02  4.54367012e-01\\n  1.04956664e-01 -3.05586874e-01 -1.15083471e-01  5.57545781e-01\\n -1.37350693e-01  4.68699872e-01 -2.53781468e-01  1.04518449e+00\\n  2.94180721e-01  3.43196690e-01 -3.13474119e-01  2.92914778e-01\\n  1.07570894e-01 -2.03826278e-01  9.10966471e-03  6.22534335e-01\\n  1.46702126e-01 -6.10716967e-03  4.89890337e-01 -7.94108883e-02\\n  3.97931635e-01  1.54654250e-01 -3.58218625e-02  5.76727688e-01\\n  6.13683201e-02 -2.14162782e-01  2.93310523e-01 -1.03073679e-01\\n -2.29464024e-01 -5.70051789e-01 -2.35175267e-01  2.19795872e-02\\n -2.93406487e-01 -5.29627800e-02 -4.11618918e-01  4.91438925e-01\\n -2.84467191e-01  4.07549948e-01  1.89726185e-02 -4.17915940e-01\\n  4.48838234e-01  8.06632280e-01 -2.77991116e-01  6.60039857e-02\\n -8.60331804e-02  8.78213421e-02 -2.29681015e-01 -1.44011676e-01\\n  4.42992538e-01  2.75100917e-01  5.17431498e-01  6.09614670e-01\\n -3.03728372e-01 -1.12036578e-01  4.82101291e-01 -9.65716913e-02\\n -2.59798884e-01 -3.59939188e-01  4.16878104e-01 -4.65183169e-01\\n  1.45897046e-01 -2.48142615e-01 -3.23102660e-02 -2.83356071e-01\\n  3.19746017e-01 -7.68675089e-01  3.22254658e-01  6.14038169e-01\\n  5.47292829e-02 -1.42925620e-01 -1.85296059e-01 -6.03886060e-02\\n  6.57170191e-02 -5.93974888e-01  4.92214523e-02  4.98478204e-01\\n  2.73236066e-01 -8.97961557e-02  6.06307626e-01  1.03456862e-01\\n  6.83930159e-01 -4.15538639e-01 -3.36955309e-01  2.46907189e-01\\n  3.41498613e-01 -3.80573958e-01  6.96118712e-01  6.09439872e-02\\n -5.10476530e-01 -2.67131209e-01  5.30528463e-02 -4.21770215e-01\\n  1.42987669e-01  4.81031090e-01  5.06460130e-01 -1.37601286e-01\\n -6.32529616e-01 -3.89552474e-01  5.44507861e-01  6.31082892e-01\\n  7.74456039e-02 -1.51441619e-01  1.08270498e-03 -1.84199616e-01\\n  5.78647196e-01 -3.57549250e-01 -3.07938069e-01 -1.42718673e-01\\n  5.75399935e-01  1.83519349e-01 -1.63050398e-01  4.01229918e-01\\n -9.30462703e-02  1.75245795e-02  1.45555809e-01  4.87409621e-01\\n  6.15550041e-01 -6.31291866e-02 -9.84244525e-01 -8.66833404e-02\\n  3.80977929e-01  1.32239953e-01  1.77804127e-01 -7.47316703e-02\\n -3.08161259e-01 -1.26466617e-01 -1.35267988e-01 -4.17313337e-01\\n -3.18962485e-02 -2.42941231e-01 -6.33543059e-02  3.78221929e-01]'",
     "output_type": "error",
     "traceback": [
      "\u001b[1;31m---------------------------------------------------------------------------\u001b[0m",
      "\u001b[1;31mValueError\u001b[0m                                Traceback (most recent call last)",
      "\u001b[1;32m~\\AppData\\Local\\Temp\\ipykernel_21024\\3141810963.py\u001b[0m in \u001b[0;36m<module>\u001b[1;34m\u001b[0m\n\u001b[1;32m----> 1\u001b[1;33m \u001b[0msimilarity_scores\u001b[0m \u001b[1;33m=\u001b[0m \u001b[0mcosine_similarity\u001b[0m\u001b[1;33m(\u001b[0m\u001b[0mnew_complaint_vec\u001b[0m\u001b[1;33m,\u001b[0m \u001b[0mdata_vec\u001b[0m\u001b[1;33m)\u001b[0m\u001b[1;33m[\u001b[0m\u001b[1;36m0\u001b[0m\u001b[1;33m]\u001b[0m\u001b[1;33m\u001b[0m\u001b[1;33m\u001b[0m\u001b[0m\n\u001b[0m",
      "\u001b[1;32m~\\anaconda3\\lib\\site-packages\\sklearn\\metrics\\pairwise.py\u001b[0m in \u001b[0;36mcosine_similarity\u001b[1;34m(X, Y, dense_output)\u001b[0m\n\u001b[0;32m   1249\u001b[0m     \u001b[1;31m# to avoid recursive import\u001b[0m\u001b[1;33m\u001b[0m\u001b[1;33m\u001b[0m\u001b[0m\n\u001b[0;32m   1250\u001b[0m \u001b[1;33m\u001b[0m\u001b[0m\n\u001b[1;32m-> 1251\u001b[1;33m     \u001b[0mX\u001b[0m\u001b[1;33m,\u001b[0m \u001b[0mY\u001b[0m \u001b[1;33m=\u001b[0m \u001b[0mcheck_pairwise_arrays\u001b[0m\u001b[1;33m(\u001b[0m\u001b[0mX\u001b[0m\u001b[1;33m,\u001b[0m \u001b[0mY\u001b[0m\u001b[1;33m)\u001b[0m\u001b[1;33m\u001b[0m\u001b[1;33m\u001b[0m\u001b[0m\n\u001b[0m\u001b[0;32m   1252\u001b[0m \u001b[1;33m\u001b[0m\u001b[0m\n\u001b[0;32m   1253\u001b[0m     \u001b[0mX_normalized\u001b[0m \u001b[1;33m=\u001b[0m \u001b[0mnormalize\u001b[0m\u001b[1;33m(\u001b[0m\u001b[0mX\u001b[0m\u001b[1;33m,\u001b[0m \u001b[0mcopy\u001b[0m\u001b[1;33m=\u001b[0m\u001b[1;32mTrue\u001b[0m\u001b[1;33m)\u001b[0m\u001b[1;33m\u001b[0m\u001b[1;33m\u001b[0m\u001b[0m\n",
      "\u001b[1;32m~\\anaconda3\\lib\\site-packages\\sklearn\\metrics\\pairwise.py\u001b[0m in \u001b[0;36mcheck_pairwise_arrays\u001b[1;34m(X, Y, precomputed, dtype, accept_sparse, force_all_finite, copy)\u001b[0m\n\u001b[0;32m    162\u001b[0m             \u001b[0mestimator\u001b[0m\u001b[1;33m=\u001b[0m\u001b[0mestimator\u001b[0m\u001b[1;33m,\u001b[0m\u001b[1;33m\u001b[0m\u001b[1;33m\u001b[0m\u001b[0m\n\u001b[0;32m    163\u001b[0m         )\n\u001b[1;32m--> 164\u001b[1;33m         Y = check_array(\n\u001b[0m\u001b[0;32m    165\u001b[0m             \u001b[0mY\u001b[0m\u001b[1;33m,\u001b[0m\u001b[1;33m\u001b[0m\u001b[1;33m\u001b[0m\u001b[0m\n\u001b[0;32m    166\u001b[0m             \u001b[0maccept_sparse\u001b[0m\u001b[1;33m=\u001b[0m\u001b[0maccept_sparse\u001b[0m\u001b[1;33m,\u001b[0m\u001b[1;33m\u001b[0m\u001b[1;33m\u001b[0m\u001b[0m\n",
      "\u001b[1;32m~\\anaconda3\\lib\\site-packages\\sklearn\\utils\\validation.py\u001b[0m in \u001b[0;36mcheck_array\u001b[1;34m(array, accept_sparse, accept_large_sparse, dtype, order, copy, force_all_finite, ensure_2d, allow_nd, ensure_min_samples, ensure_min_features, estimator)\u001b[0m\n\u001b[0;32m    744\u001b[0m                     \u001b[0marray\u001b[0m \u001b[1;33m=\u001b[0m \u001b[0marray\u001b[0m\u001b[1;33m.\u001b[0m\u001b[0mastype\u001b[0m\u001b[1;33m(\u001b[0m\u001b[0mdtype\u001b[0m\u001b[1;33m,\u001b[0m \u001b[0mcasting\u001b[0m\u001b[1;33m=\u001b[0m\u001b[1;34m\"unsafe\"\u001b[0m\u001b[1;33m,\u001b[0m \u001b[0mcopy\u001b[0m\u001b[1;33m=\u001b[0m\u001b[1;32mFalse\u001b[0m\u001b[1;33m)\u001b[0m\u001b[1;33m\u001b[0m\u001b[1;33m\u001b[0m\u001b[0m\n\u001b[0;32m    745\u001b[0m                 \u001b[1;32melse\u001b[0m\u001b[1;33m:\u001b[0m\u001b[1;33m\u001b[0m\u001b[1;33m\u001b[0m\u001b[0m\n\u001b[1;32m--> 746\u001b[1;33m                     \u001b[0marray\u001b[0m \u001b[1;33m=\u001b[0m \u001b[0mnp\u001b[0m\u001b[1;33m.\u001b[0m\u001b[0masarray\u001b[0m\u001b[1;33m(\u001b[0m\u001b[0marray\u001b[0m\u001b[1;33m,\u001b[0m \u001b[0morder\u001b[0m\u001b[1;33m=\u001b[0m\u001b[0morder\u001b[0m\u001b[1;33m,\u001b[0m \u001b[0mdtype\u001b[0m\u001b[1;33m=\u001b[0m\u001b[0mdtype\u001b[0m\u001b[1;33m)\u001b[0m\u001b[1;33m\u001b[0m\u001b[1;33m\u001b[0m\u001b[0m\n\u001b[0m\u001b[0;32m    747\u001b[0m             \u001b[1;32mexcept\u001b[0m \u001b[0mComplexWarning\u001b[0m \u001b[1;32mas\u001b[0m \u001b[0mcomplex_warning\u001b[0m\u001b[1;33m:\u001b[0m\u001b[1;33m\u001b[0m\u001b[1;33m\u001b[0m\u001b[0m\n\u001b[0;32m    748\u001b[0m                 raise ValueError(\n",
      "\u001b[1;31mValueError\u001b[0m: could not convert string to float: '[-5.35281181e-01  2.37762824e-01 -2.85491236e-02  2.46142522e-01\\n  2.37398908e-01  3.60307127e-01  3.82632613e-01 -8.88311677e-03\\n -1.15752764e-01  1.42021462e-01  3.80301833e-01 -1.53642029e-01\\n -1.23459928e-01  2.07639411e-01 -3.63507748e-01 -3.42081755e-01\\n  4.74310040e-01  7.41067231e-02 -3.63065362e-01  4.54661936e-01\\n  8.28482583e-02 -1.14243247e-01 -8.45964968e-01 -3.16479832e-01\\n -5.74448287e-01 -1.91054698e-02 -7.73969531e-01 -5.79280496e-01\\n -5.14554121e-02 -2.47274458e-01 -4.69121903e-01  5.40114120e-02\\n -1.02262706e-01 -1.91872701e-01 -9.15929899e-02 -5.27599990e-01\\n -2.17337832e-01 -3.25925350e-02  5.09218335e-01  8.43315274e-02\\n  1.05539672e-01 -1.58860505e-01  1.44038737e-01  9.47724730e-02\\n -2.55467564e-01  1.05679221e-01 -4.47466433e-01  1.09237373e-01\\n -4.57591772e-01 -5.54057896e-01 -7.63673559e-02 -3.64116281e-01\\n  3.24843377e-02  7.68033639e-02  1.14039890e-01 -3.54275554e-02\\n  1.69224858e-01 -3.71398300e-01 -1.95343882e-01 -2.00728446e-01\\n -6.73607439e-02 -4.09063995e-02 -2.54337341e-01  1.87093288e-01\\n -5.76786995e-01 -1.09228805e-01 -5.14642358e-01  4.79874641e-01\\n  2.62824774e-01  1.33979440e-01  2.45436072e-01 -7.94074237e-01\\n -3.47929895e-01 -1.23226655e+00 -4.06332463e-01  4.21008915e-01\\n -4.75382507e-01  6.46653771e-01 -1.16794713e-01 -4.96865481e-01\\n -3.45074534e-01  7.34431505e-01 -7.04157293e-01 -1.81703031e-01\\n -4.65658784e-01  3.16337436e-01  3.29628199e-01  5.16594248e-03\\n -1.52779236e-01 -5.20793438e-01  3.01384807e-01 -5.25634766e-01\\n  2.75034197e-02  5.28974473e-01  2.29274705e-01 -3.12884361e-01\\n -1.22633331e-01  2.39002779e-01 -4.08689007e-02 -3.05497665e-02\\n  1.98816493e-01  6.82016611e-02  4.85270351e-01 -8.35129380e-01\\n  8.92232880e-02 -3.35297972e-01  5.18972516e-01 -4.91065651e-01\\n -1.28190374e+00  5.12389839e-01 -2.60009319e-01  4.52443868e-01\\n -2.90183723e-02  2.64805168e-01 -2.07166672e-01  1.77961424e-01\\n  1.40930861e-01  8.32510442e-02 -2.54619211e-01  9.58497882e-01\\n  2.50833899e-01  5.39137162e-02  3.44069153e-01  3.91130261e-02\\n  3.35956186e-01  5.49372375e-01  1.33619636e-01 -1.81601495e-01\\n  1.98121965e-02  1.66743338e-01 -3.83754283e-01 -1.04478872e+00\\n -1.75848920e-02 -7.50516713e-01 -2.80174583e-01  1.04766235e-01\\n -3.22237790e-01  1.81625158e-01 -1.03181913e-01 -4.13741022e-01\\n  6.33513331e-01  4.12988156e-01  3.77031237e-01 -6.87923878e-02\\n -7.80258000e-01  3.28187406e-01 -2.73134172e-01 -3.01647097e-01\\n -4.07091260e-01  6.93585873e-02 -1.78364098e-01  3.88357133e-01\\n -1.68632008e-02  3.03132832e-01 -9.89406481e-02  5.66731453e-01\\n  1.01766236e-01 -6.06022514e-02 -5.04362464e-01  1.19954491e+00\\n -5.15786529e-01 -5.64693689e-01 -1.08669244e-01 -7.36823156e-02\\n  6.14260174e-02  3.36193055e-01 -7.13441133e-01  5.71270227e-01\\n  3.34027797e-01  4.84528095e-01 -3.60739082e-02 -1.45649001e-01\\n  1.14457525e-01 -1.16958551e-01  3.35130334e-01 -2.38425851e-01\\n  8.60785842e-02  4.92313594e-01  1.07387796e-01 -6.97631165e-02\\n -3.71501982e-01 -5.64725101e-01 -5.85182160e-02 -2.42386788e-01\\n -1.67098761e-01  9.37358916e-01  1.25063226e-01 -3.91381890e-01\\n -3.33858043e-01  1.18433394e-01  1.59519792e-01 -6.41127229e-02\\n  2.68256813e-02  1.47566482e-01  1.92402408e-01 -1.90671340e-01\\n  4.47028726e-01 -2.03328222e-01 -3.36723655e-01  2.89753109e-01\\n  9.65199023e-02  3.31847489e-01 -2.50298113e-01 -4.71904278e-01\\n  2.77070880e-01 -1.35401532e-01 -1.17338490e+00  7.47752964e-01\\n  1.83032513e-01  1.94042489e-01 -2.50929475e-01  1.96858287e-01\\n -3.29079807e-01 -5.52466154e-01  3.13744336e-01  5.37123561e-01\\n  3.74669254e-01  7.36429632e-01  3.69589418e-01 -2.38209404e-02\\n -4.74591196e-01  5.45069575e-01 -5.22875413e-02 -7.83532083e-01\\n  8.55789259e-02  3.98365498e-01  1.30403981e-01 -5.62478304e-01\\n  2.04054177e-01  5.09674475e-02 -1.42296180e-01 -7.25388050e-01\\n -4.00322944e-01  2.03002438e-01 -2.55897790e-01 -8.62842705e-03\\n  2.43710384e-01  1.48208216e-01  3.68010342e-01 -2.55862653e-01\\n  1.54223919e-01  1.13782600e-01  1.27469391e-01  2.01211050e-01\\n  2.86576509e-01  3.31198692e-01  2.79034413e-02  2.88506359e-01\\n -7.50578716e-02  4.87323225e-01  2.04557016e-01 -9.40495133e-02\\n -1.21259101e-01  1.62332803e-01 -8.42583179e-01 -6.44777343e-02\\n  1.91289291e-01  8.89138505e-02  8.45492855e-02 -3.17568958e-01\\n -2.47314513e-01  5.19413464e-02  3.55168819e-01  5.29620767e-01\\n  8.40413198e-02  4.13943708e-01 -4.39246207e-01 -1.39243186e-01\\n -6.31429791e-01  3.16387534e-01 -2.39795446e-01  1.88558981e-01\\n -2.03334734e-01 -3.68274838e-01 -2.21691892e-01 -1.59268066e-01\\n -5.14167130e-01 -1.45675495e-01  3.32590640e-01 -4.67624307e-01\\n  5.04915714e-01  5.24133742e-01  5.90026438e-01 -7.49139190e-01\\n  4.38992143e-01  5.42978883e-01 -2.30010003e-01  1.58662647e-02\\n -3.36040199e-01  3.04457456e-01  5.39103508e-01 -1.59485757e-01\\n  1.61018036e-02  7.59508729e-01 -6.80169046e-01  1.35205155e-02\\n  2.01821402e-01 -6.54761374e-01 -2.00654566e-01 -1.50937945e-01\\n -7.37823725e-01  2.44507745e-01 -8.22860181e-01 -3.98326933e-01\\n -3.12204286e-03  6.54581785e-01 -4.94631112e-01  5.39517030e-02\\n -2.93914616e-01  2.99953043e-01 -2.22790182e-01  5.12570024e-01\\n  3.44258517e-01  1.37247145e-01  1.89325541e-01 -1.45250440e-01\\n  9.63949978e-01 -7.48255491e-01  5.54573722e-02 -7.99231157e-02\\n -2.24258021e-01 -4.02304471e-01  4.32061367e-02 -2.62046069e-01\\n -4.46835071e-01  2.87154555e-01 -3.03960349e-02  1.66122183e-01\\n  1.90611750e-01  1.17639095e-01  1.75967872e+00 -9.85363573e-02\\n  4.95877057e-01 -3.97415310e-01 -3.48182827e-01 -3.63158703e-01\\n -2.28484020e-01  1.34441316e-01  3.15997958e-01  1.04571082e-01\\n  2.15615481e-01 -5.94216704e-01  2.46066138e-01 -3.70011851e-02\\n -3.74571711e-01  3.89522724e-02 -2.63553441e-01  6.53232485e-02\\n -1.18684787e-02 -1.94588512e-01  3.14726457e-02  8.31587315e-02\\n  3.50577347e-02 -6.19218290e-01 -3.04600328e-01  8.55655789e-01\\n  2.83113837e-01  5.98924577e-01 -3.42819065e-01 -1.19325638e+00\\n -9.59238529e-01  8.59532893e-01 -1.50308728e-01 -3.94029945e-01\\n -1.70802638e-01 -2.15442076e-01  2.03905627e-01 -3.25201154e-01\\n  6.00851001e-03  1.22959226e-01  1.48017988e-01  2.21749678e-01\\n -1.87839389e-01 -4.31526393e-01 -2.53338575e-01 -4.11538124e-01\\n  1.94064721e-01  2.17260607e-02 -1.44619375e-01 -1.17683375e+00\\n  4.02062356e-01 -2.82494426e-01 -3.62765610e-01  7.74497911e-02\\n -1.20058484e-01 -5.62078416e-01  9.45710540e-02  3.24149251e-01\\n -8.32724571e-02  5.32785773e-01  3.95964652e-01  5.37969843e-02\\n -2.12455556e-01 -4.35725786e-02  4.36956882e-02  3.74046504e-01\\n -1.43606976e-01  7.97296286e-01  3.70718181e-01 -1.86621428e-01\\n -2.17818711e-02 -3.00381154e-01 -3.23848993e-01 -7.60220826e-01\\n -4.26791519e-01  4.37487930e-01 -3.02086294e-01 -3.62110853e-01\\n -2.41158396e-01 -1.26804724e-01 -3.80528092e-01  2.04128057e-01\\n -1.05328448e-02 -1.39565498e-01  2.37873733e-01 -3.88896912e-02\\n  1.57166570e-01  5.91762662e-02 -2.05342621e-01  5.93793511e-01\\n -1.11537009e-01  2.84798801e-01  5.09233952e-01 -3.33509415e-01\\n  1.74767926e-01 -2.95085996e-01  2.12619781e-01 -4.44364935e-01\\n -3.72644156e-01  4.24486473e-02  2.86243796e-01  9.32465196e-02\\n -7.09184706e-02 -1.08305894e-01 -1.89573795e-01  3.29794765e-01\\n -2.28495747e-01  2.35699564e-01  9.00980383e-02 -1.01764258e-02\\n  2.81814784e-01  2.71181583e-01  1.72037184e-01 -1.32647127e-01\\n -2.09935680e-01  6.35453403e-01 -4.06657487e-01  2.05864504e-01\\n  3.77487615e-02 -7.25402176e-01 -2.66372174e-01  1.42629333e-02\\n -1.34146243e-01 -6.39981627e-01  7.26164654e-02  1.51563615e-01\\n  2.36629531e-01  5.91968536e-01 -2.09033862e-01  2.01191872e-01\\n  2.01966435e-01  2.66998947e-01  5.54004014e-01  1.55738488e-01\\n  1.23032875e-01 -4.04468119e-01  4.97596025e-01 -4.83375974e-02\\n -4.82301593e-01  3.26119125e-01  4.38759893e-01  4.24348563e-01\\n  3.80748868e-01  1.91527084e-01 -9.18209180e-02  7.43473649e-01\\n  2.71345526e-01 -8.70881788e-03  4.17224169e-01  2.15252414e-01\\n -3.96437436e-01  1.09825991e-01 -3.25073749e-01 -4.09472257e-01\\n -2.75614351e-01  1.68932140e-01 -1.01427436e-01 -6.21723294e-01\\n -3.83966863e-01 -1.18808018e-03  4.18893009e-01 -2.99483806e-01\\n -2.69198656e-01 -5.30316681e-02  9.74035114e-02 -6.84395712e-03\\n -1.27743781e-01  4.97001931e-02  1.85637027e-01  1.71299309e-01\\n -1.59487396e-01  5.43055050e-02  3.95244718e-01  5.81633568e-01\\n  1.66376233e-01 -1.49588838e-01 -4.03777659e-01 -1.24690399e-01\\n  4.68737721e-01 -3.84271257e-02 -2.17500523e-01 -5.55001378e-01\\n -1.86835945e-01 -2.10789189e-01 -9.67973545e-02 -2.94375271e-01\\n -2.49093562e-01 -1.15107790e-01 -3.10324073e-01  5.39097071e-01\\n -5.57398856e-01  2.51838326e-01  7.99499638e-03  1.14473561e-03\\n  3.49443823e-01 -6.13220990e-01  2.57631004e-01  2.54870892e-01\\n -1.90967381e-01 -4.90564853e-01  2.69014895e-01  4.45356756e-01\\n -4.30763245e-01  6.28756821e-01  4.42100644e-01  4.50399220e-01\\n -6.56245410e-01  2.05141738e-01  4.63796675e-01  5.16101718e-01\\n  1.46114931e-01  1.85422048e-01  7.01861084e-02  3.77260834e-01\\n -5.90117693e-01  2.28883430e-01 -2.14784980e-01 -2.32073486e-01\\n -1.64428383e-01 -3.30756903e-01  4.98550683e-01  1.06364286e+00\\n -4.99502897e-01  4.31987852e-01 -2.45573949e-02 -2.82094568e-01\\n  1.90285087e-01  2.21586987e-01  5.37058804e-04 -3.26719761e-01\\n -4.37367022e-01 -1.71545893e-02 -6.97823539e-02  3.19209397e-01\\n  4.57851946e-01 -5.91793001e-01  1.81536283e-02 -2.05688596e-01\\n  3.27207565e-01 -2.45714232e-01  5.00415325e-01 -3.28664482e-01\\n  4.41315234e-01  4.99738127e-01 -5.56550801e-01  9.93449464e-02\\n -1.72458906e-02  3.32139879e-01 -2.01585352e-01  1.72767565e-01\\n  2.28548199e-01  2.43275136e-01 -6.90536350e-02  3.86115946e-02\\n  1.64697282e-02  3.34655881e-01  1.49871334e-01 -3.40892106e-01\\n  1.99466541e-01  1.24385759e-01  5.57527006e-01  1.71866491e-01\\n -4.50000823e-01  3.79695773e-01  2.84505904e-01  5.35729574e-03\\n -8.38871114e-03 -1.84941888e-02  4.53592092e-01 -2.05202222e-01\\n  5.18448830e-01 -9.68455970e-02  7.03221709e-02 -2.60319948e-01\\n -5.13845146e-01  7.51230791e-02  1.65726572e-01 -2.50181824e-01\\n -2.08423510e-01 -4.15840507e-01 -3.54818135e-01 -8.36503804e-02\\n -2.61330366e-01 -2.75001615e-01 -2.20325068e-01  5.50455630e-01\\n  1.82131957e-02  9.10049528e-02 -3.37961882e-01 -6.76496506e-01\\n -9.13596712e-03  1.97716057e-02 -1.94001034e-01  1.43278137e-01\\n  2.44521648e-01  8.18208158e-01 -1.41141866e-03 -2.33274698e-01\\n -6.34640530e-02 -2.83599138e-01 -2.55970240e-01  1.43637997e-03\\n -4.49883550e-01 -2.19058752e-01  5.18811978e-02  4.54367012e-01\\n  1.04956664e-01 -3.05586874e-01 -1.15083471e-01  5.57545781e-01\\n -1.37350693e-01  4.68699872e-01 -2.53781468e-01  1.04518449e+00\\n  2.94180721e-01  3.43196690e-01 -3.13474119e-01  2.92914778e-01\\n  1.07570894e-01 -2.03826278e-01  9.10966471e-03  6.22534335e-01\\n  1.46702126e-01 -6.10716967e-03  4.89890337e-01 -7.94108883e-02\\n  3.97931635e-01  1.54654250e-01 -3.58218625e-02  5.76727688e-01\\n  6.13683201e-02 -2.14162782e-01  2.93310523e-01 -1.03073679e-01\\n -2.29464024e-01 -5.70051789e-01 -2.35175267e-01  2.19795872e-02\\n -2.93406487e-01 -5.29627800e-02 -4.11618918e-01  4.91438925e-01\\n -2.84467191e-01  4.07549948e-01  1.89726185e-02 -4.17915940e-01\\n  4.48838234e-01  8.06632280e-01 -2.77991116e-01  6.60039857e-02\\n -8.60331804e-02  8.78213421e-02 -2.29681015e-01 -1.44011676e-01\\n  4.42992538e-01  2.75100917e-01  5.17431498e-01  6.09614670e-01\\n -3.03728372e-01 -1.12036578e-01  4.82101291e-01 -9.65716913e-02\\n -2.59798884e-01 -3.59939188e-01  4.16878104e-01 -4.65183169e-01\\n  1.45897046e-01 -2.48142615e-01 -3.23102660e-02 -2.83356071e-01\\n  3.19746017e-01 -7.68675089e-01  3.22254658e-01  6.14038169e-01\\n  5.47292829e-02 -1.42925620e-01 -1.85296059e-01 -6.03886060e-02\\n  6.57170191e-02 -5.93974888e-01  4.92214523e-02  4.98478204e-01\\n  2.73236066e-01 -8.97961557e-02  6.06307626e-01  1.03456862e-01\\n  6.83930159e-01 -4.15538639e-01 -3.36955309e-01  2.46907189e-01\\n  3.41498613e-01 -3.80573958e-01  6.96118712e-01  6.09439872e-02\\n -5.10476530e-01 -2.67131209e-01  5.30528463e-02 -4.21770215e-01\\n  1.42987669e-01  4.81031090e-01  5.06460130e-01 -1.37601286e-01\\n -6.32529616e-01 -3.89552474e-01  5.44507861e-01  6.31082892e-01\\n  7.74456039e-02 -1.51441619e-01  1.08270498e-03 -1.84199616e-01\\n  5.78647196e-01 -3.57549250e-01 -3.07938069e-01 -1.42718673e-01\\n  5.75399935e-01  1.83519349e-01 -1.63050398e-01  4.01229918e-01\\n -9.30462703e-02  1.75245795e-02  1.45555809e-01  4.87409621e-01\\n  6.15550041e-01 -6.31291866e-02 -9.84244525e-01 -8.66833404e-02\\n  3.80977929e-01  1.32239953e-01  1.77804127e-01 -7.47316703e-02\\n -3.08161259e-01 -1.26466617e-01 -1.35267988e-01 -4.17313337e-01\\n -3.18962485e-02 -2.42941231e-01 -6.33543059e-02  3.78221929e-01]'"
     ]
    }
   ],
   "source": [
    "similarity_scores = cosine_similarity(new_complaint_vec, data_vec)[0]"
   ]
  },
  {
   "cell_type": "code",
   "execution_count": 52,
   "id": "442e938e",
   "metadata": {},
   "outputs": [
    {
     "ename": "ValueError",
     "evalue": "could not convert string to float: '[-5.35281181e-01  2.37762824e-01 -2.85491236e-02  2.46142522e-01\\n  2.37398908e-01  3.60307127e-01  3.82632613e-01 -8.88311677e-03\\n -1.15752764e-01  1.42021462e-01  3.80301833e-01 -1.53642029e-01\\n -1.23459928e-01  2.07639411e-01 -3.63507748e-01 -3.42081755e-01\\n  4.74310040e-01  7.41067231e-02 -3.63065362e-01  4.54661936e-01\\n  8.28482583e-02 -1.14243247e-01 -8.45964968e-01 -3.16479832e-01\\n -5.74448287e-01 -1.91054698e-02 -7.73969531e-01 -5.79280496e-01\\n -5.14554121e-02 -2.47274458e-01 -4.69121903e-01  5.40114120e-02\\n -1.02262706e-01 -1.91872701e-01 -9.15929899e-02 -5.27599990e-01\\n -2.17337832e-01 -3.25925350e-02  5.09218335e-01  8.43315274e-02\\n  1.05539672e-01 -1.58860505e-01  1.44038737e-01  9.47724730e-02\\n -2.55467564e-01  1.05679221e-01 -4.47466433e-01  1.09237373e-01\\n -4.57591772e-01 -5.54057896e-01 -7.63673559e-02 -3.64116281e-01\\n  3.24843377e-02  7.68033639e-02  1.14039890e-01 -3.54275554e-02\\n  1.69224858e-01 -3.71398300e-01 -1.95343882e-01 -2.00728446e-01\\n -6.73607439e-02 -4.09063995e-02 -2.54337341e-01  1.87093288e-01\\n -5.76786995e-01 -1.09228805e-01 -5.14642358e-01  4.79874641e-01\\n  2.62824774e-01  1.33979440e-01  2.45436072e-01 -7.94074237e-01\\n -3.47929895e-01 -1.23226655e+00 -4.06332463e-01  4.21008915e-01\\n -4.75382507e-01  6.46653771e-01 -1.16794713e-01 -4.96865481e-01\\n -3.45074534e-01  7.34431505e-01 -7.04157293e-01 -1.81703031e-01\\n -4.65658784e-01  3.16337436e-01  3.29628199e-01  5.16594248e-03\\n -1.52779236e-01 -5.20793438e-01  3.01384807e-01 -5.25634766e-01\\n  2.75034197e-02  5.28974473e-01  2.29274705e-01 -3.12884361e-01\\n -1.22633331e-01  2.39002779e-01 -4.08689007e-02 -3.05497665e-02\\n  1.98816493e-01  6.82016611e-02  4.85270351e-01 -8.35129380e-01\\n  8.92232880e-02 -3.35297972e-01  5.18972516e-01 -4.91065651e-01\\n -1.28190374e+00  5.12389839e-01 -2.60009319e-01  4.52443868e-01\\n -2.90183723e-02  2.64805168e-01 -2.07166672e-01  1.77961424e-01\\n  1.40930861e-01  8.32510442e-02 -2.54619211e-01  9.58497882e-01\\n  2.50833899e-01  5.39137162e-02  3.44069153e-01  3.91130261e-02\\n  3.35956186e-01  5.49372375e-01  1.33619636e-01 -1.81601495e-01\\n  1.98121965e-02  1.66743338e-01 -3.83754283e-01 -1.04478872e+00\\n -1.75848920e-02 -7.50516713e-01 -2.80174583e-01  1.04766235e-01\\n -3.22237790e-01  1.81625158e-01 -1.03181913e-01 -4.13741022e-01\\n  6.33513331e-01  4.12988156e-01  3.77031237e-01 -6.87923878e-02\\n -7.80258000e-01  3.28187406e-01 -2.73134172e-01 -3.01647097e-01\\n -4.07091260e-01  6.93585873e-02 -1.78364098e-01  3.88357133e-01\\n -1.68632008e-02  3.03132832e-01 -9.89406481e-02  5.66731453e-01\\n  1.01766236e-01 -6.06022514e-02 -5.04362464e-01  1.19954491e+00\\n -5.15786529e-01 -5.64693689e-01 -1.08669244e-01 -7.36823156e-02\\n  6.14260174e-02  3.36193055e-01 -7.13441133e-01  5.71270227e-01\\n  3.34027797e-01  4.84528095e-01 -3.60739082e-02 -1.45649001e-01\\n  1.14457525e-01 -1.16958551e-01  3.35130334e-01 -2.38425851e-01\\n  8.60785842e-02  4.92313594e-01  1.07387796e-01 -6.97631165e-02\\n -3.71501982e-01 -5.64725101e-01 -5.85182160e-02 -2.42386788e-01\\n -1.67098761e-01  9.37358916e-01  1.25063226e-01 -3.91381890e-01\\n -3.33858043e-01  1.18433394e-01  1.59519792e-01 -6.41127229e-02\\n  2.68256813e-02  1.47566482e-01  1.92402408e-01 -1.90671340e-01\\n  4.47028726e-01 -2.03328222e-01 -3.36723655e-01  2.89753109e-01\\n  9.65199023e-02  3.31847489e-01 -2.50298113e-01 -4.71904278e-01\\n  2.77070880e-01 -1.35401532e-01 -1.17338490e+00  7.47752964e-01\\n  1.83032513e-01  1.94042489e-01 -2.50929475e-01  1.96858287e-01\\n -3.29079807e-01 -5.52466154e-01  3.13744336e-01  5.37123561e-01\\n  3.74669254e-01  7.36429632e-01  3.69589418e-01 -2.38209404e-02\\n -4.74591196e-01  5.45069575e-01 -5.22875413e-02 -7.83532083e-01\\n  8.55789259e-02  3.98365498e-01  1.30403981e-01 -5.62478304e-01\\n  2.04054177e-01  5.09674475e-02 -1.42296180e-01 -7.25388050e-01\\n -4.00322944e-01  2.03002438e-01 -2.55897790e-01 -8.62842705e-03\\n  2.43710384e-01  1.48208216e-01  3.68010342e-01 -2.55862653e-01\\n  1.54223919e-01  1.13782600e-01  1.27469391e-01  2.01211050e-01\\n  2.86576509e-01  3.31198692e-01  2.79034413e-02  2.88506359e-01\\n -7.50578716e-02  4.87323225e-01  2.04557016e-01 -9.40495133e-02\\n -1.21259101e-01  1.62332803e-01 -8.42583179e-01 -6.44777343e-02\\n  1.91289291e-01  8.89138505e-02  8.45492855e-02 -3.17568958e-01\\n -2.47314513e-01  5.19413464e-02  3.55168819e-01  5.29620767e-01\\n  8.40413198e-02  4.13943708e-01 -4.39246207e-01 -1.39243186e-01\\n -6.31429791e-01  3.16387534e-01 -2.39795446e-01  1.88558981e-01\\n -2.03334734e-01 -3.68274838e-01 -2.21691892e-01 -1.59268066e-01\\n -5.14167130e-01 -1.45675495e-01  3.32590640e-01 -4.67624307e-01\\n  5.04915714e-01  5.24133742e-01  5.90026438e-01 -7.49139190e-01\\n  4.38992143e-01  5.42978883e-01 -2.30010003e-01  1.58662647e-02\\n -3.36040199e-01  3.04457456e-01  5.39103508e-01 -1.59485757e-01\\n  1.61018036e-02  7.59508729e-01 -6.80169046e-01  1.35205155e-02\\n  2.01821402e-01 -6.54761374e-01 -2.00654566e-01 -1.50937945e-01\\n -7.37823725e-01  2.44507745e-01 -8.22860181e-01 -3.98326933e-01\\n -3.12204286e-03  6.54581785e-01 -4.94631112e-01  5.39517030e-02\\n -2.93914616e-01  2.99953043e-01 -2.22790182e-01  5.12570024e-01\\n  3.44258517e-01  1.37247145e-01  1.89325541e-01 -1.45250440e-01\\n  9.63949978e-01 -7.48255491e-01  5.54573722e-02 -7.99231157e-02\\n -2.24258021e-01 -4.02304471e-01  4.32061367e-02 -2.62046069e-01\\n -4.46835071e-01  2.87154555e-01 -3.03960349e-02  1.66122183e-01\\n  1.90611750e-01  1.17639095e-01  1.75967872e+00 -9.85363573e-02\\n  4.95877057e-01 -3.97415310e-01 -3.48182827e-01 -3.63158703e-01\\n -2.28484020e-01  1.34441316e-01  3.15997958e-01  1.04571082e-01\\n  2.15615481e-01 -5.94216704e-01  2.46066138e-01 -3.70011851e-02\\n -3.74571711e-01  3.89522724e-02 -2.63553441e-01  6.53232485e-02\\n -1.18684787e-02 -1.94588512e-01  3.14726457e-02  8.31587315e-02\\n  3.50577347e-02 -6.19218290e-01 -3.04600328e-01  8.55655789e-01\\n  2.83113837e-01  5.98924577e-01 -3.42819065e-01 -1.19325638e+00\\n -9.59238529e-01  8.59532893e-01 -1.50308728e-01 -3.94029945e-01\\n -1.70802638e-01 -2.15442076e-01  2.03905627e-01 -3.25201154e-01\\n  6.00851001e-03  1.22959226e-01  1.48017988e-01  2.21749678e-01\\n -1.87839389e-01 -4.31526393e-01 -2.53338575e-01 -4.11538124e-01\\n  1.94064721e-01  2.17260607e-02 -1.44619375e-01 -1.17683375e+00\\n  4.02062356e-01 -2.82494426e-01 -3.62765610e-01  7.74497911e-02\\n -1.20058484e-01 -5.62078416e-01  9.45710540e-02  3.24149251e-01\\n -8.32724571e-02  5.32785773e-01  3.95964652e-01  5.37969843e-02\\n -2.12455556e-01 -4.35725786e-02  4.36956882e-02  3.74046504e-01\\n -1.43606976e-01  7.97296286e-01  3.70718181e-01 -1.86621428e-01\\n -2.17818711e-02 -3.00381154e-01 -3.23848993e-01 -7.60220826e-01\\n -4.26791519e-01  4.37487930e-01 -3.02086294e-01 -3.62110853e-01\\n -2.41158396e-01 -1.26804724e-01 -3.80528092e-01  2.04128057e-01\\n -1.05328448e-02 -1.39565498e-01  2.37873733e-01 -3.88896912e-02\\n  1.57166570e-01  5.91762662e-02 -2.05342621e-01  5.93793511e-01\\n -1.11537009e-01  2.84798801e-01  5.09233952e-01 -3.33509415e-01\\n  1.74767926e-01 -2.95085996e-01  2.12619781e-01 -4.44364935e-01\\n -3.72644156e-01  4.24486473e-02  2.86243796e-01  9.32465196e-02\\n -7.09184706e-02 -1.08305894e-01 -1.89573795e-01  3.29794765e-01\\n -2.28495747e-01  2.35699564e-01  9.00980383e-02 -1.01764258e-02\\n  2.81814784e-01  2.71181583e-01  1.72037184e-01 -1.32647127e-01\\n -2.09935680e-01  6.35453403e-01 -4.06657487e-01  2.05864504e-01\\n  3.77487615e-02 -7.25402176e-01 -2.66372174e-01  1.42629333e-02\\n -1.34146243e-01 -6.39981627e-01  7.26164654e-02  1.51563615e-01\\n  2.36629531e-01  5.91968536e-01 -2.09033862e-01  2.01191872e-01\\n  2.01966435e-01  2.66998947e-01  5.54004014e-01  1.55738488e-01\\n  1.23032875e-01 -4.04468119e-01  4.97596025e-01 -4.83375974e-02\\n -4.82301593e-01  3.26119125e-01  4.38759893e-01  4.24348563e-01\\n  3.80748868e-01  1.91527084e-01 -9.18209180e-02  7.43473649e-01\\n  2.71345526e-01 -8.70881788e-03  4.17224169e-01  2.15252414e-01\\n -3.96437436e-01  1.09825991e-01 -3.25073749e-01 -4.09472257e-01\\n -2.75614351e-01  1.68932140e-01 -1.01427436e-01 -6.21723294e-01\\n -3.83966863e-01 -1.18808018e-03  4.18893009e-01 -2.99483806e-01\\n -2.69198656e-01 -5.30316681e-02  9.74035114e-02 -6.84395712e-03\\n -1.27743781e-01  4.97001931e-02  1.85637027e-01  1.71299309e-01\\n -1.59487396e-01  5.43055050e-02  3.95244718e-01  5.81633568e-01\\n  1.66376233e-01 -1.49588838e-01 -4.03777659e-01 -1.24690399e-01\\n  4.68737721e-01 -3.84271257e-02 -2.17500523e-01 -5.55001378e-01\\n -1.86835945e-01 -2.10789189e-01 -9.67973545e-02 -2.94375271e-01\\n -2.49093562e-01 -1.15107790e-01 -3.10324073e-01  5.39097071e-01\\n -5.57398856e-01  2.51838326e-01  7.99499638e-03  1.14473561e-03\\n  3.49443823e-01 -6.13220990e-01  2.57631004e-01  2.54870892e-01\\n -1.90967381e-01 -4.90564853e-01  2.69014895e-01  4.45356756e-01\\n -4.30763245e-01  6.28756821e-01  4.42100644e-01  4.50399220e-01\\n -6.56245410e-01  2.05141738e-01  4.63796675e-01  5.16101718e-01\\n  1.46114931e-01  1.85422048e-01  7.01861084e-02  3.77260834e-01\\n -5.90117693e-01  2.28883430e-01 -2.14784980e-01 -2.32073486e-01\\n -1.64428383e-01 -3.30756903e-01  4.98550683e-01  1.06364286e+00\\n -4.99502897e-01  4.31987852e-01 -2.45573949e-02 -2.82094568e-01\\n  1.90285087e-01  2.21586987e-01  5.37058804e-04 -3.26719761e-01\\n -4.37367022e-01 -1.71545893e-02 -6.97823539e-02  3.19209397e-01\\n  4.57851946e-01 -5.91793001e-01  1.81536283e-02 -2.05688596e-01\\n  3.27207565e-01 -2.45714232e-01  5.00415325e-01 -3.28664482e-01\\n  4.41315234e-01  4.99738127e-01 -5.56550801e-01  9.93449464e-02\\n -1.72458906e-02  3.32139879e-01 -2.01585352e-01  1.72767565e-01\\n  2.28548199e-01  2.43275136e-01 -6.90536350e-02  3.86115946e-02\\n  1.64697282e-02  3.34655881e-01  1.49871334e-01 -3.40892106e-01\\n  1.99466541e-01  1.24385759e-01  5.57527006e-01  1.71866491e-01\\n -4.50000823e-01  3.79695773e-01  2.84505904e-01  5.35729574e-03\\n -8.38871114e-03 -1.84941888e-02  4.53592092e-01 -2.05202222e-01\\n  5.18448830e-01 -9.68455970e-02  7.03221709e-02 -2.60319948e-01\\n -5.13845146e-01  7.51230791e-02  1.65726572e-01 -2.50181824e-01\\n -2.08423510e-01 -4.15840507e-01 -3.54818135e-01 -8.36503804e-02\\n -2.61330366e-01 -2.75001615e-01 -2.20325068e-01  5.50455630e-01\\n  1.82131957e-02  9.10049528e-02 -3.37961882e-01 -6.76496506e-01\\n -9.13596712e-03  1.97716057e-02 -1.94001034e-01  1.43278137e-01\\n  2.44521648e-01  8.18208158e-01 -1.41141866e-03 -2.33274698e-01\\n -6.34640530e-02 -2.83599138e-01 -2.55970240e-01  1.43637997e-03\\n -4.49883550e-01 -2.19058752e-01  5.18811978e-02  4.54367012e-01\\n  1.04956664e-01 -3.05586874e-01 -1.15083471e-01  5.57545781e-01\\n -1.37350693e-01  4.68699872e-01 -2.53781468e-01  1.04518449e+00\\n  2.94180721e-01  3.43196690e-01 -3.13474119e-01  2.92914778e-01\\n  1.07570894e-01 -2.03826278e-01  9.10966471e-03  6.22534335e-01\\n  1.46702126e-01 -6.10716967e-03  4.89890337e-01 -7.94108883e-02\\n  3.97931635e-01  1.54654250e-01 -3.58218625e-02  5.76727688e-01\\n  6.13683201e-02 -2.14162782e-01  2.93310523e-01 -1.03073679e-01\\n -2.29464024e-01 -5.70051789e-01 -2.35175267e-01  2.19795872e-02\\n -2.93406487e-01 -5.29627800e-02 -4.11618918e-01  4.91438925e-01\\n -2.84467191e-01  4.07549948e-01  1.89726185e-02 -4.17915940e-01\\n  4.48838234e-01  8.06632280e-01 -2.77991116e-01  6.60039857e-02\\n -8.60331804e-02  8.78213421e-02 -2.29681015e-01 -1.44011676e-01\\n  4.42992538e-01  2.75100917e-01  5.17431498e-01  6.09614670e-01\\n -3.03728372e-01 -1.12036578e-01  4.82101291e-01 -9.65716913e-02\\n -2.59798884e-01 -3.59939188e-01  4.16878104e-01 -4.65183169e-01\\n  1.45897046e-01 -2.48142615e-01 -3.23102660e-02 -2.83356071e-01\\n  3.19746017e-01 -7.68675089e-01  3.22254658e-01  6.14038169e-01\\n  5.47292829e-02 -1.42925620e-01 -1.85296059e-01 -6.03886060e-02\\n  6.57170191e-02 -5.93974888e-01  4.92214523e-02  4.98478204e-01\\n  2.73236066e-01 -8.97961557e-02  6.06307626e-01  1.03456862e-01\\n  6.83930159e-01 -4.15538639e-01 -3.36955309e-01  2.46907189e-01\\n  3.41498613e-01 -3.80573958e-01  6.96118712e-01  6.09439872e-02\\n -5.10476530e-01 -2.67131209e-01  5.30528463e-02 -4.21770215e-01\\n  1.42987669e-01  4.81031090e-01  5.06460130e-01 -1.37601286e-01\\n -6.32529616e-01 -3.89552474e-01  5.44507861e-01  6.31082892e-01\\n  7.74456039e-02 -1.51441619e-01  1.08270498e-03 -1.84199616e-01\\n  5.78647196e-01 -3.57549250e-01 -3.07938069e-01 -1.42718673e-01\\n  5.75399935e-01  1.83519349e-01 -1.63050398e-01  4.01229918e-01\\n -9.30462703e-02  1.75245795e-02  1.45555809e-01  4.87409621e-01\\n  6.15550041e-01 -6.31291866e-02 -9.84244525e-01 -8.66833404e-02\\n  3.80977929e-01  1.32239953e-01  1.77804127e-01 -7.47316703e-02\\n -3.08161259e-01 -1.26466617e-01 -1.35267988e-01 -4.17313337e-01\\n -3.18962485e-02 -2.42941231e-01 -6.33543059e-02  3.78221929e-01]'",
     "output_type": "error",
     "traceback": [
      "\u001b[1;31m---------------------------------------------------------------------------\u001b[0m",
      "\u001b[1;31mValueError\u001b[0m                                Traceback (most recent call last)",
      "\u001b[1;32m~\\AppData\\Local\\Temp\\ipykernel_21024\\3783347819.py\u001b[0m in \u001b[0;36m<module>\u001b[1;34m\u001b[0m\n\u001b[0;32m      1\u001b[0m \u001b[1;31m# 유사도 계산하기\u001b[0m\u001b[1;33m\u001b[0m\u001b[1;33m\u001b[0m\u001b[0m\n\u001b[1;32m----> 2\u001b[1;33m \u001b[0msimilarity_scores\u001b[0m \u001b[1;33m=\u001b[0m \u001b[0mcosine_similarity\u001b[0m\u001b[1;33m(\u001b[0m\u001b[0mnew_complaint_vec\u001b[0m\u001b[1;33m,\u001b[0m \u001b[0mdata_vec\u001b[0m\u001b[1;33m)\u001b[0m\u001b[1;33m[\u001b[0m\u001b[1;36m0\u001b[0m\u001b[1;33m]\u001b[0m\u001b[1;33m\u001b[0m\u001b[1;33m\u001b[0m\u001b[0m\n\u001b[0m\u001b[0;32m      3\u001b[0m \u001b[1;33m\u001b[0m\u001b[0m\n\u001b[0;32m      4\u001b[0m \u001b[1;31m# 유사도가 높은 민원 추출하기\u001b[0m\u001b[1;33m\u001b[0m\u001b[1;33m\u001b[0m\u001b[0m\n\u001b[0;32m      5\u001b[0m \u001b[0mtop_indices\u001b[0m \u001b[1;33m=\u001b[0m \u001b[0msimilarity_scores\u001b[0m\u001b[1;33m.\u001b[0m\u001b[0margsort\u001b[0m\u001b[1;33m(\u001b[0m\u001b[1;33m)\u001b[0m\u001b[1;33m[\u001b[0m\u001b[1;33m:\u001b[0m\u001b[1;33m:\u001b[0m\u001b[1;33m-\u001b[0m\u001b[1;36m1\u001b[0m\u001b[1;33m]\u001b[0m\u001b[1;33m[\u001b[0m\u001b[1;33m:\u001b[0m\u001b[1;36m3\u001b[0m\u001b[1;33m]\u001b[0m\u001b[1;33m\u001b[0m\u001b[1;33m\u001b[0m\u001b[0m\n",
      "\u001b[1;32m~\\anaconda3\\lib\\site-packages\\sklearn\\metrics\\pairwise.py\u001b[0m in \u001b[0;36mcosine_similarity\u001b[1;34m(X, Y, dense_output)\u001b[0m\n\u001b[0;32m   1249\u001b[0m     \u001b[1;31m# to avoid recursive import\u001b[0m\u001b[1;33m\u001b[0m\u001b[1;33m\u001b[0m\u001b[0m\n\u001b[0;32m   1250\u001b[0m \u001b[1;33m\u001b[0m\u001b[0m\n\u001b[1;32m-> 1251\u001b[1;33m     \u001b[0mX\u001b[0m\u001b[1;33m,\u001b[0m \u001b[0mY\u001b[0m \u001b[1;33m=\u001b[0m \u001b[0mcheck_pairwise_arrays\u001b[0m\u001b[1;33m(\u001b[0m\u001b[0mX\u001b[0m\u001b[1;33m,\u001b[0m \u001b[0mY\u001b[0m\u001b[1;33m)\u001b[0m\u001b[1;33m\u001b[0m\u001b[1;33m\u001b[0m\u001b[0m\n\u001b[0m\u001b[0;32m   1252\u001b[0m \u001b[1;33m\u001b[0m\u001b[0m\n\u001b[0;32m   1253\u001b[0m     \u001b[0mX_normalized\u001b[0m \u001b[1;33m=\u001b[0m \u001b[0mnormalize\u001b[0m\u001b[1;33m(\u001b[0m\u001b[0mX\u001b[0m\u001b[1;33m,\u001b[0m \u001b[0mcopy\u001b[0m\u001b[1;33m=\u001b[0m\u001b[1;32mTrue\u001b[0m\u001b[1;33m)\u001b[0m\u001b[1;33m\u001b[0m\u001b[1;33m\u001b[0m\u001b[0m\n",
      "\u001b[1;32m~\\anaconda3\\lib\\site-packages\\sklearn\\metrics\\pairwise.py\u001b[0m in \u001b[0;36mcheck_pairwise_arrays\u001b[1;34m(X, Y, precomputed, dtype, accept_sparse, force_all_finite, copy)\u001b[0m\n\u001b[0;32m    162\u001b[0m             \u001b[0mestimator\u001b[0m\u001b[1;33m=\u001b[0m\u001b[0mestimator\u001b[0m\u001b[1;33m,\u001b[0m\u001b[1;33m\u001b[0m\u001b[1;33m\u001b[0m\u001b[0m\n\u001b[0;32m    163\u001b[0m         )\n\u001b[1;32m--> 164\u001b[1;33m         Y = check_array(\n\u001b[0m\u001b[0;32m    165\u001b[0m             \u001b[0mY\u001b[0m\u001b[1;33m,\u001b[0m\u001b[1;33m\u001b[0m\u001b[1;33m\u001b[0m\u001b[0m\n\u001b[0;32m    166\u001b[0m             \u001b[0maccept_sparse\u001b[0m\u001b[1;33m=\u001b[0m\u001b[0maccept_sparse\u001b[0m\u001b[1;33m,\u001b[0m\u001b[1;33m\u001b[0m\u001b[1;33m\u001b[0m\u001b[0m\n",
      "\u001b[1;32m~\\anaconda3\\lib\\site-packages\\sklearn\\utils\\validation.py\u001b[0m in \u001b[0;36mcheck_array\u001b[1;34m(array, accept_sparse, accept_large_sparse, dtype, order, copy, force_all_finite, ensure_2d, allow_nd, ensure_min_samples, ensure_min_features, estimator)\u001b[0m\n\u001b[0;32m    744\u001b[0m                     \u001b[0marray\u001b[0m \u001b[1;33m=\u001b[0m \u001b[0marray\u001b[0m\u001b[1;33m.\u001b[0m\u001b[0mastype\u001b[0m\u001b[1;33m(\u001b[0m\u001b[0mdtype\u001b[0m\u001b[1;33m,\u001b[0m \u001b[0mcasting\u001b[0m\u001b[1;33m=\u001b[0m\u001b[1;34m\"unsafe\"\u001b[0m\u001b[1;33m,\u001b[0m \u001b[0mcopy\u001b[0m\u001b[1;33m=\u001b[0m\u001b[1;32mFalse\u001b[0m\u001b[1;33m)\u001b[0m\u001b[1;33m\u001b[0m\u001b[1;33m\u001b[0m\u001b[0m\n\u001b[0;32m    745\u001b[0m                 \u001b[1;32melse\u001b[0m\u001b[1;33m:\u001b[0m\u001b[1;33m\u001b[0m\u001b[1;33m\u001b[0m\u001b[0m\n\u001b[1;32m--> 746\u001b[1;33m                     \u001b[0marray\u001b[0m \u001b[1;33m=\u001b[0m \u001b[0mnp\u001b[0m\u001b[1;33m.\u001b[0m\u001b[0masarray\u001b[0m\u001b[1;33m(\u001b[0m\u001b[0marray\u001b[0m\u001b[1;33m,\u001b[0m \u001b[0morder\u001b[0m\u001b[1;33m=\u001b[0m\u001b[0morder\u001b[0m\u001b[1;33m,\u001b[0m \u001b[0mdtype\u001b[0m\u001b[1;33m=\u001b[0m\u001b[0mdtype\u001b[0m\u001b[1;33m)\u001b[0m\u001b[1;33m\u001b[0m\u001b[1;33m\u001b[0m\u001b[0m\n\u001b[0m\u001b[0;32m    747\u001b[0m             \u001b[1;32mexcept\u001b[0m \u001b[0mComplexWarning\u001b[0m \u001b[1;32mas\u001b[0m \u001b[0mcomplex_warning\u001b[0m\u001b[1;33m:\u001b[0m\u001b[1;33m\u001b[0m\u001b[1;33m\u001b[0m\u001b[0m\n\u001b[0;32m    748\u001b[0m                 raise ValueError(\n",
      "\u001b[1;31mValueError\u001b[0m: could not convert string to float: '[-5.35281181e-01  2.37762824e-01 -2.85491236e-02  2.46142522e-01\\n  2.37398908e-01  3.60307127e-01  3.82632613e-01 -8.88311677e-03\\n -1.15752764e-01  1.42021462e-01  3.80301833e-01 -1.53642029e-01\\n -1.23459928e-01  2.07639411e-01 -3.63507748e-01 -3.42081755e-01\\n  4.74310040e-01  7.41067231e-02 -3.63065362e-01  4.54661936e-01\\n  8.28482583e-02 -1.14243247e-01 -8.45964968e-01 -3.16479832e-01\\n -5.74448287e-01 -1.91054698e-02 -7.73969531e-01 -5.79280496e-01\\n -5.14554121e-02 -2.47274458e-01 -4.69121903e-01  5.40114120e-02\\n -1.02262706e-01 -1.91872701e-01 -9.15929899e-02 -5.27599990e-01\\n -2.17337832e-01 -3.25925350e-02  5.09218335e-01  8.43315274e-02\\n  1.05539672e-01 -1.58860505e-01  1.44038737e-01  9.47724730e-02\\n -2.55467564e-01  1.05679221e-01 -4.47466433e-01  1.09237373e-01\\n -4.57591772e-01 -5.54057896e-01 -7.63673559e-02 -3.64116281e-01\\n  3.24843377e-02  7.68033639e-02  1.14039890e-01 -3.54275554e-02\\n  1.69224858e-01 -3.71398300e-01 -1.95343882e-01 -2.00728446e-01\\n -6.73607439e-02 -4.09063995e-02 -2.54337341e-01  1.87093288e-01\\n -5.76786995e-01 -1.09228805e-01 -5.14642358e-01  4.79874641e-01\\n  2.62824774e-01  1.33979440e-01  2.45436072e-01 -7.94074237e-01\\n -3.47929895e-01 -1.23226655e+00 -4.06332463e-01  4.21008915e-01\\n -4.75382507e-01  6.46653771e-01 -1.16794713e-01 -4.96865481e-01\\n -3.45074534e-01  7.34431505e-01 -7.04157293e-01 -1.81703031e-01\\n -4.65658784e-01  3.16337436e-01  3.29628199e-01  5.16594248e-03\\n -1.52779236e-01 -5.20793438e-01  3.01384807e-01 -5.25634766e-01\\n  2.75034197e-02  5.28974473e-01  2.29274705e-01 -3.12884361e-01\\n -1.22633331e-01  2.39002779e-01 -4.08689007e-02 -3.05497665e-02\\n  1.98816493e-01  6.82016611e-02  4.85270351e-01 -8.35129380e-01\\n  8.92232880e-02 -3.35297972e-01  5.18972516e-01 -4.91065651e-01\\n -1.28190374e+00  5.12389839e-01 -2.60009319e-01  4.52443868e-01\\n -2.90183723e-02  2.64805168e-01 -2.07166672e-01  1.77961424e-01\\n  1.40930861e-01  8.32510442e-02 -2.54619211e-01  9.58497882e-01\\n  2.50833899e-01  5.39137162e-02  3.44069153e-01  3.91130261e-02\\n  3.35956186e-01  5.49372375e-01  1.33619636e-01 -1.81601495e-01\\n  1.98121965e-02  1.66743338e-01 -3.83754283e-01 -1.04478872e+00\\n -1.75848920e-02 -7.50516713e-01 -2.80174583e-01  1.04766235e-01\\n -3.22237790e-01  1.81625158e-01 -1.03181913e-01 -4.13741022e-01\\n  6.33513331e-01  4.12988156e-01  3.77031237e-01 -6.87923878e-02\\n -7.80258000e-01  3.28187406e-01 -2.73134172e-01 -3.01647097e-01\\n -4.07091260e-01  6.93585873e-02 -1.78364098e-01  3.88357133e-01\\n -1.68632008e-02  3.03132832e-01 -9.89406481e-02  5.66731453e-01\\n  1.01766236e-01 -6.06022514e-02 -5.04362464e-01  1.19954491e+00\\n -5.15786529e-01 -5.64693689e-01 -1.08669244e-01 -7.36823156e-02\\n  6.14260174e-02  3.36193055e-01 -7.13441133e-01  5.71270227e-01\\n  3.34027797e-01  4.84528095e-01 -3.60739082e-02 -1.45649001e-01\\n  1.14457525e-01 -1.16958551e-01  3.35130334e-01 -2.38425851e-01\\n  8.60785842e-02  4.92313594e-01  1.07387796e-01 -6.97631165e-02\\n -3.71501982e-01 -5.64725101e-01 -5.85182160e-02 -2.42386788e-01\\n -1.67098761e-01  9.37358916e-01  1.25063226e-01 -3.91381890e-01\\n -3.33858043e-01  1.18433394e-01  1.59519792e-01 -6.41127229e-02\\n  2.68256813e-02  1.47566482e-01  1.92402408e-01 -1.90671340e-01\\n  4.47028726e-01 -2.03328222e-01 -3.36723655e-01  2.89753109e-01\\n  9.65199023e-02  3.31847489e-01 -2.50298113e-01 -4.71904278e-01\\n  2.77070880e-01 -1.35401532e-01 -1.17338490e+00  7.47752964e-01\\n  1.83032513e-01  1.94042489e-01 -2.50929475e-01  1.96858287e-01\\n -3.29079807e-01 -5.52466154e-01  3.13744336e-01  5.37123561e-01\\n  3.74669254e-01  7.36429632e-01  3.69589418e-01 -2.38209404e-02\\n -4.74591196e-01  5.45069575e-01 -5.22875413e-02 -7.83532083e-01\\n  8.55789259e-02  3.98365498e-01  1.30403981e-01 -5.62478304e-01\\n  2.04054177e-01  5.09674475e-02 -1.42296180e-01 -7.25388050e-01\\n -4.00322944e-01  2.03002438e-01 -2.55897790e-01 -8.62842705e-03\\n  2.43710384e-01  1.48208216e-01  3.68010342e-01 -2.55862653e-01\\n  1.54223919e-01  1.13782600e-01  1.27469391e-01  2.01211050e-01\\n  2.86576509e-01  3.31198692e-01  2.79034413e-02  2.88506359e-01\\n -7.50578716e-02  4.87323225e-01  2.04557016e-01 -9.40495133e-02\\n -1.21259101e-01  1.62332803e-01 -8.42583179e-01 -6.44777343e-02\\n  1.91289291e-01  8.89138505e-02  8.45492855e-02 -3.17568958e-01\\n -2.47314513e-01  5.19413464e-02  3.55168819e-01  5.29620767e-01\\n  8.40413198e-02  4.13943708e-01 -4.39246207e-01 -1.39243186e-01\\n -6.31429791e-01  3.16387534e-01 -2.39795446e-01  1.88558981e-01\\n -2.03334734e-01 -3.68274838e-01 -2.21691892e-01 -1.59268066e-01\\n -5.14167130e-01 -1.45675495e-01  3.32590640e-01 -4.67624307e-01\\n  5.04915714e-01  5.24133742e-01  5.90026438e-01 -7.49139190e-01\\n  4.38992143e-01  5.42978883e-01 -2.30010003e-01  1.58662647e-02\\n -3.36040199e-01  3.04457456e-01  5.39103508e-01 -1.59485757e-01\\n  1.61018036e-02  7.59508729e-01 -6.80169046e-01  1.35205155e-02\\n  2.01821402e-01 -6.54761374e-01 -2.00654566e-01 -1.50937945e-01\\n -7.37823725e-01  2.44507745e-01 -8.22860181e-01 -3.98326933e-01\\n -3.12204286e-03  6.54581785e-01 -4.94631112e-01  5.39517030e-02\\n -2.93914616e-01  2.99953043e-01 -2.22790182e-01  5.12570024e-01\\n  3.44258517e-01  1.37247145e-01  1.89325541e-01 -1.45250440e-01\\n  9.63949978e-01 -7.48255491e-01  5.54573722e-02 -7.99231157e-02\\n -2.24258021e-01 -4.02304471e-01  4.32061367e-02 -2.62046069e-01\\n -4.46835071e-01  2.87154555e-01 -3.03960349e-02  1.66122183e-01\\n  1.90611750e-01  1.17639095e-01  1.75967872e+00 -9.85363573e-02\\n  4.95877057e-01 -3.97415310e-01 -3.48182827e-01 -3.63158703e-01\\n -2.28484020e-01  1.34441316e-01  3.15997958e-01  1.04571082e-01\\n  2.15615481e-01 -5.94216704e-01  2.46066138e-01 -3.70011851e-02\\n -3.74571711e-01  3.89522724e-02 -2.63553441e-01  6.53232485e-02\\n -1.18684787e-02 -1.94588512e-01  3.14726457e-02  8.31587315e-02\\n  3.50577347e-02 -6.19218290e-01 -3.04600328e-01  8.55655789e-01\\n  2.83113837e-01  5.98924577e-01 -3.42819065e-01 -1.19325638e+00\\n -9.59238529e-01  8.59532893e-01 -1.50308728e-01 -3.94029945e-01\\n -1.70802638e-01 -2.15442076e-01  2.03905627e-01 -3.25201154e-01\\n  6.00851001e-03  1.22959226e-01  1.48017988e-01  2.21749678e-01\\n -1.87839389e-01 -4.31526393e-01 -2.53338575e-01 -4.11538124e-01\\n  1.94064721e-01  2.17260607e-02 -1.44619375e-01 -1.17683375e+00\\n  4.02062356e-01 -2.82494426e-01 -3.62765610e-01  7.74497911e-02\\n -1.20058484e-01 -5.62078416e-01  9.45710540e-02  3.24149251e-01\\n -8.32724571e-02  5.32785773e-01  3.95964652e-01  5.37969843e-02\\n -2.12455556e-01 -4.35725786e-02  4.36956882e-02  3.74046504e-01\\n -1.43606976e-01  7.97296286e-01  3.70718181e-01 -1.86621428e-01\\n -2.17818711e-02 -3.00381154e-01 -3.23848993e-01 -7.60220826e-01\\n -4.26791519e-01  4.37487930e-01 -3.02086294e-01 -3.62110853e-01\\n -2.41158396e-01 -1.26804724e-01 -3.80528092e-01  2.04128057e-01\\n -1.05328448e-02 -1.39565498e-01  2.37873733e-01 -3.88896912e-02\\n  1.57166570e-01  5.91762662e-02 -2.05342621e-01  5.93793511e-01\\n -1.11537009e-01  2.84798801e-01  5.09233952e-01 -3.33509415e-01\\n  1.74767926e-01 -2.95085996e-01  2.12619781e-01 -4.44364935e-01\\n -3.72644156e-01  4.24486473e-02  2.86243796e-01  9.32465196e-02\\n -7.09184706e-02 -1.08305894e-01 -1.89573795e-01  3.29794765e-01\\n -2.28495747e-01  2.35699564e-01  9.00980383e-02 -1.01764258e-02\\n  2.81814784e-01  2.71181583e-01  1.72037184e-01 -1.32647127e-01\\n -2.09935680e-01  6.35453403e-01 -4.06657487e-01  2.05864504e-01\\n  3.77487615e-02 -7.25402176e-01 -2.66372174e-01  1.42629333e-02\\n -1.34146243e-01 -6.39981627e-01  7.26164654e-02  1.51563615e-01\\n  2.36629531e-01  5.91968536e-01 -2.09033862e-01  2.01191872e-01\\n  2.01966435e-01  2.66998947e-01  5.54004014e-01  1.55738488e-01\\n  1.23032875e-01 -4.04468119e-01  4.97596025e-01 -4.83375974e-02\\n -4.82301593e-01  3.26119125e-01  4.38759893e-01  4.24348563e-01\\n  3.80748868e-01  1.91527084e-01 -9.18209180e-02  7.43473649e-01\\n  2.71345526e-01 -8.70881788e-03  4.17224169e-01  2.15252414e-01\\n -3.96437436e-01  1.09825991e-01 -3.25073749e-01 -4.09472257e-01\\n -2.75614351e-01  1.68932140e-01 -1.01427436e-01 -6.21723294e-01\\n -3.83966863e-01 -1.18808018e-03  4.18893009e-01 -2.99483806e-01\\n -2.69198656e-01 -5.30316681e-02  9.74035114e-02 -6.84395712e-03\\n -1.27743781e-01  4.97001931e-02  1.85637027e-01  1.71299309e-01\\n -1.59487396e-01  5.43055050e-02  3.95244718e-01  5.81633568e-01\\n  1.66376233e-01 -1.49588838e-01 -4.03777659e-01 -1.24690399e-01\\n  4.68737721e-01 -3.84271257e-02 -2.17500523e-01 -5.55001378e-01\\n -1.86835945e-01 -2.10789189e-01 -9.67973545e-02 -2.94375271e-01\\n -2.49093562e-01 -1.15107790e-01 -3.10324073e-01  5.39097071e-01\\n -5.57398856e-01  2.51838326e-01  7.99499638e-03  1.14473561e-03\\n  3.49443823e-01 -6.13220990e-01  2.57631004e-01  2.54870892e-01\\n -1.90967381e-01 -4.90564853e-01  2.69014895e-01  4.45356756e-01\\n -4.30763245e-01  6.28756821e-01  4.42100644e-01  4.50399220e-01\\n -6.56245410e-01  2.05141738e-01  4.63796675e-01  5.16101718e-01\\n  1.46114931e-01  1.85422048e-01  7.01861084e-02  3.77260834e-01\\n -5.90117693e-01  2.28883430e-01 -2.14784980e-01 -2.32073486e-01\\n -1.64428383e-01 -3.30756903e-01  4.98550683e-01  1.06364286e+00\\n -4.99502897e-01  4.31987852e-01 -2.45573949e-02 -2.82094568e-01\\n  1.90285087e-01  2.21586987e-01  5.37058804e-04 -3.26719761e-01\\n -4.37367022e-01 -1.71545893e-02 -6.97823539e-02  3.19209397e-01\\n  4.57851946e-01 -5.91793001e-01  1.81536283e-02 -2.05688596e-01\\n  3.27207565e-01 -2.45714232e-01  5.00415325e-01 -3.28664482e-01\\n  4.41315234e-01  4.99738127e-01 -5.56550801e-01  9.93449464e-02\\n -1.72458906e-02  3.32139879e-01 -2.01585352e-01  1.72767565e-01\\n  2.28548199e-01  2.43275136e-01 -6.90536350e-02  3.86115946e-02\\n  1.64697282e-02  3.34655881e-01  1.49871334e-01 -3.40892106e-01\\n  1.99466541e-01  1.24385759e-01  5.57527006e-01  1.71866491e-01\\n -4.50000823e-01  3.79695773e-01  2.84505904e-01  5.35729574e-03\\n -8.38871114e-03 -1.84941888e-02  4.53592092e-01 -2.05202222e-01\\n  5.18448830e-01 -9.68455970e-02  7.03221709e-02 -2.60319948e-01\\n -5.13845146e-01  7.51230791e-02  1.65726572e-01 -2.50181824e-01\\n -2.08423510e-01 -4.15840507e-01 -3.54818135e-01 -8.36503804e-02\\n -2.61330366e-01 -2.75001615e-01 -2.20325068e-01  5.50455630e-01\\n  1.82131957e-02  9.10049528e-02 -3.37961882e-01 -6.76496506e-01\\n -9.13596712e-03  1.97716057e-02 -1.94001034e-01  1.43278137e-01\\n  2.44521648e-01  8.18208158e-01 -1.41141866e-03 -2.33274698e-01\\n -6.34640530e-02 -2.83599138e-01 -2.55970240e-01  1.43637997e-03\\n -4.49883550e-01 -2.19058752e-01  5.18811978e-02  4.54367012e-01\\n  1.04956664e-01 -3.05586874e-01 -1.15083471e-01  5.57545781e-01\\n -1.37350693e-01  4.68699872e-01 -2.53781468e-01  1.04518449e+00\\n  2.94180721e-01  3.43196690e-01 -3.13474119e-01  2.92914778e-01\\n  1.07570894e-01 -2.03826278e-01  9.10966471e-03  6.22534335e-01\\n  1.46702126e-01 -6.10716967e-03  4.89890337e-01 -7.94108883e-02\\n  3.97931635e-01  1.54654250e-01 -3.58218625e-02  5.76727688e-01\\n  6.13683201e-02 -2.14162782e-01  2.93310523e-01 -1.03073679e-01\\n -2.29464024e-01 -5.70051789e-01 -2.35175267e-01  2.19795872e-02\\n -2.93406487e-01 -5.29627800e-02 -4.11618918e-01  4.91438925e-01\\n -2.84467191e-01  4.07549948e-01  1.89726185e-02 -4.17915940e-01\\n  4.48838234e-01  8.06632280e-01 -2.77991116e-01  6.60039857e-02\\n -8.60331804e-02  8.78213421e-02 -2.29681015e-01 -1.44011676e-01\\n  4.42992538e-01  2.75100917e-01  5.17431498e-01  6.09614670e-01\\n -3.03728372e-01 -1.12036578e-01  4.82101291e-01 -9.65716913e-02\\n -2.59798884e-01 -3.59939188e-01  4.16878104e-01 -4.65183169e-01\\n  1.45897046e-01 -2.48142615e-01 -3.23102660e-02 -2.83356071e-01\\n  3.19746017e-01 -7.68675089e-01  3.22254658e-01  6.14038169e-01\\n  5.47292829e-02 -1.42925620e-01 -1.85296059e-01 -6.03886060e-02\\n  6.57170191e-02 -5.93974888e-01  4.92214523e-02  4.98478204e-01\\n  2.73236066e-01 -8.97961557e-02  6.06307626e-01  1.03456862e-01\\n  6.83930159e-01 -4.15538639e-01 -3.36955309e-01  2.46907189e-01\\n  3.41498613e-01 -3.80573958e-01  6.96118712e-01  6.09439872e-02\\n -5.10476530e-01 -2.67131209e-01  5.30528463e-02 -4.21770215e-01\\n  1.42987669e-01  4.81031090e-01  5.06460130e-01 -1.37601286e-01\\n -6.32529616e-01 -3.89552474e-01  5.44507861e-01  6.31082892e-01\\n  7.74456039e-02 -1.51441619e-01  1.08270498e-03 -1.84199616e-01\\n  5.78647196e-01 -3.57549250e-01 -3.07938069e-01 -1.42718673e-01\\n  5.75399935e-01  1.83519349e-01 -1.63050398e-01  4.01229918e-01\\n -9.30462703e-02  1.75245795e-02  1.45555809e-01  4.87409621e-01\\n  6.15550041e-01 -6.31291866e-02 -9.84244525e-01 -8.66833404e-02\\n  3.80977929e-01  1.32239953e-01  1.77804127e-01 -7.47316703e-02\\n -3.08161259e-01 -1.26466617e-01 -1.35267988e-01 -4.17313337e-01\\n -3.18962485e-02 -2.42941231e-01 -6.33543059e-02  3.78221929e-01]'"
     ]
    }
   ],
   "source": [
    "# 유사도 계산하기\n",
    "similarity_scores = cosine_similarity(new_complaint_vec, data_vec)[0]\n",
    "\n",
    "# 유사도가 높은 민원 추출하기\n",
    "top_indices = similarity_scores.argsort()[::-1][:3]\n",
    "top_complaints = data.iloc[top_indices]\n",
    "\n",
    "# 결과 출력하기\n",
    "print(\"새로운 민원과 유사한 민원 Top 3:\")\n",
    "for i, row in top_complaints.iterrows():\n",
    "    print(f\"{i+1}. {row['content']} (유사도: {similarity_scores[i]:.2f})\")"
   ]
  },
  {
   "cell_type": "code",
   "execution_count": 50,
   "id": "f0cfa11a",
   "metadata": {},
   "outputs": [],
   "source": [
    "#비슷한 임베딩값 찾기\n",
    "def vector_similarity(x: list[float], y: list[float]) -> float:\n",
    "    \n",
    "    return np.dot(np.array(x), np.array(y))\n",
    "\n",
    "def order_document_sections_by_query_similarity(query: str, contexts: dict[(str, str), np.array]) -> list[(float, (str, str))]:\n",
    "\n",
    "    query_embedding = get_embedding(query)\n",
    "    \n",
    "    document_similarities = sorted([\n",
    "        (vector_similarity(query_embedding, doc_embedding), doc_index) for doc_index, doc_embedding in contexts.items()\n",
    "    ], reverse=True)\n",
    "    \n",
    "    return document_similarities"
   ]
  },
  {
   "cell_type": "code",
   "execution_count": null,
   "id": "43a27dea",
   "metadata": {},
   "outputs": [],
   "source": [
    "order_document_sections_by_query_similarity(\"주차장\", minwon_embedding)[:5]"
   ]
  },
  {
   "cell_type": "code",
   "execution_count": null,
   "id": "2e8ee017",
   "metadata": {},
   "outputs": [],
   "source": []
  }
 ],
 "metadata": {
  "kernelspec": {
   "display_name": "Python 3 (ipykernel)",
   "language": "python",
   "name": "python3"
  },
  "language_info": {
   "codemirror_mode": {
    "name": "ipython",
    "version": 3
   },
   "file_extension": ".py",
   "mimetype": "text/x-python",
   "name": "python",
   "nbconvert_exporter": "python",
   "pygments_lexer": "ipython3",
   "version": "3.9.13"
  }
 },
 "nbformat": 4,
 "nbformat_minor": 5
}
